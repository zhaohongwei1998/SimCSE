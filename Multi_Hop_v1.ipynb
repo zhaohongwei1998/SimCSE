{
  "cells": [
    {
      "cell_type": "markdown",
      "metadata": {
        "id": "view-in-github",
        "colab_type": "text"
      },
      "source": [
        "<a href=\"https://colab.research.google.com/github/zhaohongwei1998/SimCSE/blob/main/Multi_Hop_v1.ipynb\" target=\"_parent\"><img src=\"https://colab.research.google.com/assets/colab-badge.svg\" alt=\"Open In Colab\"/></a>"
      ]
    },
    {
      "cell_type": "markdown",
      "metadata": {
        "id": "s98VaxnlDWE3"
      },
      "source": [
        "multi-hop版本"
      ]
    },
    {
      "cell_type": "code",
      "execution_count": null,
      "metadata": {
        "colab": {
          "base_uri": "https://localhost:8080/"
        },
        "id": "lKXscx65Ddyf",
        "outputId": "fc563d7e-c6ae-4766-a879-981a79cb7b62"
      },
      "outputs": [
        {
          "output_type": "stream",
          "name": "stdout",
          "text": [
            "Thu Feb 10 04:12:31 2022       \n",
            "+-----------------------------------------------------------------------------+\n",
            "| NVIDIA-SMI 460.32.03    Driver Version: 460.32.03    CUDA Version: 11.2     |\n",
            "|-------------------------------+----------------------+----------------------+\n",
            "| GPU  Name        Persistence-M| Bus-Id        Disp.A | Volatile Uncorr. ECC |\n",
            "| Fan  Temp  Perf  Pwr:Usage/Cap|         Memory-Usage | GPU-Util  Compute M. |\n",
            "|                               |                      |               MIG M. |\n",
            "|===============================+======================+======================|\n",
            "|   0  Tesla P100-PCIE...  Off  | 00000000:00:04.0 Off |                    0 |\n",
            "| N/A   35C    P0    33W / 250W |   4239MiB / 16280MiB |      0%      Default |\n",
            "|                               |                      |                  N/A |\n",
            "+-------------------------------+----------------------+----------------------+\n",
            "                                                                               \n",
            "+-----------------------------------------------------------------------------+\n",
            "| Processes:                                                                  |\n",
            "|  GPU   GI   CI        PID   Type   Process name                  GPU Memory |\n",
            "|        ID   ID                                                   Usage      |\n",
            "|=============================================================================|\n",
            "+-----------------------------------------------------------------------------+\n"
          ]
        }
      ],
      "source": [
        "!/opt/bin/nvidia-smi"
      ]
    },
    {
      "cell_type": "code",
      "source": [
        "!pip install gdown\n",
        "!gdown https://drive.google.com/uc?id=12HbavGOtoVCqicvSYWl3zImli5Jz0Nou\n",
        "!gdown https://drive.google.com/uc?id=1VJhSc2TGrPU8zJSVTYwn5kfuG47VaNQ3\n"
      ],
      "metadata": {
        "colab": {
          "base_uri": "https://localhost:8080/"
        },
        "id": "uvft1zyvWzZu",
        "outputId": "b3b13e62-1cfe-4e2e-bb74-60fdfd1af620"
      },
      "execution_count": null,
      "outputs": [
        {
          "output_type": "stream",
          "name": "stdout",
          "text": [
            "Requirement already satisfied: gdown in /usr/local/lib/python3.7/dist-packages (4.2.2)\n",
            "Requirement already satisfied: six in /usr/local/lib/python3.7/dist-packages (from gdown) (1.15.0)\n",
            "Requirement already satisfied: beautifulsoup4 in /usr/local/lib/python3.7/dist-packages (from gdown) (4.6.3)\n",
            "Requirement already satisfied: filelock in /usr/local/lib/python3.7/dist-packages (from gdown) (3.6.0)\n",
            "Requirement already satisfied: requests[socks] in /usr/local/lib/python3.7/dist-packages (from gdown) (2.23.0)\n",
            "Requirement already satisfied: tqdm in /usr/local/lib/python3.7/dist-packages (from gdown) (4.63.0)\n",
            "Requirement already satisfied: chardet<4,>=3.0.2 in /usr/local/lib/python3.7/dist-packages (from requests[socks]->gdown) (3.0.4)\n",
            "Requirement already satisfied: idna<3,>=2.5 in /usr/local/lib/python3.7/dist-packages (from requests[socks]->gdown) (2.10)\n",
            "Requirement already satisfied: certifi>=2017.4.17 in /usr/local/lib/python3.7/dist-packages (from requests[socks]->gdown) (2021.10.8)\n",
            "Requirement already satisfied: urllib3!=1.25.0,!=1.25.1,<1.26,>=1.21.1 in /usr/local/lib/python3.7/dist-packages (from requests[socks]->gdown) (1.24.3)\n",
            "Requirement already satisfied: PySocks!=1.5.7,>=1.5.6 in /usr/local/lib/python3.7/dist-packages (from requests[socks]->gdown) (1.7.1)\n",
            "Downloading...\n",
            "From: https://drive.google.com/uc?id=12HbavGOtoVCqicvSYWl3zImli5Jz0Nou\n",
            "To: /content/mosi.pkl\n",
            "100% 14.2M/14.2M [00:00<00:00, 175MB/s]\n",
            "Access denied with the following error:\n",
            "\n",
            " \tCannot retrieve the public link of the file. You may need to change\n",
            "\tthe permission to 'Anyone with the link', or have had many accesses. \n",
            "\n",
            "You may still be able to access the file from the browser:\n",
            "\n",
            "\t https://drive.google.com/uc?id=1VJhSc2TGrPU8zJSVTYwn5kfuG47VaNQ3 \n",
            "\n"
          ]
        }
      ]
    },
    {
      "cell_type": "code",
      "execution_count": null,
      "metadata": {
        "colab": {
          "base_uri": "https://localhost:8080/"
        },
        "id": "ceEwbELGSv1e",
        "outputId": "ed7cd265-14bb-431c-ed21-51060ca303ac"
      },
      "outputs": [
        {
          "output_type": "stream",
          "name": "stdout",
          "text": [
            "Requirement already satisfied: gdown in /usr/local/lib/python3.7/dist-packages (4.2.1)\n",
            "Requirement already satisfied: requests[socks] in /usr/local/lib/python3.7/dist-packages (from gdown) (2.23.0)\n",
            "Requirement already satisfied: beautifulsoup4 in /usr/local/lib/python3.7/dist-packages (from gdown) (4.6.3)\n",
            "Requirement already satisfied: tqdm in /usr/local/lib/python3.7/dist-packages (from gdown) (4.62.3)\n",
            "Requirement already satisfied: six in /usr/local/lib/python3.7/dist-packages (from gdown) (1.15.0)\n",
            "Requirement already satisfied: filelock in /usr/local/lib/python3.7/dist-packages (from gdown) (3.4.2)\n",
            "Requirement already satisfied: certifi>=2017.4.17 in /usr/local/lib/python3.7/dist-packages (from requests[socks]->gdown) (2021.10.8)\n",
            "Requirement already satisfied: idna<3,>=2.5 in /usr/local/lib/python3.7/dist-packages (from requests[socks]->gdown) (2.10)\n",
            "Requirement already satisfied: urllib3!=1.25.0,!=1.25.1,<1.26,>=1.21.1 in /usr/local/lib/python3.7/dist-packages (from requests[socks]->gdown) (1.24.3)\n",
            "Requirement already satisfied: chardet<4,>=3.0.2 in /usr/local/lib/python3.7/dist-packages (from requests[socks]->gdown) (3.0.4)\n",
            "Requirement already satisfied: PySocks!=1.5.7,>=1.5.6 in /usr/local/lib/python3.7/dist-packages (from requests[socks]->gdown) (1.7.1)\n",
            "Downloading...\n",
            "From: https://drive.google.com/uc?id=12HbavGOtoVCqicvSYWl3zImli5Jz0Nou\n",
            "To: /content/mosi.pkl\n",
            "100% 14.2M/14.2M [00:00<00:00, 169MB/s]\n",
            "Downloading...\n",
            "From: https://drive.google.com/uc?id=1VJhSc2TGrPU8zJSVTYwn5kfuG47VaNQ3\n",
            "To: /content/mosei.pkl\n",
            "100% 508M/508M [00:01<00:00, 302MB/s]\n",
            "Requirement already satisfied: transformers in /usr/local/lib/python3.7/dist-packages (4.16.2)\n",
            "Requirement already satisfied: huggingface-hub<1.0,>=0.1.0 in /usr/local/lib/python3.7/dist-packages (from transformers) (0.4.0)\n",
            "Requirement already satisfied: requests in /usr/local/lib/python3.7/dist-packages (from transformers) (2.23.0)\n",
            "Requirement already satisfied: tokenizers!=0.11.3,>=0.10.1 in /usr/local/lib/python3.7/dist-packages (from transformers) (0.11.4)\n",
            "Requirement already satisfied: packaging>=20.0 in /usr/local/lib/python3.7/dist-packages (from transformers) (21.3)\n",
            "Requirement already satisfied: regex!=2019.12.17 in /usr/local/lib/python3.7/dist-packages (from transformers) (2019.12.20)\n",
            "Requirement already satisfied: filelock in /usr/local/lib/python3.7/dist-packages (from transformers) (3.4.2)\n",
            "Requirement already satisfied: importlib-metadata in /usr/local/lib/python3.7/dist-packages (from transformers) (4.10.1)\n",
            "Requirement already satisfied: pyyaml>=5.1 in /usr/local/lib/python3.7/dist-packages (from transformers) (6.0)\n",
            "Requirement already satisfied: numpy>=1.17 in /usr/local/lib/python3.7/dist-packages (from transformers) (1.19.5)\n",
            "Requirement already satisfied: tqdm>=4.27 in /usr/local/lib/python3.7/dist-packages (from transformers) (4.62.3)\n",
            "Requirement already satisfied: sacremoses in /usr/local/lib/python3.7/dist-packages (from transformers) (0.0.47)\n",
            "Requirement already satisfied: typing-extensions>=3.7.4.3 in /usr/local/lib/python3.7/dist-packages (from huggingface-hub<1.0,>=0.1.0->transformers) (3.10.0.2)\n",
            "Requirement already satisfied: pyparsing!=3.0.5,>=2.0.2 in /usr/local/lib/python3.7/dist-packages (from packaging>=20.0->transformers) (3.0.7)\n",
            "Requirement already satisfied: zipp>=0.5 in /usr/local/lib/python3.7/dist-packages (from importlib-metadata->transformers) (3.7.0)\n",
            "Requirement already satisfied: certifi>=2017.4.17 in /usr/local/lib/python3.7/dist-packages (from requests->transformers) (2021.10.8)\n",
            "Requirement already satisfied: idna<3,>=2.5 in /usr/local/lib/python3.7/dist-packages (from requests->transformers) (2.10)\n",
            "Requirement already satisfied: urllib3!=1.25.0,!=1.25.1,<1.26,>=1.21.1 in /usr/local/lib/python3.7/dist-packages (from requests->transformers) (1.24.3)\n",
            "Requirement already satisfied: chardet<4,>=3.0.2 in /usr/local/lib/python3.7/dist-packages (from requests->transformers) (3.0.4)\n",
            "Requirement already satisfied: joblib in /usr/local/lib/python3.7/dist-packages (from sacremoses->transformers) (1.1.0)\n",
            "Requirement already satisfied: six in /usr/local/lib/python3.7/dist-packages (from sacremoses->transformers) (1.15.0)\n",
            "Requirement already satisfied: click in /usr/local/lib/python3.7/dist-packages (from sacremoses->transformers) (7.1.2)\n"
          ]
        }
      ],
      "source": [
        "\n",
        "!pip install transformers"
      ]
    },
    {
      "cell_type": "code",
      "execution_count": null,
      "metadata": {
        "id": "V9ifBb9hHf5F"
      },
      "outputs": [],
      "source": [
        "max_seq_length = 50\n",
        "acoustic_dim = 74\n",
        "visual_dim = 47\n",
        "train_batch_size = 32\n",
        "dev_batch_size = 32\n",
        "test_batch_size = 32\n",
        "n_epochs = 40\n",
        "att_dropout = 0.1\n",
        "state_dropout = 0.2"
      ]
    },
    {
      "cell_type": "code",
      "execution_count": null,
      "metadata": {
        "id": "eXJ3Lvd1S6X_"
      },
      "outputs": [],
      "source": [
        "import torch\n",
        "import torch.nn as nn\n",
        "from transformers import BertModel\n",
        "from torch.nn.utils.rnn import pack_padded_sequence, pad_packed_sequence\n",
        "import math\n",
        "DEVICE = torch.device(\"cuda:0\")\n",
        "\n",
        "class Net(nn.Module):\n",
        "    def __init__(self):\n",
        "        super().__init__()\n",
        "        self.bert = BertModel.from_pretrained(\"bert-base-uncased\")\n",
        "        self.t_lstm = nn.LSTM(768, 100, bidirectional=True, batch_first=True)\n",
        "        self.a_lstm = nn.LSTM(74, 100, bidirectional=True, batch_first=True)\n",
        "        self.v_lstm = nn.LSTM(47, 100, bidirectional=True, batch_first=True)\n",
        "        self.t_linear = nn.Linear(2,1,bias=False)\n",
        "        self.a_linear = nn.Linear(2, 1, bias=False)\n",
        "        self.v_linear = nn.Linear(2, 1, bias=False)\n",
        "        self.at = Uni_Hop()\n",
        "        self.ta = Uni_Hop()\n",
        "\n",
        "        self.vt = Uni_Hop()\n",
        "        self.tv = Uni_Hop()\n",
        "\n",
        "        self.avt = Uni_Hop()\n",
        "        self.tav = Uni_Hop()\n",
        "\n",
        "        self.linear = nn.Linear(100, 1)\n",
        "\n",
        "    def forward(self, input_ids, segment_ids, input_mask, acoustic, visual):\n",
        "        # t\n",
        "        out = self.bert(input_ids=input_ids, attention_mask=input_mask, token_type_ids=segment_ids)\n",
        "        text = out[0]\n",
        "        lengths = torch.sum(input_mask, dim=1).tolist()\n",
        "        t_pack = pack_padded_sequence(text, lengths, batch_first=True, enforce_sorted=False)\n",
        "        t_rnn, _ = self.t_lstm(t_pack)\n",
        "        t_unpack = pad_packed_sequence(t_rnn,batch_first=True,total_length=50)\n",
        "        t_unpack = t_unpack[0]\n",
        "        t_unpack = t_unpack.view(t_unpack.size(0), t_unpack.size(1), 2, 100)\n",
        "        t_unpack = t_unpack.transpose(-1,-2)\n",
        "        t_unpack = self.t_linear(t_unpack)\n",
        "        t_unpack = torch.squeeze(t_unpack)\n",
        "        # t_unpack,_=self.t_lstm(text)\n",
        "        # a\n",
        "        a_pack = pack_padded_sequence(acoustic, lengths, batch_first=True, enforce_sorted=False)\n",
        "        a_rnn, _ = self.a_lstm(a_pack)\n",
        "        a_unpack = pad_packed_sequence(a_rnn,batch_first=True, total_length=50)\n",
        "        a_unpack = a_unpack[0]\n",
        "        a_unpack = a_unpack.view(a_unpack.size(0), a_unpack.size(1), 2, 100)\n",
        "        a_unpack = a_unpack.transpose(-1, -2)\n",
        "        a_unpack = self.a_linear(a_unpack)\n",
        "        a_unpack = torch.squeeze(a_unpack)\n",
        "        # v\n",
        "        v_pack = pack_padded_sequence(visual, lengths, batch_first=True, enforce_sorted=False)\n",
        "        v_rnn, _ = self.v_lstm(v_pack)\n",
        "        v_unpack = pad_packed_sequence(v_rnn,batch_first=True, total_length=50)\n",
        "        v_unpack= v_unpack[0]\n",
        "        v_unpack = v_unpack.view(v_unpack.size(0), v_unpack.size(1), 2, 100)\n",
        "        v_unpack = v_unpack.transpose(-1, -2)\n",
        "        v_unpack = self.v_linear(v_unpack)\n",
        "        v_unpack = torch.squeeze(v_unpack)\n",
        "\n",
        "        ta = self.ta(t_unpack,a_unpack,input_mask)\n",
        "        at = self.at(ta, t_unpack, input_mask)\n",
        "        tv = self.tv(t_unpack,v_unpack,input_mask)\n",
        "        vt = self.vt(tv, t_unpack, input_mask)\n",
        "        avt = self.avt(at, vt, input_mask)\n",
        "        tav = self.tav(avt,vt,input_mask)\n",
        "        tav = tav[:,0,:]\n",
        "        output = self.linear(tav)\n",
        "\n",
        "        return output\n",
        "\n",
        "\n",
        "class Uni_Hop(nn.Module):\n",
        "    def __init__(self):\n",
        "        super().__init__()\n",
        "        self.Wq = nn.Linear(100, 100)\n",
        "        self.Wk = nn.Linear(100, 100)\n",
        "        self.Wv = nn.Linear(100, 100)\n",
        "        self.att_drop = nn.Dropout(att_dropout)\n",
        "        self.state_drop = nn.Dropout(state_dropout)\n",
        "        self.ln = nn.LayerNorm(100)\n",
        "\n",
        "    def calc_mask_score(self, attention_mask):\n",
        "        # input_size b*n\n",
        "        # output_size b*n*n\n",
        "\n",
        "        mask_score = torch.zeros(attention_mask.size(0), attention_mask.size(1), attention_mask.size(1)).to(DEVICE)\n",
        "        mask_score = mask_score + attention_mask[:, :, None]\n",
        "        mask_score = (1.0 - mask_score) * -10000\n",
        "        return mask_score\n",
        "\n",
        "    def forward(self, q, k_v, attention_mask):\n",
        "        Q = self.Wq(q)\n",
        "        K = self.Wk(k_v)\n",
        "        V = self.Wv(k_v)\n",
        "\n",
        "        attention_score = torch.matmul(Q, K.transpose(-1, -2)) / math.sqrt(100)\n",
        "        attention_score = attention_score + self.calc_mask_score(attention_mask)\n",
        "        attention_score = nn.Softmax(dim=-1)(attention_score)\n",
        "        attention_score = self.att_drop(attention_score)\n",
        "\n",
        "        O = torch.matmul(attention_score, V)\n",
        "        O = self.state_drop(O)\n",
        "        O = self.ln(k_v + O)\n",
        "        return O\n"
      ]
    },
    {
      "cell_type": "code",
      "execution_count": null,
      "metadata": {
        "id": "ZJ81epgES7-G"
      },
      "outputs": [],
      "source": [
        "import pickle\n",
        "import torch\n",
        "#from net import Net\n",
        "\n",
        "from torch.utils.data import TensorDataset, DataLoader\n",
        "import numpy as np\n",
        "import torch\n",
        "import torch.nn as nn\n",
        "from transformers.optimization import AdamW\n",
        "from transformers import get_linear_schedule_with_warmup\n",
        "from transformers import BertTokenizer\n",
        "from sklearn.metrics import accuracy_score, f1_score\n",
        "import pandas as pd\n",
        "import pickle as pkl\n",
        "from matplotlib import pyplot as plt\n",
        "DEVICE = torch.device(\"cuda:0\")\n",
        "#DEVICE = torch.device(\"cpu\")\n",
        "with open(f\"mosi.pkl\",mode=\"rb\") as handle:\n",
        "  data = pickle.load(handle)\n",
        "train_data = data[\"train\"]\n",
        "dev_data = data[\"dev\"]\n",
        "test_data = data[\"test\"]\n",
        "# print(len(train_data))\n",
        "\n",
        "\n",
        "gradient_accumulation_step = 1\n",
        "tokenizer = BertTokenizer.from_pretrained(\"bert-base-uncased\")\n",
        "def prep_train_dataloader():\n",
        "    features = []\n",
        "    for (ex_index, example) in enumerate(train_data):\n",
        "        (words, visual, acoustic), label_id, segment = example\n",
        "        tokens, inversions = [], []\n",
        "        # print(\"visual.shape\", visual.shape)\n",
        "        # print(\"acoustic.shape\", acoustic.shape)\n",
        "        # print(words)\n",
        "        for (idx, word) in enumerate(words):\n",
        "            tokenized = tokenizer.tokenize(word)\n",
        "            tokens.extend(tokenized)\n",
        "            inversions.extend([idx] * len(tokenized))\n",
        "            # print(tokenized)\n",
        "        # if ex_index == 5:\n",
        "        #   break\n",
        "\n",
        "        aligned_visual = []\n",
        "        aligned_acoustic = []\n",
        "        for inv_idx in inversions:\n",
        "            aligned_visual.append(visual[inv_idx, :])\n",
        "            aligned_acoustic.append(acoustic[inv_idx, :])\n",
        "\n",
        "        visual = np.array(aligned_visual)\n",
        "        acoustic = np.array(aligned_acoustic)\n",
        "\n",
        "        if len(tokens) > max_seq_length - 2:\n",
        "            tokens = tokens[: max_seq_length - 2]\n",
        "            acoustic = acoustic[: max_seq_length - 2]\n",
        "            visual = visual[: max_seq_length - 2]\n",
        "\n",
        "        # 将token进行转换\n",
        "        CLS = tokenizer.cls_token\n",
        "        SEP = tokenizer.sep_token\n",
        "        tokens = [CLS] + tokens + [SEP]\n",
        "        acoustic_zero = np.zeros((1, acoustic_dim))\n",
        "        visual_zero = np.zeros((1, visual_dim))\n",
        "        acoustic = np.concatenate((acoustic_zero, acoustic, acoustic_zero))\n",
        "        visual = np.concatenate((visual_zero, visual, visual_zero))\n",
        "\n",
        "        input_ids = tokenizer.convert_tokens_to_ids(tokens)\n",
        "        segment_ids = [0] * len(input_ids)\n",
        "        input_mask = [1] * len(input_ids)\n",
        "\n",
        "        # 加PAD\n",
        "        pad_length = max_seq_length - len(input_ids)\n",
        "        acoustic_padding = np.zeros((pad_length, acoustic_dim))\n",
        "        acoustic = np.concatenate((acoustic, acoustic_padding))\n",
        "\n",
        "        visual_padding = np.zeros((pad_length, visual_dim))\n",
        "        visual = np.concatenate((visual, visual_padding))\n",
        "\n",
        "        padding = [0] * pad_length\n",
        "        input_ids += padding\n",
        "        input_mask += padding\n",
        "        segment_ids += padding\n",
        "        features.append((input_ids, segment_ids, input_mask, acoustic, visual, label_id))\n",
        "\n",
        "    # 把数组列表转换为tensor类型\n",
        "    all_input_ids = torch.tensor([f[0] for f in features], dtype=torch.long)\n",
        "    all_segment_ids = torch.tensor([f[1] for f in features], dtype=torch.long)\n",
        "    all_input_mask = torch.tensor([f[2] for f in features], dtype=torch.long)\n",
        "    all_acoustic = torch.tensor([f[3] for f in features], dtype=torch.float)\n",
        "    all_visual = torch.tensor([f[4] for f in features], dtype=torch.float)\n",
        "    all_label_ids = torch.tensor([f[5] for f in features], dtype=torch.float)\n",
        "\n",
        "    train_dataset = TensorDataset(all_input_ids, all_segment_ids, all_input_mask, all_acoustic, all_visual, all_label_ids)\n",
        "    train_dataloader = DataLoader(train_dataset, batch_size=train_batch_size, shuffle=True)\n",
        "    num_train_optimization_steps = (int(len(train_dataset) / train_batch_size / gradient_accumulation_step) * n_epochs)\n",
        "    return num_train_optimization_steps,train_dataloader\n",
        "\n",
        "def prep_dev_dataloader():\n",
        "    features = []\n",
        "    for (ex_index, example) in enumerate(dev_data):\n",
        "        (words, visual, acoustic), label_id, segment = example\n",
        "        tokens, inversions = [], []\n",
        "        # print(\"visual.shape\", visual.shape)\n",
        "        # print(\"acoustic.shape\", acoustic.shape)\n",
        "        # print(words)\n",
        "        for (idx, word) in enumerate(words):\n",
        "            tokenized = tokenizer.tokenize(word)\n",
        "            tokens.extend(tokenized)\n",
        "            inversions.extend([idx] * len(tokenized))\n",
        "            # print(tokenized)\n",
        "        # if ex_index == 5:\n",
        "        #   break\n",
        "\n",
        "        aligned_visual = []\n",
        "        aligned_acoustic = []\n",
        "        for inv_idx in inversions:\n",
        "            aligned_visual.append(visual[inv_idx, :])\n",
        "            aligned_acoustic.append(acoustic[inv_idx, :])\n",
        "\n",
        "        visual = np.array(aligned_visual)\n",
        "        acoustic = np.array(aligned_acoustic)\n",
        "\n",
        "        if len(tokens) > max_seq_length - 2:\n",
        "            tokens = tokens[: max_seq_length - 2]\n",
        "            acoustic = acoustic[: max_seq_length - 2]\n",
        "            visual = visual[: max_seq_length - 2]\n",
        "\n",
        "        # 将token进行转换\n",
        "        CLS = tokenizer.cls_token\n",
        "        SEP = tokenizer.sep_token\n",
        "        tokens = [CLS] + tokens + [SEP]\n",
        "        acoustic_zero = np.zeros((1, acoustic_dim))\n",
        "        visual_zero = np.zeros((1, visual_dim))\n",
        "        acoustic = np.concatenate((acoustic_zero, acoustic, acoustic_zero))\n",
        "        visual = np.concatenate((visual_zero, visual, visual_zero))\n",
        "\n",
        "        input_ids = tokenizer.convert_tokens_to_ids(tokens)\n",
        "        segment_ids = [0] * len(input_ids)\n",
        "        input_mask = [1] * len(input_ids)\n",
        "\n",
        "        # 加PAD\n",
        "        pad_length = max_seq_length - len(input_ids)\n",
        "        acoustic_padding = np.zeros((pad_length, acoustic_dim))\n",
        "        acoustic = np.concatenate((acoustic, acoustic_padding))\n",
        "\n",
        "        visual_padding = np.zeros((pad_length, visual_dim))\n",
        "        visual = np.concatenate((visual, visual_padding))\n",
        "\n",
        "        padding = [0] * pad_length\n",
        "        input_ids += padding\n",
        "        input_mask += padding\n",
        "        segment_ids += padding\n",
        "        features.append((input_ids, segment_ids, input_mask, acoustic, visual, label_id))\n",
        "\n",
        "    # 把数组列表转换为tensor类型\n",
        "    all_input_ids = torch.tensor([f[0] for f in features], dtype=torch.long)\n",
        "    all_segment_ids = torch.tensor([f[1] for f in features], dtype=torch.long)\n",
        "    all_input_mask = torch.tensor([f[2] for f in features], dtype=torch.long)\n",
        "    all_acoustic = torch.tensor([f[3] for f in features], dtype=torch.float)\n",
        "    all_visual = torch.tensor([f[4] for f in features], dtype=torch.float)\n",
        "    all_label_ids = torch.tensor([f[5] for f in features], dtype=torch.float)\n",
        "\n",
        "    dev_dataset = TensorDataset(all_input_ids, all_segment_ids, all_input_mask, all_acoustic, all_visual,\n",
        "                                  all_label_ids)\n",
        "    dev_dataloader = DataLoader(dev_dataset, batch_size=dev_batch_size, shuffle=True)\n",
        "    return dev_dataloader\n",
        "def prep_test_dataloader():\n",
        "    features = []\n",
        "    for (ex_index, example) in enumerate(test_data):\n",
        "        (words, visual, acoustic), label_id, segment = example\n",
        "        tokens, inversions = [], []\n",
        "        # print(\"visual.shape\", visual.shape)\n",
        "        # print(\"acoustic.shape\", acoustic.shape)\n",
        "        # print(words)\n",
        "        for (idx, word) in enumerate(words):\n",
        "            tokenized = tokenizer.tokenize(word)\n",
        "            tokens.extend(tokenized)\n",
        "            inversions.extend([idx] * len(tokenized))\n",
        "            # print(tokenized)\n",
        "        # if ex_index == 5:\n",
        "        #   break\n",
        "\n",
        "        aligned_visual = []\n",
        "        aligned_acoustic = []\n",
        "        for inv_idx in inversions:\n",
        "            aligned_visual.append(visual[inv_idx, :])\n",
        "            aligned_acoustic.append(acoustic[inv_idx, :])\n",
        "\n",
        "        visual = np.array(aligned_visual)\n",
        "        acoustic = np.array(aligned_acoustic)\n",
        "\n",
        "        if len(tokens) > max_seq_length - 2:\n",
        "            tokens = tokens[: max_seq_length - 2]\n",
        "            acoustic = acoustic[: max_seq_length - 2]\n",
        "            visual = visual[: max_seq_length - 2]\n",
        "\n",
        "        # 将token进行转换\n",
        "        CLS = tokenizer.cls_token\n",
        "        SEP = tokenizer.sep_token\n",
        "        tokens = [CLS] + tokens + [SEP]\n",
        "        acoustic_zero = np.zeros((1, acoustic_dim))\n",
        "        visual_zero = np.zeros((1, visual_dim))\n",
        "        acoustic = np.concatenate((acoustic_zero, acoustic, acoustic_zero))\n",
        "        visual = np.concatenate((visual_zero, visual, visual_zero))\n",
        "\n",
        "        input_ids = tokenizer.convert_tokens_to_ids(tokens)\n",
        "        segment_ids = [0] * len(input_ids)\n",
        "        input_mask = [1] * len(input_ids)\n",
        "\n",
        "        # 加PAD\n",
        "        pad_length = max_seq_length - len(input_ids)\n",
        "        acoustic_padding = np.zeros((pad_length, acoustic_dim))\n",
        "        acoustic = np.concatenate((acoustic, acoustic_padding))\n",
        "\n",
        "        visual_padding = np.zeros((pad_length, visual_dim))\n",
        "        visual = np.concatenate((visual, visual_padding))\n",
        "\n",
        "        padding = [0] * pad_length\n",
        "        input_ids += padding\n",
        "        input_mask += padding\n",
        "        segment_ids += padding\n",
        "        features.append((input_ids, segment_ids, input_mask, acoustic, visual, label_id))\n",
        "\n",
        "    # 把数组列表转换为tensor类型\n",
        "    all_input_ids = torch.tensor([f[0] for f in features], dtype=torch.long)\n",
        "    all_segment_ids = torch.tensor([f[1] for f in features], dtype=torch.long)\n",
        "    all_input_mask = torch.tensor([f[2] for f in features], dtype=torch.long)\n",
        "    all_acoustic = torch.tensor([f[3] for f in features], dtype=torch.float)\n",
        "    all_visual = torch.tensor([f[4] for f in features], dtype=torch.float)\n",
        "    all_label_ids = torch.tensor([f[5] for f in features], dtype=torch.float)\n",
        "\n",
        "    test_dataset = TensorDataset(all_input_ids, all_segment_ids, all_input_mask, all_acoustic, all_visual,\n",
        "                                  all_label_ids)\n",
        "    test_dataloader = DataLoader(test_dataset, batch_size=test_batch_size, shuffle=True)\n",
        "    return test_dataloader\n",
        "\n",
        "# preparing for train:optimizer, schedular\n",
        "# optimizer\n",
        "def prep_for_training(num_train_optimization_steps):\n",
        "    model = Net()\n",
        "    model.to(DEVICE)\n",
        "\n",
        "\n",
        "    param_optimizer = list(model.named_parameters())\n",
        "    no_decay = [\"bias\", \"LayerNorm.bias\", \"LayerNorm.weight\"]\n",
        "    optimizer_grouped_parameters = [\n",
        "        {\n",
        "            \"params\": [\n",
        "                p for n, p in param_optimizer if not any(nd in n for nd in no_decay)\n",
        "            ],\n",
        "            \"weight_decay\": 0.01\n",
        "        },\n",
        "        {\n",
        "            \"params\": [\n",
        "                p for n, p in param_optimizer if any(nd in n for nd in no_decay)\n",
        "            ],\n",
        "            \"weight_decay\": 0.0\n",
        "        }\n",
        "    ]\n",
        "    optimizer = AdamW(optimizer_grouped_parameters, lr=1e-5)\n",
        "\n",
        "    scheduler = get_linear_schedule_with_warmup(optimizer, num_warmup_steps=0.1 * num_train_optimization_steps,\n",
        "                                                num_training_steps=num_train_optimization_steps)\n",
        "    return model, optimizer, scheduler\n",
        "\n",
        "# train_epoch\n",
        "from torch.nn import MSELoss\n",
        "from tqdm import tqdm\n",
        "\n",
        "def train_epoch(model:nn.Module, train_dataloader:DataLoader, optimizer, scheduler):\n",
        "    model.train()\n",
        "    tr_loss = 0\n",
        "    nb_tr_steps = 0\n",
        "    for step, batch in enumerate(tqdm(train_dataloader, desc=\"Iteration\")):\n",
        "        batch = tuple(t.to(DEVICE) for t in batch)\n",
        "        input_ids, segment_ids, input_mask, acoustic, visual, label_ids = batch\n",
        "        output = model(input_ids=input_ids, segment_ids=segment_ids, input_mask=input_mask, acoustic=acoustic, visual=visual)\n",
        "        loss_func = MSELoss()\n",
        "        loss = loss_func(output.view(-1),label_ids.view(-1))\n",
        "        loss.backward()\n",
        "        tr_loss += loss.item()\n",
        "        nb_tr_steps += 1\n",
        "        optimizer.step()\n",
        "        scheduler.step()\n",
        "        optimizer.zero_grad()\n",
        "    return tr_loss/nb_tr_steps\n",
        "\n",
        "def dev_epoch(model,dev_dataloader):\n",
        "    model.eval()\n",
        "    dev_loss = 0\n",
        "    nb_dev_steps = 0\n",
        "\n",
        "    with torch.no_grad():\n",
        "        for step, batch in enumerate(tqdm(dev_dataloader,desc=\"Iteration\")):\n",
        "            batch = tuple(t.to(DEVICE) for t in batch)\n",
        "            input_ids, segment_ids, input_mask, acoustic, visual, label_ids = batch\n",
        "            output = model(input_ids=input_ids, segment_ids=segment_ids, input_mask=input_mask, acoustic=acoustic,\n",
        "                           visual=visual)\n",
        "            loss_func = MSELoss()\n",
        "            loss = loss_func(output.view(-1), label_ids.view(-1))\n",
        "            dev_loss+=loss.item()\n",
        "            nb_dev_steps += 1\n",
        "    return dev_loss/nb_dev_steps\n",
        "\n",
        "def test_epoch(model,test_dataloader):\n",
        "    model.eval()\n",
        "    preds = []\n",
        "    labels = []\n",
        "\n",
        "    with torch.no_grad():\n",
        "        for batch in tqdm(test_dataloader):\n",
        "            batch = tuple(t.to(DEVICE) for t in batch)\n",
        "            input_ids, segment_ids, input_mask, acoustic, visual, label_ids = batch\n",
        "            output = model(input_ids=input_ids, segment_ids=segment_ids, input_mask=input_mask, acoustic=acoustic,\n",
        "                           visual=visual)\n",
        "            pred= output.detach().cpu().numpy()\n",
        "            label =label_ids.detach().cpu().numpy()\n",
        "\n",
        "            pred =np.squeeze(pred).tolist()\n",
        "            label = np.squeeze(label).tolist()\n",
        "            preds.extend(pred)\n",
        "            labels.extend(label)\n",
        "    preds=np.array(preds)\n",
        "    labels = np.array(labels)\n",
        "    return preds, labels\n",
        "def test_score(model,test_dataloader):\n",
        "    preds, y_test =test_epoch(model,test_dataloader)\n",
        "    non_zeros =np.array([i for i,e in enumerate(y_test) if e!=0])\n",
        "    preds_non = preds[non_zeros]\n",
        "    y_test_non = y_test[non_zeros]\n",
        "    #回归\n",
        "    mae_non = np.mean(np.absolute(preds_non-y_test_non))\n",
        "    corr_non =np.corrcoef(preds_non,y_test_non)[0][1]\n",
        "    #分类\n",
        "    preds_non = preds_non>=0\n",
        "    y_test_non = y_test_non>=0\n",
        "    acc_non = accuracy_score(y_test_non, preds_non)\n",
        "    f_score_non =f1_score(y_test_non,preds_non,average=\"weighted\")\n",
        "\n",
        "    #acc,f_score\n",
        "    preds = preds>=0\n",
        "    y_test = y_test>=0\n",
        "    acc = accuracy_score(y_test,preds)\n",
        "    f_score = f1_score(y_test,preds)\n",
        "\n",
        "    return mae_non,corr_non,acc,acc_non,f_score,f_score_non\n",
        "\n"
      ]
    },
    {
      "cell_type": "code",
      "execution_count": null,
      "metadata": {
        "id": "-WqjfU4nS9zu",
        "colab": {
          "base_uri": "https://localhost:8080/"
        },
        "outputId": "062f7988-c508-469b-e0e8-4f614e34c530"
      },
      "outputs": [
        {
          "output_type": "stream",
          "name": "stderr",
          "text": [
            "Some weights of the model checkpoint at bert-base-uncased were not used when initializing BertModel: ['cls.predictions.transform.LayerNorm.bias', 'cls.predictions.transform.dense.weight', 'cls.seq_relationship.weight', 'cls.predictions.transform.LayerNorm.weight', 'cls.predictions.decoder.weight', 'cls.predictions.bias', 'cls.seq_relationship.bias', 'cls.predictions.transform.dense.bias']\n",
            "- This IS expected if you are initializing BertModel from the checkpoint of a model trained on another task or with another architecture (e.g. initializing a BertForSequenceClassification model from a BertForPreTraining model).\n",
            "- This IS NOT expected if you are initializing BertModel from the checkpoint of a model that you expect to be exactly identical (initializing a BertForSequenceClassification model from a BertForSequenceClassification model).\n",
            "/usr/local/lib/python3.7/dist-packages/transformers/optimization.py:309: FutureWarning: This implementation of AdamW is deprecated and will be removed in a future version. Use thePyTorch implementation torch.optim.AdamW instead, or set `no_deprecation_warning=True` to disable this warning\n",
            "  FutureWarning,\n",
            "Iteration: 100%|██████████| 41/41 [00:07<00:00,  5.19it/s]\n",
            "Iteration: 100%|██████████| 8/8 [00:00<00:00, 17.55it/s]\n",
            "100%|██████████| 22/22 [00:01<00:00, 16.23it/s]\n"
          ]
        },
        {
          "output_type": "stream",
          "name": "stdout",
          "text": [
            "0 2.6044752510582527 3.3225592970848083 0.5299270072992701\n"
          ]
        },
        {
          "output_type": "stream",
          "name": "stderr",
          "text": [
            "Iteration: 100%|██████████| 41/41 [00:07<00:00,  5.21it/s]\n",
            "Iteration: 100%|██████████| 8/8 [00:00<00:00, 17.54it/s]\n",
            "100%|██████████| 22/22 [00:01<00:00, 16.24it/s]\n"
          ]
        },
        {
          "output_type": "stream",
          "name": "stdout",
          "text": [
            "1 2.4510699626876087 2.7573190182447433 0.5474452554744526\n"
          ]
        },
        {
          "output_type": "stream",
          "name": "stderr",
          "text": [
            "Iteration: 100%|██████████| 41/41 [00:07<00:00,  5.23it/s]\n",
            "Iteration: 100%|██████████| 8/8 [00:00<00:00, 17.68it/s]\n",
            "100%|██████████| 22/22 [00:01<00:00, 16.29it/s]\n"
          ]
        },
        {
          "output_type": "stream",
          "name": "stdout",
          "text": [
            "2 2.3402579732057527 2.7172546088695526 0.5605839416058395\n"
          ]
        },
        {
          "output_type": "stream",
          "name": "stderr",
          "text": [
            "Iteration: 100%|██████████| 41/41 [00:07<00:00,  5.22it/s]\n",
            "Iteration: 100%|██████████| 8/8 [00:00<00:00, 17.75it/s]\n",
            "100%|██████████| 22/22 [00:01<00:00, 16.18it/s]\n"
          ]
        },
        {
          "output_type": "stream",
          "name": "stdout",
          "text": [
            "3 2.1595889547976053 2.855980336666107 0.6043795620437956\n"
          ]
        },
        {
          "output_type": "stream",
          "name": "stderr",
          "text": [
            "Iteration: 100%|██████████| 41/41 [00:07<00:00,  5.17it/s]\n",
            "Iteration: 100%|██████████| 8/8 [00:00<00:00, 17.50it/s]\n",
            "100%|██████████| 22/22 [00:01<00:00, 16.21it/s]\n"
          ]
        },
        {
          "output_type": "stream",
          "name": "stdout",
          "text": [
            "4 2.0996018880751075 2.821631997823715 0.6408759124087591\n"
          ]
        },
        {
          "output_type": "stream",
          "name": "stderr",
          "text": [
            "Iteration: 100%|██████████| 41/41 [00:07<00:00,  5.21it/s]\n",
            "Iteration: 100%|██████████| 8/8 [00:00<00:00, 17.57it/s]\n",
            "100%|██████████| 22/22 [00:01<00:00, 16.21it/s]\n"
          ]
        },
        {
          "output_type": "stream",
          "name": "stdout",
          "text": [
            "5 1.95358641845424 2.353085905313492 0.6613138686131387\n"
          ]
        },
        {
          "output_type": "stream",
          "name": "stderr",
          "text": [
            "Iteration: 100%|██████████| 41/41 [00:07<00:00,  5.21it/s]\n",
            "Iteration: 100%|██████████| 8/8 [00:00<00:00, 17.22it/s]\n",
            "100%|██████████| 22/22 [00:01<00:00, 16.30it/s]\n"
          ]
        },
        {
          "output_type": "stream",
          "name": "stdout",
          "text": [
            "6 1.8040295054272908 2.206400766968727 0.6832116788321168\n"
          ]
        },
        {
          "output_type": "stream",
          "name": "stderr",
          "text": [
            "Iteration: 100%|██████████| 41/41 [00:07<00:00,  5.21it/s]\n",
            "Iteration: 100%|██████████| 8/8 [00:00<00:00, 17.67it/s]\n",
            "100%|██████████| 22/22 [00:01<00:00, 16.23it/s]\n"
          ]
        },
        {
          "output_type": "stream",
          "name": "stdout",
          "text": [
            "7 1.706514942936781 1.9464424550533295 0.6963503649635037\n"
          ]
        },
        {
          "output_type": "stream",
          "name": "stderr",
          "text": [
            "Iteration: 100%|██████████| 41/41 [00:07<00:00,  5.21it/s]\n",
            "Iteration: 100%|██████████| 8/8 [00:00<00:00, 17.63it/s]\n",
            "100%|██████████| 22/22 [00:01<00:00, 16.36it/s]\n"
          ]
        },
        {
          "output_type": "stream",
          "name": "stdout",
          "text": [
            "8 1.3578602140996514 1.8600758910179138 0.745985401459854\n"
          ]
        },
        {
          "output_type": "stream",
          "name": "stderr",
          "text": [
            "Iteration: 100%|██████████| 41/41 [00:07<00:00,  5.23it/s]\n",
            "Iteration: 100%|██████████| 8/8 [00:00<00:00, 17.59it/s]\n",
            "100%|██████████| 22/22 [00:01<00:00, 16.36it/s]\n"
          ]
        },
        {
          "output_type": "stream",
          "name": "stdout",
          "text": [
            "9 1.1550916476947506 1.5789456367492676 0.7839416058394161\n"
          ]
        },
        {
          "output_type": "stream",
          "name": "stderr",
          "text": [
            "Iteration: 100%|██████████| 41/41 [00:07<00:00,  5.22it/s]\n",
            "Iteration: 100%|██████████| 8/8 [00:00<00:00, 17.51it/s]\n",
            "100%|██████████| 22/22 [00:01<00:00, 16.29it/s]\n"
          ]
        },
        {
          "output_type": "stream",
          "name": "stdout",
          "text": [
            "10 0.965998661772507 1.416268765926361 0.7897810218978102\n"
          ]
        },
        {
          "output_type": "stream",
          "name": "stderr",
          "text": [
            "Iteration: 100%|██████████| 41/41 [00:07<00:00,  5.23it/s]\n",
            "Iteration: 100%|██████████| 8/8 [00:00<00:00, 17.64it/s]\n",
            "100%|██████████| 22/22 [00:01<00:00, 16.22it/s]\n"
          ]
        },
        {
          "output_type": "stream",
          "name": "stdout",
          "text": [
            "11 0.8148028792404547 1.2998329848051071 0.7985401459854015\n"
          ]
        },
        {
          "output_type": "stream",
          "name": "stderr",
          "text": [
            "Iteration: 100%|██████████| 41/41 [00:07<00:00,  5.22it/s]\n",
            "Iteration: 100%|██████████| 8/8 [00:00<00:00, 17.43it/s]\n",
            "100%|██████████| 22/22 [00:01<00:00, 16.28it/s]\n"
          ]
        },
        {
          "output_type": "stream",
          "name": "stdout",
          "text": [
            "12 0.6831907714240071 1.3610754758119583 0.8058394160583942\n"
          ]
        },
        {
          "output_type": "stream",
          "name": "stderr",
          "text": [
            "Iteration: 100%|██████████| 41/41 [00:07<00:00,  5.21it/s]\n",
            "Iteration: 100%|██████████| 8/8 [00:00<00:00, 17.31it/s]\n",
            "100%|██████████| 22/22 [00:01<00:00, 16.14it/s]\n"
          ]
        },
        {
          "output_type": "stream",
          "name": "stdout",
          "text": [
            "13 0.6240132934436565 1.2389625161886215 0.8029197080291971\n"
          ]
        },
        {
          "output_type": "stream",
          "name": "stderr",
          "text": [
            "Iteration: 100%|██████████| 41/41 [00:07<00:00,  5.21it/s]\n",
            "Iteration: 100%|██████████| 8/8 [00:00<00:00, 17.67it/s]\n",
            "100%|██████████| 22/22 [00:01<00:00, 16.25it/s]\n"
          ]
        },
        {
          "output_type": "stream",
          "name": "stdout",
          "text": [
            "14 0.6488805296944409 1.2458514869213104 0.8072992700729927\n"
          ]
        },
        {
          "output_type": "stream",
          "name": "stderr",
          "text": [
            "Iteration: 100%|██████████| 41/41 [00:07<00:00,  5.23it/s]\n",
            "Iteration: 100%|██████████| 8/8 [00:00<00:00, 17.75it/s]\n",
            "100%|██████████| 22/22 [00:01<00:00, 16.16it/s]\n"
          ]
        },
        {
          "output_type": "stream",
          "name": "stdout",
          "text": [
            "15 0.508247591373397 1.2940705046057701 0.8058394160583942\n"
          ]
        },
        {
          "output_type": "stream",
          "name": "stderr",
          "text": [
            "Iteration: 100%|██████████| 41/41 [00:07<00:00,  5.23it/s]\n",
            "Iteration: 100%|██████████| 8/8 [00:00<00:00, 17.68it/s]\n",
            "100%|██████████| 22/22 [00:01<00:00, 16.33it/s]\n"
          ]
        },
        {
          "output_type": "stream",
          "name": "stdout",
          "text": [
            "16 0.4319934860417029 1.4616830796003342 0.8072992700729927\n"
          ]
        },
        {
          "output_type": "stream",
          "name": "stderr",
          "text": [
            "Iteration: 100%|██████████| 41/41 [00:07<00:00,  5.19it/s]\n",
            "Iteration: 100%|██████████| 8/8 [00:00<00:00, 17.50it/s]\n",
            "100%|██████████| 22/22 [00:01<00:00, 16.10it/s]\n"
          ]
        },
        {
          "output_type": "stream",
          "name": "stdout",
          "text": [
            "17 0.4038798296596946 1.296626254916191 0.8058394160583942\n"
          ]
        },
        {
          "output_type": "stream",
          "name": "stderr",
          "text": [
            "Iteration: 100%|██████████| 41/41 [00:07<00:00,  5.21it/s]\n",
            "Iteration: 100%|██████████| 8/8 [00:00<00:00, 17.54it/s]\n",
            "100%|██████████| 22/22 [00:01<00:00, 16.22it/s]\n"
          ]
        },
        {
          "output_type": "stream",
          "name": "stdout",
          "text": [
            "18 0.32912445958794617 1.434586226940155 0.8058394160583942\n"
          ]
        },
        {
          "output_type": "stream",
          "name": "stderr",
          "text": [
            "Iteration: 100%|██████████| 41/41 [00:07<00:00,  5.23it/s]\n",
            "Iteration: 100%|██████████| 8/8 [00:00<00:00, 17.63it/s]\n",
            "100%|██████████| 22/22 [00:01<00:00, 16.33it/s]\n"
          ]
        },
        {
          "output_type": "stream",
          "name": "stdout",
          "text": [
            "19 0.30340131208664034 1.2717732042074203 0.8029197080291971\n"
          ]
        },
        {
          "output_type": "stream",
          "name": "stderr",
          "text": [
            "Iteration: 100%|██████████| 41/41 [00:07<00:00,  5.22it/s]\n",
            "Iteration: 100%|██████████| 8/8 [00:00<00:00, 17.61it/s]\n",
            "100%|██████████| 22/22 [00:01<00:00, 16.26it/s]\n"
          ]
        },
        {
          "output_type": "stream",
          "name": "stdout",
          "text": [
            "20 0.2874627120611144 1.2852067053318024 0.8072992700729927\n"
          ]
        },
        {
          "output_type": "stream",
          "name": "stderr",
          "text": [
            "Iteration: 100%|██████████| 41/41 [00:07<00:00,  5.21it/s]\n",
            "Iteration: 100%|██████████| 8/8 [00:00<00:00, 17.65it/s]\n",
            "100%|██████████| 22/22 [00:01<00:00, 16.14it/s]\n"
          ]
        },
        {
          "output_type": "stream",
          "name": "stdout",
          "text": [
            "21 0.24947320760750188 1.2488711178302765 0.8043795620437956\n"
          ]
        },
        {
          "output_type": "stream",
          "name": "stderr",
          "text": [
            "Iteration: 100%|██████████| 41/41 [00:07<00:00,  5.22it/s]\n",
            "Iteration: 100%|██████████| 8/8 [00:00<00:00, 17.58it/s]\n",
            "100%|██████████| 22/22 [00:01<00:00, 16.23it/s]\n"
          ]
        },
        {
          "output_type": "stream",
          "name": "stdout",
          "text": [
            "22 0.23482508503082322 1.383724369108677 0.8145985401459854\n"
          ]
        },
        {
          "output_type": "stream",
          "name": "stderr",
          "text": [
            "Iteration: 100%|██████████| 41/41 [00:07<00:00,  5.23it/s]\n",
            "Iteration: 100%|██████████| 8/8 [00:00<00:00, 17.52it/s]\n",
            "100%|██████████| 22/22 [00:01<00:00, 16.19it/s]\n"
          ]
        },
        {
          "output_type": "stream",
          "name": "stdout",
          "text": [
            "23 0.23080871417755033 1.5392065718770027 0.8072992700729927\n"
          ]
        },
        {
          "output_type": "stream",
          "name": "stderr",
          "text": [
            "Iteration: 100%|██████████| 41/41 [00:07<00:00,  5.22it/s]\n",
            "Iteration: 100%|██████████| 8/8 [00:00<00:00, 17.65it/s]\n",
            "100%|██████████| 22/22 [00:01<00:00, 16.27it/s]\n"
          ]
        },
        {
          "output_type": "stream",
          "name": "stdout",
          "text": [
            "24 0.17627992771747636 1.2045859396457672 0.8102189781021898\n"
          ]
        },
        {
          "output_type": "stream",
          "name": "stderr",
          "text": [
            "Iteration: 100%|██████████| 41/41 [00:07<00:00,  5.20it/s]\n",
            "Iteration: 100%|██████████| 8/8 [00:00<00:00, 17.68it/s]\n",
            "100%|██████████| 22/22 [00:01<00:00, 16.16it/s]\n"
          ]
        },
        {
          "output_type": "stream",
          "name": "stdout",
          "text": [
            "25 0.17433181495928182 1.1880019195377827 0.8072992700729927\n"
          ]
        },
        {
          "output_type": "stream",
          "name": "stderr",
          "text": [
            "Iteration: 100%|██████████| 41/41 [00:07<00:00,  5.23it/s]\n",
            "Iteration: 100%|██████████| 8/8 [00:00<00:00, 17.58it/s]\n",
            "100%|██████████| 22/22 [00:01<00:00, 16.20it/s]\n"
          ]
        },
        {
          "output_type": "stream",
          "name": "stdout",
          "text": [
            "26 0.18951923963500233 1.1827648654580116 0.8116788321167884\n"
          ]
        },
        {
          "output_type": "stream",
          "name": "stderr",
          "text": [
            "Iteration: 100%|██████████| 41/41 [00:07<00:00,  5.24it/s]\n",
            "Iteration: 100%|██████████| 8/8 [00:00<00:00, 17.60it/s]\n",
            "100%|██████████| 22/22 [00:01<00:00, 16.26it/s]\n"
          ]
        },
        {
          "output_type": "stream",
          "name": "stdout",
          "text": [
            "27 0.16765551977768178 1.3088858872652054 0.8145985401459854\n"
          ]
        },
        {
          "output_type": "stream",
          "name": "stderr",
          "text": [
            "Iteration: 100%|██████████| 41/41 [00:07<00:00,  5.22it/s]\n",
            "Iteration: 100%|██████████| 8/8 [00:00<00:00, 17.65it/s]\n",
            "100%|██████████| 22/22 [00:01<00:00, 16.27it/s]\n"
          ]
        },
        {
          "output_type": "stream",
          "name": "stdout",
          "text": [
            "28 0.1584459152526972 1.2581790089607239 0.8175182481751825\n"
          ]
        },
        {
          "output_type": "stream",
          "name": "stderr",
          "text": [
            "Iteration: 100%|██████████| 41/41 [00:07<00:00,  5.22it/s]\n",
            "Iteration: 100%|██████████| 8/8 [00:00<00:00, 17.40it/s]\n",
            "100%|██████████| 22/22 [00:01<00:00, 16.24it/s]\n"
          ]
        },
        {
          "output_type": "stream",
          "name": "stdout",
          "text": [
            "29 0.15332840873700818 1.162405602633953 0.8102189781021898\n"
          ]
        },
        {
          "output_type": "stream",
          "name": "stderr",
          "text": [
            "Iteration: 100%|██████████| 41/41 [00:07<00:00,  5.21it/s]\n",
            "Iteration: 100%|██████████| 8/8 [00:00<00:00, 17.47it/s]\n",
            "100%|██████████| 22/22 [00:01<00:00, 16.29it/s]\n"
          ]
        },
        {
          "output_type": "stream",
          "name": "stdout",
          "text": [
            "30 0.13824609417195727 1.280308410525322 0.8087591240875912\n"
          ]
        },
        {
          "output_type": "stream",
          "name": "stderr",
          "text": [
            "Iteration: 100%|██████████| 41/41 [00:07<00:00,  5.23it/s]\n",
            "Iteration: 100%|██████████| 8/8 [00:00<00:00, 17.60it/s]\n",
            "100%|██████████| 22/22 [00:01<00:00, 16.16it/s]\n"
          ]
        },
        {
          "output_type": "stream",
          "name": "stdout",
          "text": [
            "31 0.13147099334292295 1.0971061326563358 0.8131386861313868\n"
          ]
        },
        {
          "output_type": "stream",
          "name": "stderr",
          "text": [
            "Iteration: 100%|██████████| 41/41 [00:07<00:00,  5.20it/s]\n",
            "Iteration: 100%|██████████| 8/8 [00:00<00:00, 17.61it/s]\n",
            "100%|██████████| 22/22 [00:01<00:00, 16.27it/s]\n"
          ]
        },
        {
          "output_type": "stream",
          "name": "stdout",
          "text": [
            "32 0.12932723274499905 1.2100250124931335 0.8087591240875912\n"
          ]
        },
        {
          "output_type": "stream",
          "name": "stderr",
          "text": [
            "Iteration: 100%|██████████| 41/41 [00:07<00:00,  5.24it/s]\n",
            "Iteration: 100%|██████████| 8/8 [00:00<00:00, 17.57it/s]\n",
            "100%|██████████| 22/22 [00:01<00:00, 16.27it/s]\n"
          ]
        },
        {
          "output_type": "stream",
          "name": "stdout",
          "text": [
            "33 0.11446164904173645 1.5117463245987892 0.8145985401459854\n"
          ]
        },
        {
          "output_type": "stream",
          "name": "stderr",
          "text": [
            "Iteration: 100%|██████████| 41/41 [00:07<00:00,  5.22it/s]\n",
            "Iteration: 100%|██████████| 8/8 [00:00<00:00, 17.64it/s]\n",
            "100%|██████████| 22/22 [00:01<00:00, 16.20it/s]\n"
          ]
        },
        {
          "output_type": "stream",
          "name": "stdout",
          "text": [
            "34 0.11282075232848889 1.1804331839084625 0.8029197080291971\n"
          ]
        },
        {
          "output_type": "stream",
          "name": "stderr",
          "text": [
            "Iteration: 100%|██████████| 41/41 [00:07<00:00,  5.24it/s]\n",
            "Iteration: 100%|██████████| 8/8 [00:00<00:00, 17.64it/s]\n",
            "100%|██████████| 22/22 [00:01<00:00, 16.33it/s]\n"
          ]
        },
        {
          "output_type": "stream",
          "name": "stdout",
          "text": [
            "35 0.12519806264558944 1.1576776057481766 0.8189781021897811\n"
          ]
        },
        {
          "output_type": "stream",
          "name": "stderr",
          "text": [
            "Iteration: 100%|██████████| 41/41 [00:07<00:00,  5.25it/s]\n",
            "Iteration: 100%|██████████| 8/8 [00:00<00:00, 17.52it/s]\n",
            "100%|██████████| 22/22 [00:01<00:00, 16.19it/s]\n"
          ]
        },
        {
          "output_type": "stream",
          "name": "stdout",
          "text": [
            "36 0.10566008499100883 1.23919178545475 0.8145985401459854\n"
          ]
        },
        {
          "output_type": "stream",
          "name": "stderr",
          "text": [
            "Iteration: 100%|██████████| 41/41 [00:07<00:00,  5.22it/s]\n",
            "Iteration: 100%|██████████| 8/8 [00:00<00:00, 17.47it/s]\n",
            "100%|██████████| 22/22 [00:01<00:00, 16.32it/s]\n"
          ]
        },
        {
          "output_type": "stream",
          "name": "stdout",
          "text": [
            "37 0.09869750302920981 1.119416780769825 0.8160583941605839\n"
          ]
        },
        {
          "output_type": "stream",
          "name": "stderr",
          "text": [
            "Iteration: 100%|██████████| 41/41 [00:07<00:00,  5.21it/s]\n",
            "Iteration: 100%|██████████| 8/8 [00:00<00:00, 17.47it/s]\n",
            "100%|██████████| 22/22 [00:01<00:00, 16.29it/s]\n"
          ]
        },
        {
          "output_type": "stream",
          "name": "stdout",
          "text": [
            "38 0.09884669731666403 1.3992024213075638 0.8087591240875912\n"
          ]
        },
        {
          "output_type": "stream",
          "name": "stderr",
          "text": [
            "Iteration: 100%|██████████| 41/41 [00:07<00:00,  5.21it/s]\n",
            "Iteration: 100%|██████████| 8/8 [00:00<00:00, 17.65it/s]\n",
            "100%|██████████| 22/22 [00:01<00:00, 16.31it/s]\n"
          ]
        },
        {
          "output_type": "stream",
          "name": "stdout",
          "text": [
            "39 0.09680923107136949 1.102143194526434 0.8204379562043795\n"
          ]
        },
        {
          "output_type": "stream",
          "name": "stderr",
          "text": [
            "Iteration: 100%|██████████| 41/41 [00:07<00:00,  5.21it/s]\n",
            "Iteration: 100%|██████████| 8/8 [00:00<00:00, 17.60it/s]\n",
            "100%|██████████| 22/22 [00:01<00:00, 16.31it/s]\n"
          ]
        },
        {
          "output_type": "stream",
          "name": "stdout",
          "text": [
            "40 0.09794452650154509 1.2938001453876495 0.8087591240875912\n"
          ]
        },
        {
          "output_type": "stream",
          "name": "stderr",
          "text": [
            "Iteration: 100%|██████████| 41/41 [00:07<00:00,  5.22it/s]\n",
            "Iteration: 100%|██████████| 8/8 [00:00<00:00, 17.60it/s]\n",
            "100%|██████████| 22/22 [00:01<00:00, 16.33it/s]\n"
          ]
        },
        {
          "output_type": "stream",
          "name": "stdout",
          "text": [
            "41 0.09174958094045883 1.1586775705218315 0.8160583941605839\n"
          ]
        },
        {
          "output_type": "stream",
          "name": "stderr",
          "text": [
            "Iteration: 100%|██████████| 41/41 [00:07<00:00,  5.19it/s]\n",
            "Iteration: 100%|██████████| 8/8 [00:00<00:00, 17.50it/s]\n",
            "100%|██████████| 22/22 [00:01<00:00, 16.18it/s]\n"
          ]
        },
        {
          "output_type": "stream",
          "name": "stdout",
          "text": [
            "42 0.08996675154421388 1.09795949049294 0.8145985401459854\n"
          ]
        },
        {
          "output_type": "stream",
          "name": "stderr",
          "text": [
            "Iteration: 100%|██████████| 41/41 [00:07<00:00,  5.22it/s]\n",
            "Iteration: 100%|██████████| 8/8 [00:00<00:00, 17.34it/s]\n",
            "100%|██████████| 22/22 [00:01<00:00, 16.17it/s]\n"
          ]
        },
        {
          "output_type": "stream",
          "name": "stdout",
          "text": [
            "43 0.08617405557050938 1.0593146570026875 0.8277372262773722\n"
          ]
        },
        {
          "output_type": "stream",
          "name": "stderr",
          "text": [
            "Iteration: 100%|██████████| 41/41 [00:07<00:00,  5.22it/s]\n",
            "Iteration: 100%|██████████| 8/8 [00:00<00:00, 17.58it/s]\n",
            "100%|██████████| 22/22 [00:01<00:00, 16.30it/s]\n"
          ]
        },
        {
          "output_type": "stream",
          "name": "stdout",
          "text": [
            "44 0.08760428365047385 1.077887512743473 0.8233576642335766\n"
          ]
        },
        {
          "output_type": "stream",
          "name": "stderr",
          "text": [
            "Iteration: 100%|██████████| 41/41 [00:07<00:00,  5.21it/s]\n",
            "Iteration: 100%|██████████| 8/8 [00:00<00:00, 17.66it/s]\n",
            "100%|██████████| 22/22 [00:01<00:00, 16.30it/s]\n"
          ]
        },
        {
          "output_type": "stream",
          "name": "stdout",
          "text": [
            "45 0.09113080272587334 1.0467773098498583 0.8116788321167884\n"
          ]
        },
        {
          "output_type": "stream",
          "name": "stderr",
          "text": [
            "Iteration: 100%|██████████| 41/41 [00:07<00:00,  5.22it/s]\n",
            "Iteration: 100%|██████████| 8/8 [00:00<00:00, 17.55it/s]\n",
            "100%|██████████| 22/22 [00:01<00:00, 16.21it/s]\n"
          ]
        },
        {
          "output_type": "stream",
          "name": "stdout",
          "text": [
            "46 0.0859860585003001 1.1278496608138084 0.8145985401459854\n"
          ]
        },
        {
          "output_type": "stream",
          "name": "stderr",
          "text": [
            "Iteration: 100%|██████████| 41/41 [00:07<00:00,  5.21it/s]\n",
            "Iteration: 100%|██████████| 8/8 [00:00<00:00, 17.59it/s]\n",
            "100%|██████████| 22/22 [00:01<00:00, 16.20it/s]\n"
          ]
        },
        {
          "output_type": "stream",
          "name": "stdout",
          "text": [
            "47 0.08267463616481642 1.0570563934743404 0.8160583941605839\n"
          ]
        },
        {
          "output_type": "stream",
          "name": "stderr",
          "text": [
            "Iteration: 100%|██████████| 41/41 [00:07<00:00,  5.23it/s]\n",
            "Iteration: 100%|██████████| 8/8 [00:00<00:00, 17.78it/s]\n",
            "100%|██████████| 22/22 [00:01<00:00, 16.33it/s]\n"
          ]
        },
        {
          "output_type": "stream",
          "name": "stdout",
          "text": [
            "48 0.07742641266526246 1.1237626746296883 0.8218978102189781\n"
          ]
        },
        {
          "output_type": "stream",
          "name": "stderr",
          "text": [
            "Iteration: 100%|██████████| 41/41 [00:07<00:00,  5.22it/s]\n",
            "Iteration: 100%|██████████| 8/8 [00:00<00:00, 17.60it/s]\n",
            "100%|██████████| 22/22 [00:01<00:00, 16.35it/s]\n"
          ]
        },
        {
          "output_type": "stream",
          "name": "stdout",
          "text": [
            "49 0.07867926833923997 1.0713950954377651 0.8233576642335766\n"
          ]
        },
        {
          "output_type": "stream",
          "name": "stderr",
          "text": [
            "Iteration: 100%|██████████| 41/41 [00:07<00:00,  5.23it/s]\n",
            "Iteration: 100%|██████████| 8/8 [00:00<00:00, 17.64it/s]\n",
            "100%|██████████| 22/22 [00:01<00:00, 16.04it/s]\n"
          ]
        },
        {
          "output_type": "stream",
          "name": "stdout",
          "text": [
            "50 0.07703030545537065 1.1217524409294128 0.8204379562043795\n"
          ]
        },
        {
          "output_type": "stream",
          "name": "stderr",
          "text": [
            "Iteration: 100%|██████████| 41/41 [00:07<00:00,  5.23it/s]\n",
            "Iteration: 100%|██████████| 8/8 [00:00<00:00, 17.41it/s]\n",
            "100%|██████████| 22/22 [00:01<00:00, 16.20it/s]\n"
          ]
        },
        {
          "output_type": "stream",
          "name": "stdout",
          "text": [
            "51 0.08057555856137741 1.0809558108448982 0.8248175182481752\n"
          ]
        },
        {
          "output_type": "stream",
          "name": "stderr",
          "text": [
            "Iteration: 100%|██████████| 41/41 [00:07<00:00,  5.24it/s]\n",
            "Iteration: 100%|██████████| 8/8 [00:00<00:00, 17.58it/s]\n",
            "100%|██████████| 22/22 [00:01<00:00, 16.29it/s]\n"
          ]
        },
        {
          "output_type": "stream",
          "name": "stdout",
          "text": [
            "52 0.07180557129677476 1.0382293723523617 0.8233576642335766\n"
          ]
        },
        {
          "output_type": "stream",
          "name": "stderr",
          "text": [
            "Iteration: 100%|██████████| 41/41 [00:07<00:00,  5.24it/s]\n",
            "Iteration: 100%|██████████| 8/8 [00:00<00:00, 17.51it/s]\n",
            "100%|██████████| 22/22 [00:01<00:00, 16.34it/s]\n"
          ]
        },
        {
          "output_type": "stream",
          "name": "stdout",
          "text": [
            "53 0.07790751282761736 1.1154943779110909 0.8189781021897811\n"
          ]
        },
        {
          "output_type": "stream",
          "name": "stderr",
          "text": [
            "Iteration: 100%|██████████| 41/41 [00:07<00:00,  5.24it/s]\n",
            "Iteration: 100%|██████████| 8/8 [00:00<00:00, 17.64it/s]\n",
            "100%|██████████| 22/22 [00:01<00:00, 16.34it/s]\n"
          ]
        },
        {
          "output_type": "stream",
          "name": "stdout",
          "text": [
            "54 0.07768377608324332 1.123988889157772 0.8291970802919708\n"
          ]
        },
        {
          "output_type": "stream",
          "name": "stderr",
          "text": [
            "Iteration: 100%|██████████| 41/41 [00:07<00:00,  5.24it/s]\n",
            "Iteration: 100%|██████████| 8/8 [00:00<00:00, 17.54it/s]\n",
            "100%|██████████| 22/22 [00:01<00:00, 16.24it/s]\n"
          ]
        },
        {
          "output_type": "stream",
          "name": "stdout",
          "text": [
            "55 0.06506246087572924 1.1413336768746376 0.8189781021897811\n"
          ]
        },
        {
          "output_type": "stream",
          "name": "stderr",
          "text": [
            "Iteration: 100%|██████████| 41/41 [00:07<00:00,  5.23it/s]\n",
            "Iteration: 100%|██████████| 8/8 [00:00<00:00, 17.66it/s]\n",
            "100%|██████████| 22/22 [00:01<00:00, 16.13it/s]\n"
          ]
        },
        {
          "output_type": "stream",
          "name": "stdout",
          "text": [
            "56 0.0697975093725978 1.0921677686274052 0.8248175182481752\n"
          ]
        },
        {
          "output_type": "stream",
          "name": "stderr",
          "text": [
            "Iteration: 100%|██████████| 41/41 [00:07<00:00,  5.25it/s]\n",
            "Iteration: 100%|██████████| 8/8 [00:00<00:00, 17.40it/s]\n",
            "100%|██████████| 22/22 [00:01<00:00, 16.31it/s]\n"
          ]
        },
        {
          "output_type": "stream",
          "name": "stdout",
          "text": [
            "57 0.06586966876198946 1.146027110517025 0.8175182481751825\n"
          ]
        },
        {
          "output_type": "stream",
          "name": "stderr",
          "text": [
            "Iteration: 100%|██████████| 41/41 [00:07<00:00,  5.18it/s]\n",
            "Iteration: 100%|██████████| 8/8 [00:00<00:00, 17.33it/s]\n",
            "100%|██████████| 22/22 [00:01<00:00, 16.21it/s]\n"
          ]
        },
        {
          "output_type": "stream",
          "name": "stdout",
          "text": [
            "58 0.06171704077150491 1.306282952427864 0.8248175182481752\n"
          ]
        },
        {
          "output_type": "stream",
          "name": "stderr",
          "text": [
            "Iteration: 100%|██████████| 41/41 [00:07<00:00,  5.17it/s]\n",
            "Iteration: 100%|██████████| 8/8 [00:00<00:00, 17.40it/s]\n",
            "100%|██████████| 22/22 [00:01<00:00, 16.22it/s]\n"
          ]
        },
        {
          "output_type": "stream",
          "name": "stdout",
          "text": [
            "59 0.05942762334172318 1.1980947330594063 0.8204379562043795\n"
          ]
        },
        {
          "output_type": "stream",
          "name": "stderr",
          "text": [
            "Iteration: 100%|██████████| 41/41 [00:07<00:00,  5.18it/s]\n",
            "Iteration: 100%|██████████| 8/8 [00:00<00:00, 17.52it/s]\n",
            "100%|██████████| 22/22 [00:01<00:00, 16.23it/s]\n"
          ]
        },
        {
          "output_type": "stream",
          "name": "stdout",
          "text": [
            "60 0.06097820355761342 1.1721508130431175 0.8160583941605839\n"
          ]
        },
        {
          "output_type": "stream",
          "name": "stderr",
          "text": [
            "Iteration: 100%|██████████| 41/41 [00:07<00:00,  5.18it/s]\n",
            "Iteration: 100%|██████████| 8/8 [00:00<00:00, 17.28it/s]\n",
            "100%|██████████| 22/22 [00:01<00:00, 16.13it/s]\n"
          ]
        },
        {
          "output_type": "stream",
          "name": "stdout",
          "text": [
            "61 0.05422584435096147 1.2124072462320328 0.8262773722627738\n"
          ]
        },
        {
          "output_type": "stream",
          "name": "stderr",
          "text": [
            "Iteration: 100%|██████████| 41/41 [00:07<00:00,  5.21it/s]\n",
            "Iteration: 100%|██████████| 8/8 [00:00<00:00, 17.62it/s]\n",
            "100%|██████████| 22/22 [00:01<00:00, 16.18it/s]\n"
          ]
        },
        {
          "output_type": "stream",
          "name": "stdout",
          "text": [
            "62 0.05443355011776453 1.2656660452485085 0.8218978102189781\n"
          ]
        },
        {
          "output_type": "stream",
          "name": "stderr",
          "text": [
            "Iteration: 100%|██████████| 41/41 [00:07<00:00,  5.21it/s]\n",
            "Iteration: 100%|██████████| 8/8 [00:00<00:00, 17.48it/s]\n",
            "100%|██████████| 22/22 [00:01<00:00, 16.25it/s]\n"
          ]
        },
        {
          "output_type": "stream",
          "name": "stdout",
          "text": [
            "63 0.056182551265853205 1.12547916918993 0.8189781021897811\n"
          ]
        },
        {
          "output_type": "stream",
          "name": "stderr",
          "text": [
            "Iteration: 100%|██████████| 41/41 [00:07<00:00,  5.22it/s]\n",
            "Iteration: 100%|██████████| 8/8 [00:00<00:00, 17.34it/s]\n",
            "100%|██████████| 22/22 [00:01<00:00, 16.08it/s]\n"
          ]
        },
        {
          "output_type": "stream",
          "name": "stdout",
          "text": [
            "64 0.06429212122428708 1.1393692344427109 0.8233576642335766\n"
          ]
        },
        {
          "output_type": "stream",
          "name": "stderr",
          "text": [
            "Iteration: 100%|██████████| 41/41 [00:07<00:00,  5.19it/s]\n",
            "Iteration: 100%|██████████| 8/8 [00:00<00:00, 17.33it/s]\n",
            "100%|██████████| 22/22 [00:01<00:00, 16.16it/s]\n"
          ]
        },
        {
          "output_type": "stream",
          "name": "stdout",
          "text": [
            "65 0.05982280431724176 1.164980374276638 0.8248175182481752\n"
          ]
        },
        {
          "output_type": "stream",
          "name": "stderr",
          "text": [
            "Iteration: 100%|██████████| 41/41 [00:07<00:00,  5.24it/s]\n",
            "Iteration: 100%|██████████| 8/8 [00:00<00:00, 17.60it/s]\n",
            "100%|██████████| 22/22 [00:01<00:00, 16.23it/s]\n"
          ]
        },
        {
          "output_type": "stream",
          "name": "stdout",
          "text": [
            "66 0.06086479000202039 1.0692776404321194 0.8262773722627738\n"
          ]
        },
        {
          "output_type": "stream",
          "name": "stderr",
          "text": [
            "Iteration: 100%|██████████| 41/41 [00:07<00:00,  5.22it/s]\n",
            "Iteration: 100%|██████████| 8/8 [00:00<00:00, 17.53it/s]\n",
            "100%|██████████| 22/22 [00:01<00:00, 16.21it/s]\n"
          ]
        },
        {
          "output_type": "stream",
          "name": "stdout",
          "text": [
            "67 0.05702162499925712 1.077691026031971 0.8291970802919708\n"
          ]
        },
        {
          "output_type": "stream",
          "name": "stderr",
          "text": [
            "Iteration: 100%|██████████| 41/41 [00:07<00:00,  5.23it/s]\n",
            "Iteration: 100%|██████████| 8/8 [00:00<00:00, 17.63it/s]\n",
            "100%|██████████| 22/22 [00:01<00:00, 16.32it/s]\n"
          ]
        },
        {
          "output_type": "stream",
          "name": "stdout",
          "text": [
            "68 0.0478584238487046 1.061269849538803 0.8218978102189781\n"
          ]
        },
        {
          "output_type": "stream",
          "name": "stderr",
          "text": [
            "Iteration: 100%|██████████| 41/41 [00:07<00:00,  5.23it/s]\n",
            "Iteration: 100%|██████████| 8/8 [00:00<00:00, 17.68it/s]\n",
            "100%|██████████| 22/22 [00:01<00:00, 16.26it/s]\n"
          ]
        },
        {
          "output_type": "stream",
          "name": "stdout",
          "text": [
            "69 0.05196526923437642 1.0277679283171892 0.8116788321167884\n"
          ]
        },
        {
          "output_type": "stream",
          "name": "stderr",
          "text": [
            "Iteration: 100%|██████████| 41/41 [00:07<00:00,  5.21it/s]\n",
            "Iteration: 100%|██████████| 8/8 [00:00<00:00, 17.47it/s]\n",
            "100%|██████████| 22/22 [00:01<00:00, 16.33it/s]\n"
          ]
        },
        {
          "output_type": "stream",
          "name": "stdout",
          "text": [
            "70 0.05392743415403657 1.1925334334373474 0.8175182481751825\n"
          ]
        },
        {
          "output_type": "stream",
          "name": "stderr",
          "text": [
            "Iteration: 100%|██████████| 41/41 [00:07<00:00,  5.21it/s]\n",
            "Iteration: 100%|██████████| 8/8 [00:00<00:00, 17.59it/s]\n",
            "100%|██████████| 22/22 [00:01<00:00, 16.19it/s]\n"
          ]
        },
        {
          "output_type": "stream",
          "name": "stdout",
          "text": [
            "71 0.04715865718700537 1.1001289412379265 0.8248175182481752\n"
          ]
        },
        {
          "output_type": "stream",
          "name": "stderr",
          "text": [
            "Iteration: 100%|██████████| 41/41 [00:07<00:00,  5.23it/s]\n",
            "Iteration: 100%|██████████| 8/8 [00:00<00:00, 17.32it/s]\n",
            "100%|██████████| 22/22 [00:01<00:00, 16.29it/s]\n"
          ]
        },
        {
          "output_type": "stream",
          "name": "stdout",
          "text": [
            "72 0.05521022151337891 1.0813563726842403 0.8204379562043795\n"
          ]
        },
        {
          "output_type": "stream",
          "name": "stderr",
          "text": [
            "Iteration: 100%|██████████| 41/41 [00:07<00:00,  5.22it/s]\n",
            "Iteration: 100%|██████████| 8/8 [00:00<00:00, 17.66it/s]\n",
            "100%|██████████| 22/22 [00:01<00:00, 16.32it/s]\n"
          ]
        },
        {
          "output_type": "stream",
          "name": "stdout",
          "text": [
            "73 0.04796077515475634 1.0226472541689873 0.8175182481751825\n"
          ]
        },
        {
          "output_type": "stream",
          "name": "stderr",
          "text": [
            "Iteration: 100%|██████████| 41/41 [00:07<00:00,  5.24it/s]\n",
            "Iteration: 100%|██████████| 8/8 [00:00<00:00, 17.32it/s]\n",
            "100%|██████████| 22/22 [00:01<00:00, 16.23it/s]\n"
          ]
        },
        {
          "output_type": "stream",
          "name": "stdout",
          "text": [
            "74 0.047167530555914085 1.1160085648298264 0.8233576642335766\n"
          ]
        },
        {
          "output_type": "stream",
          "name": "stderr",
          "text": [
            "Iteration: 100%|██████████| 41/41 [00:07<00:00,  5.20it/s]\n",
            "Iteration: 100%|██████████| 8/8 [00:00<00:00, 17.70it/s]\n",
            "100%|██████████| 22/22 [00:01<00:00, 16.07it/s]\n"
          ]
        },
        {
          "output_type": "stream",
          "name": "stdout",
          "text": [
            "75 0.04839861111306563 1.04911220818758 0.8189781021897811\n"
          ]
        },
        {
          "output_type": "stream",
          "name": "stderr",
          "text": [
            "Iteration: 100%|██████████| 41/41 [00:07<00:00,  5.21it/s]\n",
            "Iteration: 100%|██████████| 8/8 [00:00<00:00, 17.43it/s]\n",
            "100%|██████████| 22/22 [00:01<00:00, 16.20it/s]\n"
          ]
        },
        {
          "output_type": "stream",
          "name": "stdout",
          "text": [
            "76 0.04572608010707105 1.0469193533062935 0.8218978102189781\n"
          ]
        },
        {
          "output_type": "stream",
          "name": "stderr",
          "text": [
            "Iteration: 100%|██████████| 41/41 [00:07<00:00,  5.23it/s]\n",
            "Iteration: 100%|██████████| 8/8 [00:00<00:00, 17.60it/s]\n",
            "100%|██████████| 22/22 [00:01<00:00, 16.31it/s]\n"
          ]
        },
        {
          "output_type": "stream",
          "name": "stdout",
          "text": [
            "77 0.0431788618074412 1.0267998203635216 0.8248175182481752\n"
          ]
        },
        {
          "output_type": "stream",
          "name": "stderr",
          "text": [
            "Iteration: 100%|██████████| 41/41 [00:07<00:00,  5.23it/s]\n",
            "Iteration: 100%|██████████| 8/8 [00:00<00:00, 17.76it/s]\n",
            "100%|██████████| 22/22 [00:01<00:00, 16.28it/s]\n"
          ]
        },
        {
          "output_type": "stream",
          "name": "stdout",
          "text": [
            "78 0.04505254950646947 1.1051006838679314 0.8291970802919708\n"
          ]
        },
        {
          "output_type": "stream",
          "name": "stderr",
          "text": [
            "Iteration: 100%|██████████| 41/41 [00:07<00:00,  5.22it/s]\n",
            "Iteration: 100%|██████████| 8/8 [00:00<00:00, 17.36it/s]\n",
            "100%|██████████| 22/22 [00:01<00:00, 16.25it/s]\n"
          ]
        },
        {
          "output_type": "stream",
          "name": "stdout",
          "text": [
            "79 0.05363678571018504 1.0257734060287476 0.8291970802919708\n"
          ]
        },
        {
          "output_type": "stream",
          "name": "stderr",
          "text": [
            "Iteration: 100%|██████████| 41/41 [00:07<00:00,  5.23it/s]\n",
            "Iteration: 100%|██████████| 8/8 [00:00<00:00, 17.68it/s]\n",
            "100%|██████████| 22/22 [00:01<00:00, 16.17it/s]\n"
          ]
        },
        {
          "output_type": "stream",
          "name": "stdout",
          "text": [
            "80 0.04806413169859386 1.0686620324850082 0.8277372262773722\n"
          ]
        },
        {
          "output_type": "stream",
          "name": "stderr",
          "text": [
            "Iteration: 100%|██████████| 41/41 [00:07<00:00,  5.21it/s]\n",
            "Iteration: 100%|██████████| 8/8 [00:00<00:00, 17.65it/s]\n",
            "100%|██████████| 22/22 [00:01<00:00, 16.31it/s]\n"
          ]
        },
        {
          "output_type": "stream",
          "name": "stdout",
          "text": [
            "81 0.05422315228639579 1.1853892728686333 0.8277372262773722\n"
          ]
        },
        {
          "output_type": "stream",
          "name": "stderr",
          "text": [
            "Iteration: 100%|██████████| 41/41 [00:07<00:00,  5.21it/s]\n",
            "Iteration: 100%|██████████| 8/8 [00:00<00:00, 17.61it/s]\n",
            "100%|██████████| 22/22 [00:01<00:00, 16.24it/s]\n"
          ]
        },
        {
          "output_type": "stream",
          "name": "stdout",
          "text": [
            "82 0.06564958973378851 1.1726584807038307 0.8218978102189781\n"
          ]
        },
        {
          "output_type": "stream",
          "name": "stderr",
          "text": [
            "Iteration: 100%|██████████| 41/41 [00:07<00:00,  5.23it/s]\n",
            "Iteration: 100%|██████████| 8/8 [00:00<00:00, 17.22it/s]\n",
            "100%|██████████| 22/22 [00:01<00:00, 16.15it/s]\n"
          ]
        },
        {
          "output_type": "stream",
          "name": "stdout",
          "text": [
            "83 0.045711006832922375 1.0395489484071732 0.8204379562043795\n"
          ]
        },
        {
          "output_type": "stream",
          "name": "stderr",
          "text": [
            "Iteration: 100%|██████████| 41/41 [00:07<00:00,  5.22it/s]\n",
            "Iteration: 100%|██████████| 8/8 [00:00<00:00, 17.34it/s]\n",
            "100%|██████████| 22/22 [00:01<00:00, 16.31it/s]\n"
          ]
        },
        {
          "output_type": "stream",
          "name": "stdout",
          "text": [
            "84 0.04374828658928447 1.0240220613777637 0.8145985401459854\n"
          ]
        },
        {
          "output_type": "stream",
          "name": "stderr",
          "text": [
            "Iteration: 100%|██████████| 41/41 [00:07<00:00,  5.22it/s]\n",
            "Iteration: 100%|██████████| 8/8 [00:00<00:00, 17.71it/s]\n",
            "100%|██████████| 22/22 [00:01<00:00, 16.30it/s]\n"
          ]
        },
        {
          "output_type": "stream",
          "name": "stdout",
          "text": [
            "85 0.04114430211484432 1.0005932059139013 0.8277372262773722\n"
          ]
        },
        {
          "output_type": "stream",
          "name": "stderr",
          "text": [
            "Iteration: 100%|██████████| 41/41 [00:07<00:00,  5.25it/s]\n",
            "Iteration: 100%|██████████| 8/8 [00:00<00:00, 17.64it/s]\n",
            "100%|██████████| 22/22 [00:01<00:00, 16.31it/s]\n"
          ]
        },
        {
          "output_type": "stream",
          "name": "stdout",
          "text": [
            "86 0.041254600328279704 1.0354069098830223 0.8160583941605839\n"
          ]
        },
        {
          "output_type": "stream",
          "name": "stderr",
          "text": [
            "Iteration: 100%|██████████| 41/41 [00:07<00:00,  5.22it/s]\n",
            "Iteration: 100%|██████████| 8/8 [00:00<00:00, 17.39it/s]\n",
            "100%|██████████| 22/22 [00:01<00:00, 16.24it/s]\n"
          ]
        },
        {
          "output_type": "stream",
          "name": "stdout",
          "text": [
            "87 0.053400282271024654 1.102279745042324 0.8218978102189781\n"
          ]
        },
        {
          "output_type": "stream",
          "name": "stderr",
          "text": [
            "Iteration: 100%|██████████| 41/41 [00:07<00:00,  5.24it/s]\n",
            "Iteration: 100%|██████████| 8/8 [00:00<00:00, 17.58it/s]\n",
            "100%|██████████| 22/22 [00:01<00:00, 15.99it/s]\n"
          ]
        },
        {
          "output_type": "stream",
          "name": "stdout",
          "text": [
            "88 0.0419990500298942 1.0968161225318909 0.8218978102189781\n"
          ]
        },
        {
          "output_type": "stream",
          "name": "stderr",
          "text": [
            "Iteration: 100%|██████████| 41/41 [00:07<00:00,  5.21it/s]\n",
            "Iteration: 100%|██████████| 8/8 [00:00<00:00, 17.73it/s]\n",
            "100%|██████████| 22/22 [00:01<00:00, 16.30it/s]\n"
          ]
        },
        {
          "output_type": "stream",
          "name": "stdout",
          "text": [
            "89 0.04231104835095566 0.9967638924717903 0.8204379562043795\n"
          ]
        },
        {
          "output_type": "stream",
          "name": "stderr",
          "text": [
            "Iteration: 100%|██████████| 41/41 [00:07<00:00,  5.22it/s]\n",
            "Iteration: 100%|██████████| 8/8 [00:00<00:00, 17.30it/s]\n",
            "100%|██████████| 22/22 [00:01<00:00, 16.23it/s]\n"
          ]
        },
        {
          "output_type": "stream",
          "name": "stdout",
          "text": [
            "90 0.039639021746995975 0.9772155489772558 0.8218978102189781\n"
          ]
        },
        {
          "output_type": "stream",
          "name": "stderr",
          "text": [
            "Iteration: 100%|██████████| 41/41 [00:07<00:00,  5.22it/s]\n",
            "Iteration: 100%|██████████| 8/8 [00:00<00:00, 17.45it/s]\n",
            "100%|██████████| 22/22 [00:01<00:00, 16.22it/s]\n"
          ]
        },
        {
          "output_type": "stream",
          "name": "stdout",
          "text": [
            "91 0.04117649734565398 1.1083475425839424 0.8262773722627738\n"
          ]
        },
        {
          "output_type": "stream",
          "name": "stderr",
          "text": [
            "Iteration: 100%|██████████| 41/41 [00:07<00:00,  5.22it/s]\n",
            "Iteration: 100%|██████████| 8/8 [00:00<00:00, 17.71it/s]\n",
            "100%|██████████| 22/22 [00:01<00:00, 16.30it/s]\n"
          ]
        },
        {
          "output_type": "stream",
          "name": "stdout",
          "text": [
            "92 0.04312266736495786 0.9921482913196087 0.8233576642335766\n"
          ]
        },
        {
          "output_type": "stream",
          "name": "stderr",
          "text": [
            "Iteration: 100%|██████████| 41/41 [00:07<00:00,  5.21it/s]\n",
            "Iteration: 100%|██████████| 8/8 [00:00<00:00, 17.63it/s]\n",
            "100%|██████████| 22/22 [00:01<00:00, 16.14it/s]\n"
          ]
        },
        {
          "output_type": "stream",
          "name": "stdout",
          "text": [
            "93 0.03975858543885917 1.0060604773461819 0.8262773722627738\n"
          ]
        },
        {
          "output_type": "stream",
          "name": "stderr",
          "text": [
            "Iteration: 100%|██████████| 41/41 [00:07<00:00,  5.21it/s]\n",
            "Iteration: 100%|██████████| 8/8 [00:00<00:00, 17.65it/s]\n",
            "100%|██████████| 22/22 [00:01<00:00, 16.25it/s]\n"
          ]
        },
        {
          "output_type": "stream",
          "name": "stdout",
          "text": [
            "94 0.04156712806079446 1.0330696925520897 0.8175182481751825\n"
          ]
        },
        {
          "output_type": "stream",
          "name": "stderr",
          "text": [
            "Iteration: 100%|██████████| 41/41 [00:07<00:00,  5.22it/s]\n",
            "Iteration: 100%|██████████| 8/8 [00:00<00:00, 17.52it/s]\n",
            "100%|██████████| 22/22 [00:01<00:00, 16.18it/s]\n"
          ]
        },
        {
          "output_type": "stream",
          "name": "stdout",
          "text": [
            "95 0.04315089825086477 1.0353690013289452 0.8248175182481752\n"
          ]
        },
        {
          "output_type": "stream",
          "name": "stderr",
          "text": [
            "Iteration: 100%|██████████| 41/41 [00:07<00:00,  5.22it/s]\n",
            "Iteration: 100%|██████████| 8/8 [00:00<00:00, 17.39it/s]\n",
            "100%|██████████| 22/22 [00:01<00:00, 16.17it/s]\n"
          ]
        },
        {
          "output_type": "stream",
          "name": "stdout",
          "text": [
            "96 0.03844684198862169 0.9971144460141659 0.8233576642335766\n"
          ]
        },
        {
          "output_type": "stream",
          "name": "stderr",
          "text": [
            "Iteration: 100%|██████████| 41/41 [00:07<00:00,  5.24it/s]\n",
            "Iteration: 100%|██████████| 8/8 [00:00<00:00, 17.60it/s]\n",
            "100%|██████████| 22/22 [00:01<00:00, 16.20it/s]\n"
          ]
        },
        {
          "output_type": "stream",
          "name": "stdout",
          "text": [
            "97 0.03772734809757733 0.9771892060525715 0.8160583941605839\n"
          ]
        },
        {
          "output_type": "stream",
          "name": "stderr",
          "text": [
            "Iteration: 100%|██████████| 41/41 [00:07<00:00,  5.22it/s]\n",
            "Iteration: 100%|██████████| 8/8 [00:00<00:00, 17.61it/s]\n",
            "100%|██████████| 22/22 [00:01<00:00, 16.19it/s]\n"
          ]
        },
        {
          "output_type": "stream",
          "name": "stdout",
          "text": [
            "98 0.0415966750645056 1.0273697599768639 0.8145985401459854\n"
          ]
        },
        {
          "output_type": "stream",
          "name": "stderr",
          "text": [
            "Iteration: 100%|██████████| 41/41 [00:07<00:00,  5.23it/s]\n",
            "Iteration: 100%|██████████| 8/8 [00:00<00:00, 17.53it/s]\n",
            "100%|██████████| 22/22 [00:01<00:00, 16.34it/s]\n"
          ]
        },
        {
          "output_type": "stream",
          "name": "stdout",
          "text": [
            "99 0.05097349151605513 0.9796574637293816 0.8262773722627738\n"
          ]
        },
        {
          "output_type": "stream",
          "name": "stderr",
          "text": [
            "Iteration: 100%|██████████| 41/41 [00:07<00:00,  5.22it/s]\n",
            "Iteration: 100%|██████████| 8/8 [00:00<00:00, 17.48it/s]\n",
            "100%|██████████| 22/22 [00:01<00:00, 16.16it/s]\n"
          ]
        },
        {
          "output_type": "stream",
          "name": "stdout",
          "text": [
            "100 0.05347573811688074 1.042311042547226 0.8218978102189781\n"
          ]
        },
        {
          "output_type": "stream",
          "name": "stderr",
          "text": [
            "Iteration: 100%|██████████| 41/41 [00:07<00:00,  5.22it/s]\n",
            "Iteration: 100%|██████████| 8/8 [00:00<00:00, 17.72it/s]\n",
            "100%|██████████| 22/22 [00:01<00:00, 16.15it/s]\n"
          ]
        },
        {
          "output_type": "stream",
          "name": "stdout",
          "text": [
            "101 0.0423499281722598 1.0977074056863785 0.8189781021897811\n"
          ]
        },
        {
          "output_type": "stream",
          "name": "stderr",
          "text": [
            "Iteration: 100%|██████████| 41/41 [00:07<00:00,  5.22it/s]\n",
            "Iteration: 100%|██████████| 8/8 [00:00<00:00, 17.72it/s]\n",
            "100%|██████████| 22/22 [00:01<00:00, 16.33it/s]\n"
          ]
        },
        {
          "output_type": "stream",
          "name": "stdout",
          "text": [
            "102 0.04206006699128122 0.9633933268487453 0.8233576642335766\n"
          ]
        },
        {
          "output_type": "stream",
          "name": "stderr",
          "text": [
            "Iteration: 100%|██████████| 41/41 [00:07<00:00,  5.21it/s]\n",
            "Iteration: 100%|██████████| 8/8 [00:00<00:00, 17.60it/s]\n",
            "100%|██████████| 22/22 [00:01<00:00, 16.17it/s]\n"
          ]
        },
        {
          "output_type": "stream",
          "name": "stdout",
          "text": [
            "103 0.03986190759190699 1.1396394670009613 0.8175182481751825\n"
          ]
        },
        {
          "output_type": "stream",
          "name": "stderr",
          "text": [
            "Iteration: 100%|██████████| 41/41 [00:07<00:00,  5.23it/s]\n",
            "Iteration: 100%|██████████| 8/8 [00:00<00:00, 17.65it/s]\n",
            "100%|██████████| 22/22 [00:01<00:00, 16.27it/s]\n"
          ]
        },
        {
          "output_type": "stream",
          "name": "stdout",
          "text": [
            "104 0.037115531133078944 1.0005191937088966 0.8262773722627738\n"
          ]
        },
        {
          "output_type": "stream",
          "name": "stderr",
          "text": [
            "Iteration: 100%|██████████| 41/41 [00:07<00:00,  5.23it/s]\n",
            "Iteration: 100%|██████████| 8/8 [00:00<00:00, 17.30it/s]\n",
            "100%|██████████| 22/22 [00:01<00:00, 16.35it/s]\n"
          ]
        },
        {
          "output_type": "stream",
          "name": "stdout",
          "text": [
            "105 0.037331146733244745 1.017138347029686 0.8306569343065694\n"
          ]
        },
        {
          "output_type": "stream",
          "name": "stderr",
          "text": [
            "Iteration: 100%|██████████| 41/41 [00:07<00:00,  5.22it/s]\n",
            "Iteration: 100%|██████████| 8/8 [00:00<00:00, 17.53it/s]\n",
            "100%|██████████| 22/22 [00:01<00:00, 16.35it/s]\n"
          ]
        },
        {
          "output_type": "stream",
          "name": "stdout",
          "text": [
            "106 0.03594594053560641 1.0613219887018204 0.8262773722627738\n"
          ]
        },
        {
          "output_type": "stream",
          "name": "stderr",
          "text": [
            "Iteration: 100%|██████████| 41/41 [00:07<00:00,  5.23it/s]\n",
            "Iteration: 100%|██████████| 8/8 [00:00<00:00, 17.59it/s]\n",
            "100%|██████████| 22/22 [00:01<00:00, 16.18it/s]\n"
          ]
        },
        {
          "output_type": "stream",
          "name": "stdout",
          "text": [
            "107 0.03428121601662985 1.0210509076714516 0.8233576642335766\n"
          ]
        },
        {
          "output_type": "stream",
          "name": "stderr",
          "text": [
            "Iteration: 100%|██████████| 41/41 [00:07<00:00,  5.21it/s]\n",
            "Iteration: 100%|██████████| 8/8 [00:00<00:00, 17.46it/s]\n",
            "100%|██████████| 22/22 [00:01<00:00, 16.14it/s]\n"
          ]
        },
        {
          "output_type": "stream",
          "name": "stdout",
          "text": [
            "108 0.0348789888184245 1.0354046747088432 0.8218978102189781\n"
          ]
        },
        {
          "output_type": "stream",
          "name": "stderr",
          "text": [
            "Iteration: 100%|██████████| 41/41 [00:07<00:00,  5.20it/s]\n",
            "Iteration: 100%|██████████| 8/8 [00:00<00:00, 17.43it/s]\n",
            "100%|██████████| 22/22 [00:01<00:00, 16.14it/s]\n"
          ]
        },
        {
          "output_type": "stream",
          "name": "stdout",
          "text": [
            "109 0.0366371138157641 1.0034834891557693 0.8248175182481752\n"
          ]
        },
        {
          "output_type": "stream",
          "name": "stderr",
          "text": [
            "Iteration: 100%|██████████| 41/41 [00:07<00:00,  5.20it/s]\n",
            "Iteration: 100%|██████████| 8/8 [00:00<00:00, 17.57it/s]\n",
            "100%|██████████| 22/22 [00:01<00:00, 16.28it/s]\n"
          ]
        },
        {
          "output_type": "stream",
          "name": "stdout",
          "text": [
            "110 0.03532227049666888 1.2705498561263084 0.8204379562043795\n"
          ]
        },
        {
          "output_type": "stream",
          "name": "stderr",
          "text": [
            "Iteration: 100%|██████████| 41/41 [00:07<00:00,  5.24it/s]\n",
            "Iteration: 100%|██████████| 8/8 [00:00<00:00, 17.73it/s]\n",
            "100%|██████████| 22/22 [00:01<00:00, 16.35it/s]\n"
          ]
        },
        {
          "output_type": "stream",
          "name": "stdout",
          "text": [
            "111 0.031110044523346717 1.052293099462986 0.8233576642335766\n"
          ]
        },
        {
          "output_type": "stream",
          "name": "stderr",
          "text": [
            "Iteration: 100%|██████████| 41/41 [00:07<00:00,  5.23it/s]\n",
            "Iteration: 100%|██████████| 8/8 [00:00<00:00, 17.53it/s]\n",
            "100%|██████████| 22/22 [00:01<00:00, 16.11it/s]\n"
          ]
        },
        {
          "output_type": "stream",
          "name": "stdout",
          "text": [
            "112 0.034575559857596715 1.2339500784873962 0.8277372262773722\n"
          ]
        },
        {
          "output_type": "stream",
          "name": "stderr",
          "text": [
            "Iteration: 100%|██████████| 41/41 [00:07<00:00,  5.23it/s]\n",
            "Iteration: 100%|██████████| 8/8 [00:00<00:00, 17.49it/s]\n",
            "100%|██████████| 22/22 [00:01<00:00, 16.13it/s]\n"
          ]
        },
        {
          "output_type": "stream",
          "name": "stdout",
          "text": [
            "113 0.034325135281173196 1.022027313709259 0.8291970802919708\n"
          ]
        },
        {
          "output_type": "stream",
          "name": "stderr",
          "text": [
            "Iteration: 100%|██████████| 41/41 [00:07<00:00,  5.22it/s]\n",
            "Iteration: 100%|██████████| 8/8 [00:00<00:00, 17.71it/s]\n",
            "100%|██████████| 22/22 [00:01<00:00, 16.32it/s]\n"
          ]
        },
        {
          "output_type": "stream",
          "name": "stdout",
          "text": [
            "114 0.03490728335227908 1.03191639482975 0.8204379562043795\n"
          ]
        },
        {
          "output_type": "stream",
          "name": "stderr",
          "text": [
            "Iteration: 100%|██████████| 41/41 [00:07<00:00,  5.24it/s]\n",
            "Iteration: 100%|██████████| 8/8 [00:00<00:00, 17.42it/s]\n",
            "100%|██████████| 22/22 [00:01<00:00, 16.27it/s]\n"
          ]
        },
        {
          "output_type": "stream",
          "name": "stdout",
          "text": [
            "115 0.03186599645254674 1.0369359403848648 0.8248175182481752\n"
          ]
        },
        {
          "output_type": "stream",
          "name": "stderr",
          "text": [
            "Iteration: 100%|██████████| 41/41 [00:07<00:00,  5.20it/s]\n",
            "Iteration: 100%|██████████| 8/8 [00:00<00:00, 17.70it/s]\n",
            "100%|██████████| 22/22 [00:01<00:00, 16.17it/s]\n"
          ]
        },
        {
          "output_type": "stream",
          "name": "stdout",
          "text": [
            "116 0.0317895877652052 1.014623835682869 0.8233576642335766\n"
          ]
        },
        {
          "output_type": "stream",
          "name": "stderr",
          "text": [
            "Iteration: 100%|██████████| 41/41 [00:07<00:00,  5.23it/s]\n",
            "Iteration: 100%|██████████| 8/8 [00:00<00:00, 17.67it/s]\n",
            "100%|██████████| 22/22 [00:01<00:00, 16.29it/s]\n"
          ]
        },
        {
          "output_type": "stream",
          "name": "stdout",
          "text": [
            "117 0.031840910794349704 1.1380085609853268 0.8277372262773722\n"
          ]
        },
        {
          "output_type": "stream",
          "name": "stderr",
          "text": [
            "Iteration: 100%|██████████| 41/41 [00:07<00:00,  5.21it/s]\n",
            "Iteration: 100%|██████████| 8/8 [00:00<00:00, 17.31it/s]\n",
            "100%|██████████| 22/22 [00:01<00:00, 16.27it/s]\n"
          ]
        },
        {
          "output_type": "stream",
          "name": "stdout",
          "text": [
            "118 0.028859250979333343 1.0626444965600967 0.8218978102189781\n"
          ]
        },
        {
          "output_type": "stream",
          "name": "stderr",
          "text": [
            "Iteration: 100%|██████████| 41/41 [00:07<00:00,  5.24it/s]\n",
            "Iteration: 100%|██████████| 8/8 [00:00<00:00, 17.68it/s]\n",
            "100%|██████████| 22/22 [00:01<00:00, 16.27it/s]\n"
          ]
        },
        {
          "output_type": "stream",
          "name": "stdout",
          "text": [
            "119 0.02657536830662227 1.0586204677820206 0.8277372262773722\n"
          ]
        },
        {
          "output_type": "stream",
          "name": "stderr",
          "text": [
            "Iteration: 100%|██████████| 41/41 [00:07<00:00,  5.22it/s]\n",
            "Iteration: 100%|██████████| 8/8 [00:00<00:00, 17.52it/s]\n",
            "100%|██████████| 22/22 [00:01<00:00, 16.16it/s]\n"
          ]
        },
        {
          "output_type": "stream",
          "name": "stdout",
          "text": [
            "120 0.02927226071223253 0.996489193290472 0.8233576642335766\n"
          ]
        },
        {
          "output_type": "stream",
          "name": "stderr",
          "text": [
            "Iteration: 100%|██████████| 41/41 [00:07<00:00,  5.20it/s]\n",
            "Iteration: 100%|██████████| 8/8 [00:00<00:00, 17.42it/s]\n",
            "100%|██████████| 22/22 [00:01<00:00, 16.37it/s]\n"
          ]
        },
        {
          "output_type": "stream",
          "name": "stdout",
          "text": [
            "121 0.02970133725803618 0.9938297271728516 0.8204379562043795\n"
          ]
        },
        {
          "output_type": "stream",
          "name": "stderr",
          "text": [
            "Iteration: 100%|██████████| 41/41 [00:07<00:00,  5.21it/s]\n",
            "Iteration: 100%|██████████| 8/8 [00:00<00:00, 17.45it/s]\n",
            "100%|██████████| 22/22 [00:01<00:00, 16.30it/s]\n"
          ]
        },
        {
          "output_type": "stream",
          "name": "stdout",
          "text": [
            "122 0.029082233813114283 0.9883039779961109 0.8189781021897811\n"
          ]
        },
        {
          "output_type": "stream",
          "name": "stderr",
          "text": [
            "Iteration: 100%|██████████| 41/41 [00:07<00:00,  5.20it/s]\n",
            "Iteration: 100%|██████████| 8/8 [00:00<00:00, 17.71it/s]\n",
            "100%|██████████| 22/22 [00:01<00:00, 16.28it/s]\n"
          ]
        },
        {
          "output_type": "stream",
          "name": "stdout",
          "text": [
            "123 0.03349732975589066 1.0333946719765663 0.8189781021897811\n"
          ]
        },
        {
          "output_type": "stream",
          "name": "stderr",
          "text": [
            "Iteration: 100%|██████████| 41/41 [00:07<00:00,  5.22it/s]\n",
            "Iteration: 100%|██████████| 8/8 [00:00<00:00, 17.49it/s]\n",
            "100%|██████████| 22/22 [00:01<00:00, 16.16it/s]\n"
          ]
        },
        {
          "output_type": "stream",
          "name": "stdout",
          "text": [
            "124 0.030179415943055617 1.0137998089194298 0.8145985401459854\n"
          ]
        },
        {
          "output_type": "stream",
          "name": "stderr",
          "text": [
            "Iteration: 100%|██████████| 41/41 [00:07<00:00,  5.22it/s]\n",
            "Iteration: 100%|██████████| 8/8 [00:00<00:00, 17.44it/s]\n",
            "100%|██████████| 22/22 [00:01<00:00, 16.27it/s]\n"
          ]
        },
        {
          "output_type": "stream",
          "name": "stdout",
          "text": [
            "125 0.026044536972554717 1.084347814321518 0.8160583941605839\n"
          ]
        },
        {
          "output_type": "stream",
          "name": "stderr",
          "text": [
            "Iteration: 100%|██████████| 41/41 [00:07<00:00,  5.23it/s]\n",
            "Iteration: 100%|██████████| 8/8 [00:00<00:00, 17.55it/s]\n",
            "100%|██████████| 22/22 [00:01<00:00, 16.32it/s]\n"
          ]
        },
        {
          "output_type": "stream",
          "name": "stdout",
          "text": [
            "126 0.02878932302772272 0.979608491063118 0.8233576642335766\n"
          ]
        },
        {
          "output_type": "stream",
          "name": "stderr",
          "text": [
            "Iteration: 100%|██████████| 41/41 [00:07<00:00,  5.21it/s]\n",
            "Iteration: 100%|██████████| 8/8 [00:00<00:00, 17.59it/s]\n",
            "100%|██████████| 22/22 [00:01<00:00, 16.31it/s]\n"
          ]
        },
        {
          "output_type": "stream",
          "name": "stdout",
          "text": [
            "127 0.027882643680020077 0.9827254228293896 0.8262773722627738\n"
          ]
        },
        {
          "output_type": "stream",
          "name": "stderr",
          "text": [
            "Iteration: 100%|██████████| 41/41 [00:07<00:00,  5.23it/s]\n",
            "Iteration: 100%|██████████| 8/8 [00:00<00:00, 17.54it/s]\n",
            "100%|██████████| 22/22 [00:01<00:00, 16.16it/s]\n"
          ]
        },
        {
          "output_type": "stream",
          "name": "stdout",
          "text": [
            "128 0.02843882338777071 1.008171945810318 0.8233576642335766\n"
          ]
        },
        {
          "output_type": "stream",
          "name": "stderr",
          "text": [
            "Iteration: 100%|██████████| 41/41 [00:07<00:00,  5.22it/s]\n",
            "Iteration: 100%|██████████| 8/8 [00:00<00:00, 17.47it/s]\n",
            "100%|██████████| 22/22 [00:01<00:00, 16.25it/s]\n"
          ]
        },
        {
          "output_type": "stream",
          "name": "stdout",
          "text": [
            "129 0.026123271677245544 1.0062725692987442 0.8218978102189781\n"
          ]
        },
        {
          "output_type": "stream",
          "name": "stderr",
          "text": [
            "Iteration: 100%|██████████| 41/41 [00:07<00:00,  5.21it/s]\n",
            "Iteration: 100%|██████████| 8/8 [00:00<00:00, 17.64it/s]\n",
            "100%|██████████| 22/22 [00:01<00:00, 16.23it/s]\n"
          ]
        },
        {
          "output_type": "stream",
          "name": "stdout",
          "text": [
            "130 0.024971147454003008 1.1358577981591225 0.8218978102189781\n"
          ]
        },
        {
          "output_type": "stream",
          "name": "stderr",
          "text": [
            "Iteration: 100%|██████████| 41/41 [00:07<00:00,  5.23it/s]\n",
            "Iteration: 100%|██████████| 8/8 [00:00<00:00, 17.57it/s]\n",
            "100%|██████████| 22/22 [00:01<00:00, 16.28it/s]\n"
          ]
        },
        {
          "output_type": "stream",
          "name": "stdout",
          "text": [
            "131 0.0254850703541462 1.2389703169465065 0.8218978102189781\n"
          ]
        },
        {
          "output_type": "stream",
          "name": "stderr",
          "text": [
            "Iteration: 100%|██████████| 41/41 [00:07<00:00,  5.23it/s]\n",
            "Iteration: 100%|██████████| 8/8 [00:00<00:00, 17.43it/s]\n",
            "100%|██████████| 22/22 [00:01<00:00, 16.37it/s]\n"
          ]
        },
        {
          "output_type": "stream",
          "name": "stdout",
          "text": [
            "132 0.02723054138080376 1.132508970797062 0.8277372262773722\n"
          ]
        },
        {
          "output_type": "stream",
          "name": "stderr",
          "text": [
            "Iteration: 100%|██████████| 41/41 [00:07<00:00,  5.24it/s]\n",
            "Iteration: 100%|██████████| 8/8 [00:00<00:00, 17.53it/s]\n",
            "100%|██████████| 22/22 [00:01<00:00, 16.21it/s]\n"
          ]
        },
        {
          "output_type": "stream",
          "name": "stdout",
          "text": [
            "133 0.02804155536450264 1.065179768949747 0.8218978102189781\n"
          ]
        },
        {
          "output_type": "stream",
          "name": "stderr",
          "text": [
            "Iteration: 100%|██████████| 41/41 [00:07<00:00,  5.22it/s]\n",
            "Iteration: 100%|██████████| 8/8 [00:00<00:00, 17.66it/s]\n",
            "100%|██████████| 22/22 [00:01<00:00, 16.26it/s]\n"
          ]
        },
        {
          "output_type": "stream",
          "name": "stdout",
          "text": [
            "134 0.02875042020729402 0.9995659068226814 0.8262773722627738\n"
          ]
        },
        {
          "output_type": "stream",
          "name": "stderr",
          "text": [
            "Iteration: 100%|██████████| 41/41 [00:07<00:00,  5.21it/s]\n",
            "Iteration: 100%|██████████| 8/8 [00:00<00:00, 17.65it/s]\n",
            "100%|██████████| 22/22 [00:01<00:00, 16.26it/s]\n"
          ]
        },
        {
          "output_type": "stream",
          "name": "stdout",
          "text": [
            "135 0.028806327660454482 1.066261600703001 0.8204379562043795\n"
          ]
        },
        {
          "output_type": "stream",
          "name": "stderr",
          "text": [
            "Iteration: 100%|██████████| 41/41 [00:07<00:00,  5.24it/s]\n",
            "Iteration: 100%|██████████| 8/8 [00:00<00:00, 17.61it/s]\n",
            "100%|██████████| 22/22 [00:01<00:00, 16.26it/s]\n"
          ]
        },
        {
          "output_type": "stream",
          "name": "stdout",
          "text": [
            "136 0.026571445257925406 0.9813540168106556 0.8218978102189781\n"
          ]
        },
        {
          "output_type": "stream",
          "name": "stderr",
          "text": [
            "Iteration: 100%|██████████| 41/41 [00:07<00:00,  5.23it/s]\n",
            "Iteration: 100%|██████████| 8/8 [00:00<00:00, 17.45it/s]\n",
            "100%|██████████| 22/22 [00:01<00:00, 16.27it/s]\n"
          ]
        },
        {
          "output_type": "stream",
          "name": "stdout",
          "text": [
            "137 0.02640907089339524 1.160702720284462 0.8218978102189781\n"
          ]
        },
        {
          "output_type": "stream",
          "name": "stderr",
          "text": [
            "Iteration: 100%|██████████| 41/41 [00:07<00:00,  5.22it/s]\n",
            "Iteration: 100%|██████████| 8/8 [00:00<00:00, 17.45it/s]\n",
            "100%|██████████| 22/22 [00:01<00:00, 16.13it/s]\n"
          ]
        },
        {
          "output_type": "stream",
          "name": "stdout",
          "text": [
            "138 0.027829050262215143 1.098941683769226 0.8189781021897811\n"
          ]
        },
        {
          "output_type": "stream",
          "name": "stderr",
          "text": [
            "Iteration: 100%|██████████| 41/41 [00:07<00:00,  5.21it/s]\n",
            "Iteration: 100%|██████████| 8/8 [00:00<00:00, 17.41it/s]\n",
            "100%|██████████| 22/22 [00:01<00:00, 16.30it/s]\n"
          ]
        },
        {
          "output_type": "stream",
          "name": "stdout",
          "text": [
            "139 0.024537811578228708 1.0386815667152405 0.8233576642335766\n"
          ]
        },
        {
          "output_type": "stream",
          "name": "stderr",
          "text": [
            "Iteration: 100%|██████████| 41/41 [00:07<00:00,  5.24it/s]\n",
            "Iteration: 100%|██████████| 8/8 [00:00<00:00, 17.49it/s]\n",
            "100%|██████████| 22/22 [00:01<00:00, 16.22it/s]\n"
          ]
        },
        {
          "output_type": "stream",
          "name": "stdout",
          "text": [
            "140 0.026049456212715042 0.9881163649260998 0.8262773722627738\n"
          ]
        },
        {
          "output_type": "stream",
          "name": "stderr",
          "text": [
            "Iteration: 100%|██████████| 41/41 [00:07<00:00,  5.20it/s]\n",
            "Iteration: 100%|██████████| 8/8 [00:00<00:00, 17.50it/s]\n",
            "100%|██████████| 22/22 [00:01<00:00, 16.19it/s]\n"
          ]
        },
        {
          "output_type": "stream",
          "name": "stdout",
          "text": [
            "141 0.024109783673250094 0.9967034943401814 0.8175182481751825\n"
          ]
        },
        {
          "output_type": "stream",
          "name": "stderr",
          "text": [
            "Iteration: 100%|██████████| 41/41 [00:07<00:00,  5.23it/s]\n",
            "Iteration: 100%|██████████| 8/8 [00:00<00:00, 17.60it/s]\n",
            "100%|██████████| 22/22 [00:01<00:00, 16.21it/s]\n"
          ]
        },
        {
          "output_type": "stream",
          "name": "stdout",
          "text": [
            "142 0.030875075404055236 1.0067135617136955 0.8189781021897811\n"
          ]
        },
        {
          "output_type": "stream",
          "name": "stderr",
          "text": [
            "Iteration: 100%|██████████| 41/41 [00:07<00:00,  5.22it/s]\n",
            "Iteration: 100%|██████████| 8/8 [00:00<00:00, 17.34it/s]\n",
            "100%|██████████| 22/22 [00:01<00:00, 16.31it/s]\n"
          ]
        },
        {
          "output_type": "stream",
          "name": "stdout",
          "text": [
            "143 0.02495535581213672 0.9856337085366249 0.8248175182481752\n"
          ]
        },
        {
          "output_type": "stream",
          "name": "stderr",
          "text": [
            "Iteration: 100%|██████████| 41/41 [00:07<00:00,  5.23it/s]\n",
            "Iteration: 100%|██████████| 8/8 [00:00<00:00, 17.45it/s]\n",
            "100%|██████████| 22/22 [00:01<00:00, 16.36it/s]\n"
          ]
        },
        {
          "output_type": "stream",
          "name": "stdout",
          "text": [
            "144 0.02578015366523731 1.032040886580944 0.8189781021897811\n"
          ]
        },
        {
          "output_type": "stream",
          "name": "stderr",
          "text": [
            "Iteration: 100%|██████████| 41/41 [00:07<00:00,  5.21it/s]\n",
            "Iteration: 100%|██████████| 8/8 [00:00<00:00, 17.53it/s]\n",
            "100%|██████████| 22/22 [00:01<00:00, 16.28it/s]\n"
          ]
        },
        {
          "output_type": "stream",
          "name": "stdout",
          "text": [
            "145 0.025869336615248425 0.9745131582021713 0.8233576642335766\n"
          ]
        },
        {
          "output_type": "stream",
          "name": "stderr",
          "text": [
            "Iteration: 100%|██████████| 41/41 [00:07<00:00,  5.24it/s]\n",
            "Iteration: 100%|██████████| 8/8 [00:00<00:00, 17.58it/s]\n",
            "100%|██████████| 22/22 [00:01<00:00, 16.33it/s]\n"
          ]
        },
        {
          "output_type": "stream",
          "name": "stdout",
          "text": [
            "146 0.024498894665157422 1.0041606575250626 0.8204379562043795\n"
          ]
        },
        {
          "output_type": "stream",
          "name": "stderr",
          "text": [
            "Iteration: 100%|██████████| 41/41 [00:07<00:00,  5.22it/s]\n",
            "Iteration: 100%|██████████| 8/8 [00:00<00:00, 17.58it/s]\n",
            "100%|██████████| 22/22 [00:01<00:00, 16.19it/s]\n"
          ]
        },
        {
          "output_type": "stream",
          "name": "stdout",
          "text": [
            "147 0.02296997828369324 1.1865517683327198 0.8175182481751825\n"
          ]
        },
        {
          "output_type": "stream",
          "name": "stderr",
          "text": [
            "Iteration: 100%|██████████| 41/41 [00:07<00:00,  5.20it/s]\n",
            "Iteration: 100%|██████████| 8/8 [00:00<00:00, 17.55it/s]\n",
            "100%|██████████| 22/22 [00:01<00:00, 16.04it/s]\n"
          ]
        },
        {
          "output_type": "stream",
          "name": "stdout",
          "text": [
            "148 0.022124409403015927 1.0408032275736332 0.8145985401459854\n"
          ]
        },
        {
          "output_type": "stream",
          "name": "stderr",
          "text": [
            "Iteration: 100%|██████████| 41/41 [00:07<00:00,  5.20it/s]\n",
            "Iteration: 100%|██████████| 8/8 [00:00<00:00, 17.45it/s]\n",
            "100%|██████████| 22/22 [00:01<00:00, 16.21it/s]\n"
          ]
        },
        {
          "output_type": "stream",
          "name": "stdout",
          "text": [
            "149 0.02185096216910496 1.1037311106920242 0.8218978102189781\n"
          ]
        },
        {
          "output_type": "stream",
          "name": "stderr",
          "text": [
            "Iteration: 100%|██████████| 41/41 [00:07<00:00,  5.22it/s]\n",
            "Iteration: 100%|██████████| 8/8 [00:00<00:00, 17.44it/s]\n",
            "100%|██████████| 22/22 [00:01<00:00, 16.25it/s]\n"
          ]
        },
        {
          "output_type": "stream",
          "name": "stdout",
          "text": [
            "150 0.022802403912220787 1.0030051246285439 0.8204379562043795\n"
          ]
        },
        {
          "output_type": "stream",
          "name": "stderr",
          "text": [
            "Iteration: 100%|██████████| 41/41 [00:07<00:00,  5.21it/s]\n",
            "Iteration: 100%|██████████| 8/8 [00:00<00:00, 17.48it/s]\n",
            "100%|██████████| 22/22 [00:01<00:00, 16.28it/s]\n"
          ]
        },
        {
          "output_type": "stream",
          "name": "stdout",
          "text": [
            "151 0.022894478789189966 0.9338569617830217 0.8233576642335766\n"
          ]
        },
        {
          "output_type": "stream",
          "name": "stderr",
          "text": [
            "Iteration: 100%|██████████| 41/41 [00:07<00:00,  5.19it/s]\n",
            "Iteration: 100%|██████████| 8/8 [00:00<00:00, 17.70it/s]\n",
            "100%|██████████| 22/22 [00:01<00:00, 16.19it/s]\n"
          ]
        },
        {
          "output_type": "stream",
          "name": "stdout",
          "text": [
            "152 0.023386218653219503 0.951262841001153 0.8160583941605839\n"
          ]
        },
        {
          "output_type": "stream",
          "name": "stderr",
          "text": [
            "Iteration: 100%|██████████| 41/41 [00:07<00:00,  5.24it/s]\n",
            "Iteration: 100%|██████████| 8/8 [00:00<00:00, 17.42it/s]\n",
            "100%|██████████| 22/22 [00:01<00:00, 16.28it/s]\n"
          ]
        },
        {
          "output_type": "stream",
          "name": "stdout",
          "text": [
            "153 0.02409975377206759 0.9810329154133797 0.8160583941605839\n"
          ]
        },
        {
          "output_type": "stream",
          "name": "stderr",
          "text": [
            "Iteration: 100%|██████████| 41/41 [00:07<00:00,  5.21it/s]\n",
            "Iteration: 100%|██████████| 8/8 [00:00<00:00, 17.54it/s]\n",
            "100%|██████████| 22/22 [00:01<00:00, 16.15it/s]\n"
          ]
        },
        {
          "output_type": "stream",
          "name": "stdout",
          "text": [
            "154 0.021935085947738915 1.1381937190890312 0.8233576642335766\n"
          ]
        },
        {
          "output_type": "stream",
          "name": "stderr",
          "text": [
            "Iteration: 100%|██████████| 41/41 [00:07<00:00,  5.20it/s]\n",
            "Iteration: 100%|██████████| 8/8 [00:00<00:00, 17.54it/s]\n",
            "100%|██████████| 22/22 [00:01<00:00, 16.20it/s]\n"
          ]
        },
        {
          "output_type": "stream",
          "name": "stdout",
          "text": [
            "155 0.02181502559971882 0.9599341675639153 0.8218978102189781\n"
          ]
        },
        {
          "output_type": "stream",
          "name": "stderr",
          "text": [
            "Iteration: 100%|██████████| 41/41 [00:07<00:00,  5.23it/s]\n",
            "Iteration: 100%|██████████| 8/8 [00:00<00:00, 17.51it/s]\n",
            "100%|██████████| 22/22 [00:01<00:00, 16.18it/s]\n"
          ]
        },
        {
          "output_type": "stream",
          "name": "stdout",
          "text": [
            "156 0.024991203402949882 1.0184747204184532 0.8218978102189781\n"
          ]
        },
        {
          "output_type": "stream",
          "name": "stderr",
          "text": [
            "Iteration: 100%|██████████| 41/41 [00:07<00:00,  5.23it/s]\n",
            "Iteration: 100%|██████████| 8/8 [00:00<00:00, 17.55it/s]\n",
            "100%|██████████| 22/22 [00:01<00:00, 16.18it/s]\n"
          ]
        },
        {
          "output_type": "stream",
          "name": "stdout",
          "text": [
            "157 0.020688350903006587 1.1761675924062729 0.8189781021897811\n"
          ]
        },
        {
          "output_type": "stream",
          "name": "stderr",
          "text": [
            "Iteration: 100%|██████████| 41/41 [00:07<00:00,  5.23it/s]\n",
            "Iteration: 100%|██████████| 8/8 [00:00<00:00, 17.39it/s]\n",
            "100%|██████████| 22/22 [00:01<00:00, 16.38it/s]\n"
          ]
        },
        {
          "output_type": "stream",
          "name": "stdout",
          "text": [
            "158 0.021150186559236495 1.1260827630758286 0.8218978102189781\n"
          ]
        },
        {
          "output_type": "stream",
          "name": "stderr",
          "text": [
            "Iteration: 100%|██████████| 41/41 [00:07<00:00,  5.21it/s]\n",
            "Iteration: 100%|██████████| 8/8 [00:00<00:00, 17.39it/s]\n",
            "100%|██████████| 22/22 [00:01<00:00, 16.29it/s]\n"
          ]
        },
        {
          "output_type": "stream",
          "name": "stdout",
          "text": [
            "159 0.020929368848844273 0.9528467794880271 0.8189781021897811\n"
          ]
        },
        {
          "output_type": "stream",
          "name": "stderr",
          "text": [
            "Iteration: 100%|██████████| 41/41 [00:07<00:00,  5.24it/s]\n",
            "Iteration: 100%|██████████| 8/8 [00:00<00:00, 17.64it/s]\n",
            "100%|██████████| 22/22 [00:01<00:00, 16.33it/s]\n"
          ]
        },
        {
          "output_type": "stream",
          "name": "stdout",
          "text": [
            "160 0.020567234582835582 1.5166296437382698 0.8248175182481752\n"
          ]
        },
        {
          "output_type": "stream",
          "name": "stderr",
          "text": [
            "Iteration: 100%|██████████| 41/41 [00:07<00:00,  5.22it/s]\n",
            "Iteration: 100%|██████████| 8/8 [00:00<00:00, 17.66it/s]\n",
            "100%|██████████| 22/22 [00:01<00:00, 16.27it/s]\n"
          ]
        },
        {
          "output_type": "stream",
          "name": "stdout",
          "text": [
            "161 0.022806855145750975 0.9912518672645092 0.8204379562043795\n"
          ]
        },
        {
          "output_type": "stream",
          "name": "stderr",
          "text": [
            "Iteration: 100%|██████████| 41/41 [00:07<00:00,  5.22it/s]\n",
            "Iteration: 100%|██████████| 8/8 [00:00<00:00, 17.55it/s]\n",
            "100%|██████████| 22/22 [00:01<00:00, 16.21it/s]\n"
          ]
        },
        {
          "output_type": "stream",
          "name": "stdout",
          "text": [
            "162 0.026486178746492398 1.0924911573529243 0.8218978102189781\n"
          ]
        },
        {
          "output_type": "stream",
          "name": "stderr",
          "text": [
            "Iteration: 100%|██████████| 41/41 [00:07<00:00,  5.24it/s]\n",
            "Iteration: 100%|██████████| 8/8 [00:00<00:00, 17.58it/s]\n",
            "100%|██████████| 22/22 [00:01<00:00, 16.35it/s]\n"
          ]
        },
        {
          "output_type": "stream",
          "name": "stdout",
          "text": [
            "163 0.02346437508467494 1.088306300342083 0.8175182481751825\n"
          ]
        },
        {
          "output_type": "stream",
          "name": "stderr",
          "text": [
            "Iteration: 100%|██████████| 41/41 [00:07<00:00,  5.22it/s]\n",
            "Iteration: 100%|██████████| 8/8 [00:00<00:00, 17.62it/s]\n",
            "100%|██████████| 22/22 [00:01<00:00, 16.17it/s]\n"
          ]
        },
        {
          "output_type": "stream",
          "name": "stdout",
          "text": [
            "164 0.023703671810103626 0.9920656830072403 0.8248175182481752\n"
          ]
        },
        {
          "output_type": "stream",
          "name": "stderr",
          "text": [
            "Iteration: 100%|██████████| 41/41 [00:07<00:00,  5.23it/s]\n",
            "Iteration: 100%|██████████| 8/8 [00:00<00:00, 17.54it/s]\n",
            "100%|██████████| 22/22 [00:01<00:00, 16.28it/s]\n"
          ]
        },
        {
          "output_type": "stream",
          "name": "stdout",
          "text": [
            "165 0.023905496158432668 0.9934529438614845 0.8233576642335766\n"
          ]
        },
        {
          "output_type": "stream",
          "name": "stderr",
          "text": [
            "Iteration: 100%|██████████| 41/41 [00:07<00:00,  5.22it/s]\n",
            "Iteration: 100%|██████████| 8/8 [00:00<00:00, 17.59it/s]\n",
            "100%|██████████| 22/22 [00:01<00:00, 16.34it/s]\n"
          ]
        },
        {
          "output_type": "stream",
          "name": "stdout",
          "text": [
            "166 0.02346192646469473 0.9463964588940144 0.8175182481751825\n"
          ]
        },
        {
          "output_type": "stream",
          "name": "stderr",
          "text": [
            "Iteration: 100%|██████████| 41/41 [00:07<00:00,  5.21it/s]\n",
            "Iteration: 100%|██████████| 8/8 [00:00<00:00, 17.43it/s]\n",
            "100%|██████████| 22/22 [00:01<00:00, 16.29it/s]\n"
          ]
        },
        {
          "output_type": "stream",
          "name": "stdout",
          "text": [
            "167 0.02020283704396428 0.9948983862996101 0.8160583941605839\n"
          ]
        },
        {
          "output_type": "stream",
          "name": "stderr",
          "text": [
            "Iteration: 100%|██████████| 41/41 [00:07<00:00,  5.19it/s]\n",
            "Iteration: 100%|██████████| 8/8 [00:00<00:00, 17.76it/s]\n",
            "100%|██████████| 22/22 [00:01<00:00, 16.27it/s]\n"
          ]
        },
        {
          "output_type": "stream",
          "name": "stdout",
          "text": [
            "168 0.022037827534737382 0.9415901023894548 0.8189781021897811\n"
          ]
        },
        {
          "output_type": "stream",
          "name": "stderr",
          "text": [
            "Iteration: 100%|██████████| 41/41 [00:07<00:00,  5.22it/s]\n",
            "Iteration: 100%|██████████| 8/8 [00:00<00:00, 17.68it/s]\n",
            "100%|██████████| 22/22 [00:01<00:00, 16.22it/s]\n"
          ]
        },
        {
          "output_type": "stream",
          "name": "stdout",
          "text": [
            "169 0.021271287080286663 1.121318906545639 0.8248175182481752\n"
          ]
        },
        {
          "output_type": "stream",
          "name": "stderr",
          "text": [
            "Iteration: 100%|██████████| 41/41 [00:07<00:00,  5.23it/s]\n",
            "Iteration: 100%|██████████| 8/8 [00:00<00:00, 17.69it/s]\n",
            "100%|██████████| 22/22 [00:01<00:00, 16.28it/s]\n"
          ]
        },
        {
          "output_type": "stream",
          "name": "stdout",
          "text": [
            "170 0.018681341623205963 0.9570459723472595 0.8189781021897811\n"
          ]
        },
        {
          "output_type": "stream",
          "name": "stderr",
          "text": [
            "Iteration: 100%|██████████| 41/41 [00:07<00:00,  5.23it/s]\n",
            "Iteration: 100%|██████████| 8/8 [00:00<00:00, 17.63it/s]\n",
            "100%|██████████| 22/22 [00:01<00:00, 16.23it/s]\n"
          ]
        },
        {
          "output_type": "stream",
          "name": "stdout",
          "text": [
            "171 0.019542869339447197 0.9467080794274807 0.8233576642335766\n"
          ]
        },
        {
          "output_type": "stream",
          "name": "stderr",
          "text": [
            "Iteration: 100%|██████████| 41/41 [00:07<00:00,  5.21it/s]\n",
            "Iteration: 100%|██████████| 8/8 [00:00<00:00, 17.61it/s]\n",
            "100%|██████████| 22/22 [00:01<00:00, 16.29it/s]\n"
          ]
        },
        {
          "output_type": "stream",
          "name": "stdout",
          "text": [
            "172 0.02085687162603213 0.9756834730505943 0.8204379562043795\n"
          ]
        },
        {
          "output_type": "stream",
          "name": "stderr",
          "text": [
            "Iteration: 100%|██████████| 41/41 [00:07<00:00,  5.24it/s]\n",
            "Iteration: 100%|██████████| 8/8 [00:00<00:00, 17.58it/s]\n",
            "100%|██████████| 22/22 [00:01<00:00, 16.25it/s]\n"
          ]
        },
        {
          "output_type": "stream",
          "name": "stdout",
          "text": [
            "173 0.01950971490317365 1.1866205632686615 0.8131386861313868\n"
          ]
        },
        {
          "output_type": "stream",
          "name": "stderr",
          "text": [
            "Iteration: 100%|██████████| 41/41 [00:07<00:00,  5.20it/s]\n",
            "Iteration: 100%|██████████| 8/8 [00:00<00:00, 17.48it/s]\n",
            "100%|██████████| 22/22 [00:01<00:00, 16.17it/s]\n"
          ]
        },
        {
          "output_type": "stream",
          "name": "stdout",
          "text": [
            "174 0.019627358355536695 0.9847769439220428 0.8218978102189781\n"
          ]
        },
        {
          "output_type": "stream",
          "name": "stderr",
          "text": [
            "Iteration: 100%|██████████| 41/41 [00:07<00:00,  5.20it/s]\n",
            "Iteration: 100%|██████████| 8/8 [00:00<00:00, 17.48it/s]\n",
            "100%|██████████| 22/22 [00:01<00:00, 16.21it/s]\n"
          ]
        },
        {
          "output_type": "stream",
          "name": "stdout",
          "text": [
            "175 0.019182996767595772 0.9557492639869452 0.8262773722627738\n"
          ]
        },
        {
          "output_type": "stream",
          "name": "stderr",
          "text": [
            "Iteration: 100%|██████████| 41/41 [00:07<00:00,  5.22it/s]\n",
            "Iteration: 100%|██████████| 8/8 [00:00<00:00, 17.26it/s]\n",
            "100%|██████████| 22/22 [00:01<00:00, 16.25it/s]\n"
          ]
        },
        {
          "output_type": "stream",
          "name": "stdout",
          "text": [
            "176 0.018653915871343598 0.9383588675409555 0.8189781021897811\n"
          ]
        },
        {
          "output_type": "stream",
          "name": "stderr",
          "text": [
            "Iteration: 100%|██████████| 41/41 [00:07<00:00,  5.23it/s]\n",
            "Iteration: 100%|██████████| 8/8 [00:00<00:00, 17.61it/s]\n",
            "100%|██████████| 22/22 [00:01<00:00, 16.33it/s]\n"
          ]
        },
        {
          "output_type": "stream",
          "name": "stdout",
          "text": [
            "177 0.019264522144888958 1.1318202801048756 0.8262773722627738\n"
          ]
        },
        {
          "output_type": "stream",
          "name": "stderr",
          "text": [
            "Iteration: 100%|██████████| 41/41 [00:07<00:00,  5.24it/s]\n",
            "Iteration: 100%|██████████| 8/8 [00:00<00:00, 17.61it/s]\n",
            "100%|██████████| 22/22 [00:01<00:00, 16.20it/s]\n"
          ]
        },
        {
          "output_type": "stream",
          "name": "stdout",
          "text": [
            "178 0.018821515006626526 1.3378624469041824 0.8233576642335766\n"
          ]
        },
        {
          "output_type": "stream",
          "name": "stderr",
          "text": [
            "Iteration: 100%|██████████| 41/41 [00:07<00:00,  5.23it/s]\n",
            "Iteration: 100%|██████████| 8/8 [00:00<00:00, 17.46it/s]\n",
            "100%|██████████| 22/22 [00:01<00:00, 16.35it/s]\n"
          ]
        },
        {
          "output_type": "stream",
          "name": "stdout",
          "text": [
            "179 0.019554554751688023 1.0973294600844383 0.8204379562043795\n"
          ]
        },
        {
          "output_type": "stream",
          "name": "stderr",
          "text": [
            "Iteration: 100%|██████████| 41/41 [00:07<00:00,  5.20it/s]\n",
            "Iteration: 100%|██████████| 8/8 [00:00<00:00, 17.73it/s]\n",
            "100%|██████████| 22/22 [00:01<00:00, 16.26it/s]\n"
          ]
        },
        {
          "output_type": "stream",
          "name": "stdout",
          "text": [
            "180 0.019658772433858093 0.9780077300965786 0.8204379562043795\n"
          ]
        },
        {
          "output_type": "stream",
          "name": "stderr",
          "text": [
            "Iteration: 100%|██████████| 41/41 [00:07<00:00,  5.22it/s]\n",
            "Iteration: 100%|██████████| 8/8 [00:00<00:00, 17.51it/s]\n",
            "100%|██████████| 22/22 [00:01<00:00, 16.21it/s]\n"
          ]
        },
        {
          "output_type": "stream",
          "name": "stdout",
          "text": [
            "181 0.02136427678860633 1.0451090782880783 0.8160583941605839\n"
          ]
        },
        {
          "output_type": "stream",
          "name": "stderr",
          "text": [
            "Iteration: 100%|██████████| 41/41 [00:07<00:00,  5.22it/s]\n",
            "Iteration: 100%|██████████| 8/8 [00:00<00:00, 17.71it/s]\n",
            "100%|██████████| 22/22 [00:01<00:00, 16.34it/s]\n"
          ]
        },
        {
          "output_type": "stream",
          "name": "stdout",
          "text": [
            "182 0.017954874241429313 1.0598991736769676 0.8218978102189781\n"
          ]
        },
        {
          "output_type": "stream",
          "name": "stderr",
          "text": [
            "Iteration: 100%|██████████| 41/41 [00:07<00:00,  5.21it/s]\n",
            "Iteration: 100%|██████████| 8/8 [00:00<00:00, 17.67it/s]\n",
            "100%|██████████| 22/22 [00:01<00:00, 16.22it/s]\n"
          ]
        },
        {
          "output_type": "stream",
          "name": "stdout",
          "text": [
            "183 0.01726160114403905 0.9790888801217079 0.8218978102189781\n"
          ]
        },
        {
          "output_type": "stream",
          "name": "stderr",
          "text": [
            "Iteration: 100%|██████████| 41/41 [00:07<00:00,  5.21it/s]\n",
            "Iteration: 100%|██████████| 8/8 [00:00<00:00, 17.61it/s]\n",
            "100%|██████████| 22/22 [00:01<00:00, 16.23it/s]\n"
          ]
        },
        {
          "output_type": "stream",
          "name": "stdout",
          "text": [
            "184 0.016618515359146928 0.9379508551210165 0.8218978102189781\n"
          ]
        },
        {
          "output_type": "stream",
          "name": "stderr",
          "text": [
            "Iteration: 100%|██████████| 41/41 [00:07<00:00,  5.23it/s]\n",
            "Iteration: 100%|██████████| 8/8 [00:00<00:00, 17.42it/s]\n",
            "100%|██████████| 22/22 [00:01<00:00, 16.25it/s]\n"
          ]
        },
        {
          "output_type": "stream",
          "name": "stdout",
          "text": [
            "185 0.016965717338479874 0.9913956373929977 0.8189781021897811\n"
          ]
        },
        {
          "output_type": "stream",
          "name": "stderr",
          "text": [
            "Iteration: 100%|██████████| 41/41 [00:07<00:00,  5.23it/s]\n",
            "Iteration: 100%|██████████| 8/8 [00:00<00:00, 17.50it/s]\n",
            "100%|██████████| 22/22 [00:01<00:00, 16.07it/s]\n"
          ]
        },
        {
          "output_type": "stream",
          "name": "stdout",
          "text": [
            "186 0.01792932408521088 1.0497938692569733 0.8160583941605839\n"
          ]
        },
        {
          "output_type": "stream",
          "name": "stderr",
          "text": [
            "Iteration: 100%|██████████| 41/41 [00:07<00:00,  5.22it/s]\n",
            "Iteration: 100%|██████████| 8/8 [00:00<00:00, 17.71it/s]\n",
            "100%|██████████| 22/22 [00:01<00:00, 16.22it/s]\n"
          ]
        },
        {
          "output_type": "stream",
          "name": "stdout",
          "text": [
            "187 0.017253818182614008 1.1553696766495705 0.8189781021897811\n"
          ]
        },
        {
          "output_type": "stream",
          "name": "stderr",
          "text": [
            "Iteration: 100%|██████████| 41/41 [00:07<00:00,  5.21it/s]\n",
            "Iteration: 100%|██████████| 8/8 [00:00<00:00, 17.58it/s]\n",
            "100%|██████████| 22/22 [00:01<00:00, 16.19it/s]\n"
          ]
        },
        {
          "output_type": "stream",
          "name": "stdout",
          "text": [
            "188 0.018128918909763054 1.0548522621393204 0.8233576642335766\n"
          ]
        },
        {
          "output_type": "stream",
          "name": "stderr",
          "text": [
            "Iteration: 100%|██████████| 41/41 [00:07<00:00,  5.21it/s]\n",
            "Iteration: 100%|██████████| 8/8 [00:00<00:00, 17.49it/s]\n",
            "100%|██████████| 22/22 [00:01<00:00, 16.21it/s]\n"
          ]
        },
        {
          "output_type": "stream",
          "name": "stdout",
          "text": [
            "189 0.017383387925603042 1.1728055477142334 0.8248175182481752\n"
          ]
        },
        {
          "output_type": "stream",
          "name": "stderr",
          "text": [
            "Iteration: 100%|██████████| 41/41 [00:07<00:00,  5.23it/s]\n",
            "Iteration: 100%|██████████| 8/8 [00:00<00:00, 17.66it/s]\n",
            "100%|██████████| 22/22 [00:01<00:00, 16.22it/s]\n"
          ]
        },
        {
          "output_type": "stream",
          "name": "stdout",
          "text": [
            "190 0.016748399837169706 0.9522115774452686 0.8175182481751825\n"
          ]
        },
        {
          "output_type": "stream",
          "name": "stderr",
          "text": [
            "Iteration: 100%|██████████| 41/41 [00:07<00:00,  5.21it/s]\n",
            "Iteration: 100%|██████████| 8/8 [00:00<00:00, 17.56it/s]\n",
            "100%|██████████| 22/22 [00:01<00:00, 16.19it/s]\n"
          ]
        },
        {
          "output_type": "stream",
          "name": "stdout",
          "text": [
            "191 0.016709501696069065 1.0263659209012985 0.8160583941605839\n"
          ]
        },
        {
          "output_type": "stream",
          "name": "stderr",
          "text": [
            "Iteration: 100%|██████████| 41/41 [00:07<00:00,  5.21it/s]\n",
            "Iteration: 100%|██████████| 8/8 [00:00<00:00, 17.75it/s]\n",
            "100%|██████████| 22/22 [00:01<00:00, 16.28it/s]\n"
          ]
        },
        {
          "output_type": "stream",
          "name": "stdout",
          "text": [
            "192 0.017454986546132516 1.1423435285687447 0.8189781021897811\n"
          ]
        },
        {
          "output_type": "stream",
          "name": "stderr",
          "text": [
            "Iteration: 100%|██████████| 41/41 [00:07<00:00,  5.22it/s]\n",
            "Iteration: 100%|██████████| 8/8 [00:00<00:00, 17.62it/s]\n",
            "100%|██████████| 22/22 [00:01<00:00, 16.23it/s]\n"
          ]
        },
        {
          "output_type": "stream",
          "name": "stdout",
          "text": [
            "193 0.01741751967134272 1.0469422712922096 0.8262773722627738\n"
          ]
        },
        {
          "output_type": "stream",
          "name": "stderr",
          "text": [
            "Iteration: 100%|██████████| 41/41 [00:07<00:00,  5.23it/s]\n",
            "Iteration: 100%|██████████| 8/8 [00:00<00:00, 17.68it/s]\n",
            "100%|██████████| 22/22 [00:01<00:00, 16.30it/s]\n"
          ]
        },
        {
          "output_type": "stream",
          "name": "stdout",
          "text": [
            "194 0.020516206030861656 0.9694803133606911 0.8262773722627738\n"
          ]
        },
        {
          "output_type": "stream",
          "name": "stderr",
          "text": [
            "Iteration: 100%|██████████| 41/41 [00:07<00:00,  5.22it/s]\n",
            "Iteration: 100%|██████████| 8/8 [00:00<00:00, 17.59it/s]\n",
            "100%|██████████| 22/22 [00:01<00:00, 16.18it/s]\n"
          ]
        },
        {
          "output_type": "stream",
          "name": "stdout",
          "text": [
            "195 0.017237330537016798 1.0430590212345123 0.8291970802919708\n"
          ]
        },
        {
          "output_type": "stream",
          "name": "stderr",
          "text": [
            "Iteration: 100%|██████████| 41/41 [00:07<00:00,  5.23it/s]\n",
            "Iteration: 100%|██████████| 8/8 [00:00<00:00, 17.66it/s]\n",
            "100%|██████████| 22/22 [00:01<00:00, 16.28it/s]\n"
          ]
        },
        {
          "output_type": "stream",
          "name": "stdout",
          "text": [
            "196 0.020812319341774393 0.9701997488737106 0.8218978102189781\n"
          ]
        },
        {
          "output_type": "stream",
          "name": "stderr",
          "text": [
            "Iteration: 100%|██████████| 41/41 [00:07<00:00,  5.22it/s]\n",
            "Iteration: 100%|██████████| 8/8 [00:00<00:00, 17.37it/s]\n",
            "100%|██████████| 22/22 [00:01<00:00, 16.23it/s]\n"
          ]
        },
        {
          "output_type": "stream",
          "name": "stdout",
          "text": [
            "197 0.017295736251626073 0.9958830773830414 0.8218978102189781\n"
          ]
        },
        {
          "output_type": "stream",
          "name": "stderr",
          "text": [
            "Iteration: 100%|██████████| 41/41 [00:07<00:00,  5.23it/s]\n",
            "Iteration: 100%|██████████| 8/8 [00:00<00:00, 17.56it/s]\n",
            "100%|██████████| 22/22 [00:01<00:00, 16.16it/s]\n"
          ]
        },
        {
          "output_type": "stream",
          "name": "stdout",
          "text": [
            "198 0.018786098421892015 1.0748350992798805 0.8248175182481752\n"
          ]
        },
        {
          "output_type": "stream",
          "name": "stderr",
          "text": [
            "Iteration: 100%|██████████| 41/41 [00:07<00:00,  5.22it/s]\n",
            "Iteration: 100%|██████████| 8/8 [00:00<00:00, 17.61it/s]\n",
            "100%|██████████| 22/22 [00:01<00:00, 16.16it/s]\n"
          ]
        },
        {
          "output_type": "stream",
          "name": "stdout",
          "text": [
            "199 0.018556777705870022 1.5003770738840103 0.8262773722627738\n"
          ]
        },
        {
          "output_type": "stream",
          "name": "stderr",
          "text": [
            "Iteration: 100%|██████████| 41/41 [00:07<00:00,  5.22it/s]\n",
            "Iteration: 100%|██████████| 8/8 [00:00<00:00, 17.43it/s]\n",
            "100%|██████████| 22/22 [00:01<00:00, 16.35it/s]\n"
          ]
        },
        {
          "output_type": "stream",
          "name": "stdout",
          "text": [
            "200 0.020526002729084433 1.0413832664489746 0.8262773722627738\n"
          ]
        },
        {
          "output_type": "stream",
          "name": "stderr",
          "text": [
            "Iteration: 100%|██████████| 41/41 [00:07<00:00,  5.21it/s]\n",
            "Iteration: 100%|██████████| 8/8 [00:00<00:00, 17.52it/s]\n",
            "100%|██████████| 22/22 [00:01<00:00, 16.32it/s]\n"
          ]
        },
        {
          "output_type": "stream",
          "name": "stdout",
          "text": [
            "201 0.019732304701791714 1.1005205288529396 0.8175182481751825\n"
          ]
        },
        {
          "output_type": "stream",
          "name": "stderr",
          "text": [
            "Iteration: 100%|██████████| 41/41 [00:07<00:00,  5.22it/s]\n",
            "Iteration: 100%|██████████| 8/8 [00:00<00:00, 17.68it/s]\n",
            "100%|██████████| 22/22 [00:01<00:00, 16.30it/s]\n"
          ]
        },
        {
          "output_type": "stream",
          "name": "stdout",
          "text": [
            "202 0.017574976675394104 0.9696561768651009 0.8145985401459854\n"
          ]
        },
        {
          "output_type": "stream",
          "name": "stderr",
          "text": [
            "Iteration: 100%|██████████| 41/41 [00:07<00:00,  5.23it/s]\n",
            "Iteration: 100%|██████████| 8/8 [00:00<00:00, 17.43it/s]\n",
            "100%|██████████| 22/22 [00:01<00:00, 16.21it/s]\n"
          ]
        },
        {
          "output_type": "stream",
          "name": "stdout",
          "text": [
            "203 0.018525713872982234 0.9385498985648155 0.8248175182481752\n"
          ]
        },
        {
          "output_type": "stream",
          "name": "stderr",
          "text": [
            "Iteration: 100%|██████████| 41/41 [00:07<00:00,  5.23it/s]\n",
            "Iteration: 100%|██████████| 8/8 [00:00<00:00, 17.41it/s]\n",
            "100%|██████████| 22/22 [00:01<00:00, 16.16it/s]\n"
          ]
        },
        {
          "output_type": "stream",
          "name": "stdout",
          "text": [
            "204 0.018064044531656248 0.9425662942230701 0.8175182481751825\n"
          ]
        },
        {
          "output_type": "stream",
          "name": "stderr",
          "text": [
            "Iteration: 100%|██████████| 41/41 [00:07<00:00,  5.21it/s]\n",
            "Iteration: 100%|██████████| 8/8 [00:00<00:00, 17.32it/s]\n",
            "100%|██████████| 22/22 [00:01<00:00, 16.05it/s]\n"
          ]
        },
        {
          "output_type": "stream",
          "name": "stdout",
          "text": [
            "205 0.014973975774809354 0.9484736993908882 0.8204379562043795\n"
          ]
        },
        {
          "output_type": "stream",
          "name": "stderr",
          "text": [
            "Iteration: 100%|██████████| 41/41 [00:07<00:00,  5.20it/s]\n",
            "Iteration: 100%|██████████| 8/8 [00:00<00:00, 17.46it/s]\n",
            "100%|██████████| 22/22 [00:01<00:00, 16.28it/s]\n"
          ]
        },
        {
          "output_type": "stream",
          "name": "stdout",
          "text": [
            "206 0.016083224483470365 0.9528371877968311 0.8204379562043795\n"
          ]
        },
        {
          "output_type": "stream",
          "name": "stderr",
          "text": [
            "Iteration: 100%|██████████| 41/41 [00:07<00:00,  5.21it/s]\n",
            "Iteration: 100%|██████████| 8/8 [00:00<00:00, 17.49it/s]\n",
            "100%|██████████| 22/22 [00:01<00:00, 16.17it/s]\n"
          ]
        },
        {
          "output_type": "stream",
          "name": "stdout",
          "text": [
            "207 0.016501895583620887 0.9385770112276077 0.8204379562043795\n"
          ]
        },
        {
          "output_type": "stream",
          "name": "stderr",
          "text": [
            "Iteration: 100%|██████████| 41/41 [00:07<00:00,  5.23it/s]\n",
            "Iteration: 100%|██████████| 8/8 [00:00<00:00, 17.39it/s]\n",
            "100%|██████████| 22/22 [00:01<00:00, 16.30it/s]\n"
          ]
        },
        {
          "output_type": "stream",
          "name": "stdout",
          "text": [
            "208 0.01603015105626205 0.963016252964735 0.8189781021897811\n"
          ]
        },
        {
          "output_type": "stream",
          "name": "stderr",
          "text": [
            "Iteration: 100%|██████████| 41/41 [00:07<00:00,  5.22it/s]\n",
            "Iteration: 100%|██████████| 8/8 [00:00<00:00, 17.64it/s]\n",
            "100%|██████████| 22/22 [00:01<00:00, 16.28it/s]\n"
          ]
        },
        {
          "output_type": "stream",
          "name": "stdout",
          "text": [
            "209 0.015256959751884385 1.0026636198163033 0.8189781021897811\n"
          ]
        },
        {
          "output_type": "stream",
          "name": "stderr",
          "text": [
            "Iteration: 100%|██████████| 41/41 [00:07<00:00,  5.22it/s]\n",
            "Iteration: 100%|██████████| 8/8 [00:00<00:00, 17.66it/s]\n",
            "100%|██████████| 22/22 [00:01<00:00, 16.23it/s]\n"
          ]
        },
        {
          "output_type": "stream",
          "name": "stdout",
          "text": [
            "210 0.015896527051198775 0.9589498713612556 0.8204379562043795\n"
          ]
        },
        {
          "output_type": "stream",
          "name": "stderr",
          "text": [
            "Iteration: 100%|██████████| 41/41 [00:07<00:00,  5.23it/s]\n",
            "Iteration: 100%|██████████| 8/8 [00:00<00:00, 17.65it/s]\n",
            "100%|██████████| 22/22 [00:01<00:00, 16.31it/s]\n"
          ]
        },
        {
          "output_type": "stream",
          "name": "stdout",
          "text": [
            "211 0.014936364233130363 0.9528408013284206 0.8160583941605839\n"
          ]
        },
        {
          "output_type": "stream",
          "name": "stderr",
          "text": [
            "Iteration: 100%|██████████| 41/41 [00:07<00:00,  5.21it/s]\n",
            "Iteration: 100%|██████████| 8/8 [00:00<00:00, 17.55it/s]\n",
            "100%|██████████| 22/22 [00:01<00:00, 16.23it/s]\n"
          ]
        },
        {
          "output_type": "stream",
          "name": "stdout",
          "text": [
            "212 0.015963198957828488 0.9367397483438253 0.8175182481751825\n"
          ]
        },
        {
          "output_type": "stream",
          "name": "stderr",
          "text": [
            "Iteration: 100%|██████████| 41/41 [00:07<00:00,  5.20it/s]\n",
            "Iteration: 100%|██████████| 8/8 [00:00<00:00, 17.63it/s]\n",
            "100%|██████████| 22/22 [00:01<00:00, 16.35it/s]\n"
          ]
        },
        {
          "output_type": "stream",
          "name": "stdout",
          "text": [
            "213 0.01829461894202523 0.9371139518916607 0.8218978102189781\n"
          ]
        },
        {
          "output_type": "stream",
          "name": "stderr",
          "text": [
            "Iteration: 100%|██████████| 41/41 [00:07<00:00,  5.19it/s]\n",
            "Iteration: 100%|██████████| 8/8 [00:00<00:00, 17.25it/s]\n",
            "100%|██████████| 22/22 [00:01<00:00, 16.16it/s]\n"
          ]
        },
        {
          "output_type": "stream",
          "name": "stdout",
          "text": [
            "214 0.01663899083235642 0.9622003361582756 0.8262773722627738\n"
          ]
        },
        {
          "output_type": "stream",
          "name": "stderr",
          "text": [
            "Iteration: 100%|██████████| 41/41 [00:07<00:00,  5.23it/s]\n",
            "Iteration: 100%|██████████| 8/8 [00:00<00:00, 17.60it/s]\n",
            "100%|██████████| 22/22 [00:01<00:00, 16.25it/s]\n"
          ]
        },
        {
          "output_type": "stream",
          "name": "stdout",
          "text": [
            "215 0.015605754417753437 1.0723315700888634 0.8233576642335766\n"
          ]
        },
        {
          "output_type": "stream",
          "name": "stderr",
          "text": [
            "Iteration: 100%|██████████| 41/41 [00:07<00:00,  5.23it/s]\n",
            "Iteration: 100%|██████████| 8/8 [00:00<00:00, 17.42it/s]\n",
            "100%|██████████| 22/22 [00:01<00:00, 16.24it/s]\n"
          ]
        },
        {
          "output_type": "stream",
          "name": "stdout",
          "text": [
            "216 0.014257496569260227 0.9436421133577824 0.8160583941605839\n"
          ]
        },
        {
          "output_type": "stream",
          "name": "stderr",
          "text": [
            "Iteration: 100%|██████████| 41/41 [00:07<00:00,  5.22it/s]\n",
            "Iteration: 100%|██████████| 8/8 [00:00<00:00, 17.52it/s]\n",
            "100%|██████████| 22/22 [00:01<00:00, 16.18it/s]\n"
          ]
        },
        {
          "output_type": "stream",
          "name": "stdout",
          "text": [
            "217 0.015410823792946048 0.9126490671187639 0.8189781021897811\n"
          ]
        },
        {
          "output_type": "stream",
          "name": "stderr",
          "text": [
            "Iteration: 100%|██████████| 41/41 [00:07<00:00,  5.22it/s]\n",
            "Iteration: 100%|██████████| 8/8 [00:00<00:00, 17.62it/s]\n",
            "100%|██████████| 22/22 [00:01<00:00, 16.27it/s]\n"
          ]
        },
        {
          "output_type": "stream",
          "name": "stdout",
          "text": [
            "218 0.014474993314052415 1.2737268656492233 0.8175182481751825\n"
          ]
        },
        {
          "output_type": "stream",
          "name": "stderr",
          "text": [
            "Iteration: 100%|██████████| 41/41 [00:07<00:00,  5.23it/s]\n",
            "Iteration: 100%|██████████| 8/8 [00:00<00:00, 17.64it/s]\n",
            "100%|██████████| 22/22 [00:01<00:00, 16.24it/s]\n"
          ]
        },
        {
          "output_type": "stream",
          "name": "stdout",
          "text": [
            "219 0.01534638719678652 0.940105177462101 0.8189781021897811\n"
          ]
        },
        {
          "output_type": "stream",
          "name": "stderr",
          "text": [
            "Iteration: 100%|██████████| 41/41 [00:07<00:00,  5.21it/s]\n",
            "Iteration: 100%|██████████| 8/8 [00:00<00:00, 17.62it/s]\n",
            "100%|██████████| 22/22 [00:01<00:00, 16.25it/s]\n"
          ]
        },
        {
          "output_type": "stream",
          "name": "stdout",
          "text": [
            "220 0.017090277712246995 0.9460974931716919 0.8175182481751825\n"
          ]
        },
        {
          "output_type": "stream",
          "name": "stderr",
          "text": [
            "Iteration: 100%|██████████| 41/41 [00:07<00:00,  5.22it/s]\n",
            "Iteration: 100%|██████████| 8/8 [00:00<00:00, 17.38it/s]\n",
            "100%|██████████| 22/22 [00:01<00:00, 16.25it/s]\n"
          ]
        },
        {
          "output_type": "stream",
          "name": "stdout",
          "text": [
            "221 0.018285261327968684 0.9491667952388525 0.8160583941605839\n"
          ]
        },
        {
          "output_type": "stream",
          "name": "stderr",
          "text": [
            "Iteration: 100%|██████████| 41/41 [00:07<00:00,  5.23it/s]\n",
            "Iteration: 100%|██████████| 8/8 [00:00<00:00, 17.34it/s]\n",
            "100%|██████████| 22/22 [00:01<00:00, 16.31it/s]\n"
          ]
        },
        {
          "output_type": "stream",
          "name": "stdout",
          "text": [
            "222 0.014544725281799712 0.9442274197936058 0.8233576642335766\n"
          ]
        },
        {
          "output_type": "stream",
          "name": "stderr",
          "text": [
            "Iteration: 100%|██████████| 41/41 [00:07<00:00,  5.21it/s]\n",
            "Iteration: 100%|██████████| 8/8 [00:00<00:00, 17.43it/s]\n",
            "100%|██████████| 22/22 [00:01<00:00, 16.02it/s]\n"
          ]
        },
        {
          "output_type": "stream",
          "name": "stdout",
          "text": [
            "223 0.015291601862394956 1.0454448983073235 0.8248175182481752\n"
          ]
        },
        {
          "output_type": "stream",
          "name": "stderr",
          "text": [
            "Iteration: 100%|██████████| 41/41 [00:07<00:00,  5.21it/s]\n",
            "Iteration: 100%|██████████| 8/8 [00:00<00:00, 17.73it/s]\n",
            "100%|██████████| 22/22 [00:01<00:00, 16.16it/s]\n"
          ]
        },
        {
          "output_type": "stream",
          "name": "stdout",
          "text": [
            "224 0.01599191282535108 0.9837832599878311 0.8248175182481752\n"
          ]
        },
        {
          "output_type": "stream",
          "name": "stderr",
          "text": [
            "Iteration: 100%|██████████| 41/41 [00:07<00:00,  5.20it/s]\n",
            "Iteration: 100%|██████████| 8/8 [00:00<00:00, 17.64it/s]\n",
            "100%|██████████| 22/22 [00:01<00:00, 16.31it/s]\n"
          ]
        },
        {
          "output_type": "stream",
          "name": "stdout",
          "text": [
            "225 0.0149356055800326 1.0473385155200958 0.8189781021897811\n"
          ]
        },
        {
          "output_type": "stream",
          "name": "stderr",
          "text": [
            "Iteration: 100%|██████████| 41/41 [00:07<00:00,  5.21it/s]\n",
            "Iteration: 100%|██████████| 8/8 [00:00<00:00, 17.65it/s]\n",
            "100%|██████████| 22/22 [00:01<00:00, 16.14it/s]\n"
          ]
        },
        {
          "output_type": "stream",
          "name": "stdout",
          "text": [
            "226 0.014772781647923516 1.0768774598836899 0.8189781021897811\n"
          ]
        },
        {
          "output_type": "stream",
          "name": "stderr",
          "text": [
            "Iteration: 100%|██████████| 41/41 [00:07<00:00,  5.21it/s]\n",
            "Iteration: 100%|██████████| 8/8 [00:00<00:00, 17.61it/s]\n",
            "100%|██████████| 22/22 [00:01<00:00, 16.30it/s]\n"
          ]
        },
        {
          "output_type": "stream",
          "name": "stdout",
          "text": [
            "227 0.016295259420918983 0.9093306586146355 0.8175182481751825\n"
          ]
        },
        {
          "output_type": "stream",
          "name": "stderr",
          "text": [
            "Iteration: 100%|██████████| 41/41 [00:07<00:00,  5.24it/s]\n",
            "Iteration: 100%|██████████| 8/8 [00:00<00:00, 17.61it/s]\n",
            "100%|██████████| 22/22 [00:01<00:00, 16.27it/s]\n"
          ]
        },
        {
          "output_type": "stream",
          "name": "stdout",
          "text": [
            "228 0.01592440982689945 0.924065793864429 0.8277372262773722\n"
          ]
        },
        {
          "output_type": "stream",
          "name": "stderr",
          "text": [
            "Iteration: 100%|██████████| 41/41 [00:07<00:00,  5.22it/s]\n",
            "Iteration: 100%|██████████| 8/8 [00:00<00:00, 17.42it/s]\n",
            "100%|██████████| 22/22 [00:01<00:00, 16.38it/s]\n"
          ]
        },
        {
          "output_type": "stream",
          "name": "stdout",
          "text": [
            "229 0.015220423721674285 1.00758396089077 0.8160583941605839\n"
          ]
        },
        {
          "output_type": "stream",
          "name": "stderr",
          "text": [
            "Iteration: 100%|██████████| 41/41 [00:07<00:00,  5.22it/s]\n",
            "Iteration: 100%|██████████| 8/8 [00:00<00:00, 17.58it/s]\n",
            "100%|██████████| 22/22 [00:01<00:00, 16.20it/s]\n"
          ]
        },
        {
          "output_type": "stream",
          "name": "stdout",
          "text": [
            "230 0.013232317435123571 1.1744287386536598 0.8160583941605839\n"
          ]
        },
        {
          "output_type": "stream",
          "name": "stderr",
          "text": [
            "Iteration: 100%|██████████| 41/41 [00:07<00:00,  5.24it/s]\n",
            "Iteration: 100%|██████████| 8/8 [00:00<00:00, 17.68it/s]\n",
            "100%|██████████| 22/22 [00:01<00:00, 16.16it/s]\n"
          ]
        },
        {
          "output_type": "stream",
          "name": "stdout",
          "text": [
            "231 0.013904523240720354 0.9301884807646275 0.8248175182481752\n"
          ]
        },
        {
          "output_type": "stream",
          "name": "stderr",
          "text": [
            "Iteration: 100%|██████████| 41/41 [00:07<00:00,  5.23it/s]\n",
            "Iteration: 100%|██████████| 8/8 [00:00<00:00, 17.58it/s]\n",
            "100%|██████████| 22/22 [00:01<00:00, 16.22it/s]\n"
          ]
        },
        {
          "output_type": "stream",
          "name": "stdout",
          "text": [
            "232 0.013584588580514962 1.0079007521271706 0.8218978102189781\n"
          ]
        },
        {
          "output_type": "stream",
          "name": "stderr",
          "text": [
            "Iteration: 100%|██████████| 41/41 [00:07<00:00,  5.20it/s]\n",
            "Iteration: 100%|██████████| 8/8 [00:00<00:00, 17.58it/s]\n",
            "100%|██████████| 22/22 [00:01<00:00, 16.32it/s]\n"
          ]
        },
        {
          "output_type": "stream",
          "name": "stdout",
          "text": [
            "233 0.014393977366569565 0.9643295854330063 0.8218978102189781\n"
          ]
        },
        {
          "output_type": "stream",
          "name": "stderr",
          "text": [
            "Iteration: 100%|██████████| 41/41 [00:07<00:00,  5.21it/s]\n",
            "Iteration: 100%|██████████| 8/8 [00:00<00:00, 17.55it/s]\n",
            "100%|██████████| 22/22 [00:01<00:00, 16.30it/s]\n"
          ]
        },
        {
          "output_type": "stream",
          "name": "stdout",
          "text": [
            "234 0.013467700478319852 0.9680095314979553 0.8189781021897811\n"
          ]
        },
        {
          "output_type": "stream",
          "name": "stderr",
          "text": [
            "Iteration: 100%|██████████| 41/41 [00:07<00:00,  5.22it/s]\n",
            "Iteration: 100%|██████████| 8/8 [00:00<00:00, 17.57it/s]\n",
            "100%|██████████| 22/22 [00:01<00:00, 16.30it/s]\n"
          ]
        },
        {
          "output_type": "stream",
          "name": "stdout",
          "text": [
            "235 0.013324642957120044 1.1873252391815186 0.8262773722627738\n"
          ]
        },
        {
          "output_type": "stream",
          "name": "stderr",
          "text": [
            "Iteration: 100%|██████████| 41/41 [00:07<00:00,  5.22it/s]\n",
            "Iteration: 100%|██████████| 8/8 [00:00<00:00, 17.74it/s]\n",
            "100%|██████████| 22/22 [00:01<00:00, 16.22it/s]\n"
          ]
        },
        {
          "output_type": "stream",
          "name": "stdout",
          "text": [
            "236 0.012763701717897386 0.9548151269555092 0.8218978102189781\n"
          ]
        },
        {
          "output_type": "stream",
          "name": "stderr",
          "text": [
            "Iteration: 100%|██████████| 41/41 [00:07<00:00,  5.21it/s]\n",
            "Iteration: 100%|██████████| 8/8 [00:00<00:00, 17.54it/s]\n",
            "100%|██████████| 22/22 [00:01<00:00, 16.36it/s]\n"
          ]
        },
        {
          "output_type": "stream",
          "name": "stdout",
          "text": [
            "237 0.012484940109638179 1.0059008672833443 0.8189781021897811\n"
          ]
        },
        {
          "output_type": "stream",
          "name": "stderr",
          "text": [
            "Iteration: 100%|██████████| 41/41 [00:07<00:00,  5.21it/s]\n",
            "Iteration: 100%|██████████| 8/8 [00:00<00:00, 17.31it/s]\n",
            "100%|██████████| 22/22 [00:01<00:00, 16.14it/s]\n"
          ]
        },
        {
          "output_type": "stream",
          "name": "stdout",
          "text": [
            "238 0.013481245035441911 1.071235440671444 0.8204379562043795\n"
          ]
        },
        {
          "output_type": "stream",
          "name": "stderr",
          "text": [
            "Iteration: 100%|██████████| 41/41 [00:07<00:00,  5.23it/s]\n",
            "Iteration: 100%|██████████| 8/8 [00:00<00:00, 17.59it/s]\n",
            "100%|██████████| 22/22 [00:01<00:00, 16.11it/s]\n"
          ]
        },
        {
          "output_type": "stream",
          "name": "stdout",
          "text": [
            "239 0.012462304530256405 1.0548625513911247 0.8204379562043795\n"
          ]
        },
        {
          "output_type": "stream",
          "name": "stderr",
          "text": [
            "Iteration: 100%|██████████| 41/41 [00:07<00:00,  5.23it/s]\n",
            "Iteration: 100%|██████████| 8/8 [00:00<00:00, 17.67it/s]\n",
            "100%|██████████| 22/22 [00:01<00:00, 16.25it/s]\n"
          ]
        },
        {
          "output_type": "stream",
          "name": "stdout",
          "text": [
            "240 0.012309987032672436 0.9276953283697367 0.8204379562043795\n"
          ]
        },
        {
          "output_type": "stream",
          "name": "stderr",
          "text": [
            "Iteration: 100%|██████████| 41/41 [00:07<00:00,  5.22it/s]\n",
            "Iteration: 100%|██████████| 8/8 [00:00<00:00, 17.56it/s]\n",
            "100%|██████████| 22/22 [00:01<00:00, 16.29it/s]\n"
          ]
        },
        {
          "output_type": "stream",
          "name": "stdout",
          "text": [
            "241 0.01292025576141186 1.1367882639169693 0.8218978102189781\n"
          ]
        },
        {
          "output_type": "stream",
          "name": "stderr",
          "text": [
            "Iteration: 100%|██████████| 41/41 [00:07<00:00,  5.22it/s]\n",
            "Iteration: 100%|██████████| 8/8 [00:00<00:00, 17.58it/s]\n",
            "100%|██████████| 22/22 [00:01<00:00, 16.19it/s]\n"
          ]
        },
        {
          "output_type": "stream",
          "name": "stdout",
          "text": [
            "242 0.01427456390016099 0.9658890515565872 0.8175182481751825\n"
          ]
        },
        {
          "output_type": "stream",
          "name": "stderr",
          "text": [
            "Iteration: 100%|██████████| 41/41 [00:07<00:00,  5.23it/s]\n",
            "Iteration: 100%|██████████| 8/8 [00:00<00:00, 17.61it/s]\n",
            "100%|██████████| 22/22 [00:01<00:00, 16.29it/s]\n"
          ]
        },
        {
          "output_type": "stream",
          "name": "stdout",
          "text": [
            "243 0.0150360005862284 0.9470773376524448 0.8160583941605839\n"
          ]
        },
        {
          "output_type": "stream",
          "name": "stderr",
          "text": [
            "Iteration: 100%|██████████| 41/41 [00:07<00:00,  5.24it/s]\n",
            "Iteration: 100%|██████████| 8/8 [00:00<00:00, 17.64it/s]\n",
            "100%|██████████| 22/22 [00:01<00:00, 16.25it/s]\n"
          ]
        },
        {
          "output_type": "stream",
          "name": "stdout",
          "text": [
            "244 0.014440913673308565 0.9656233415007591 0.8262773722627738\n"
          ]
        },
        {
          "output_type": "stream",
          "name": "stderr",
          "text": [
            "Iteration: 100%|██████████| 41/41 [00:07<00:00,  5.22it/s]\n",
            "Iteration: 100%|██████████| 8/8 [00:00<00:00, 17.68it/s]\n",
            "100%|██████████| 22/22 [00:01<00:00, 16.16it/s]\n"
          ]
        },
        {
          "output_type": "stream",
          "name": "stdout",
          "text": [
            "245 0.014149543071054234 0.994773805141449 0.8189781021897811\n"
          ]
        },
        {
          "output_type": "stream",
          "name": "stderr",
          "text": [
            "Iteration: 100%|██████████| 41/41 [00:07<00:00,  5.20it/s]\n",
            "Iteration: 100%|██████████| 8/8 [00:00<00:00, 17.65it/s]\n",
            "100%|██████████| 22/22 [00:01<00:00, 16.16it/s]\n"
          ]
        },
        {
          "output_type": "stream",
          "name": "stdout",
          "text": [
            "246 0.012721020251330806 0.9369060285389423 0.8262773722627738\n"
          ]
        },
        {
          "output_type": "stream",
          "name": "stderr",
          "text": [
            "Iteration: 100%|██████████| 41/41 [00:07<00:00,  5.21it/s]\n",
            "Iteration: 100%|██████████| 8/8 [00:00<00:00, 17.50it/s]\n",
            "100%|██████████| 22/22 [00:01<00:00, 16.25it/s]\n"
          ]
        },
        {
          "output_type": "stream",
          "name": "stdout",
          "text": [
            "247 0.011738903739591834 0.9298902042210102 0.8262773722627738\n"
          ]
        },
        {
          "output_type": "stream",
          "name": "stderr",
          "text": [
            "Iteration: 100%|██████████| 41/41 [00:07<00:00,  5.22it/s]\n",
            "Iteration: 100%|██████████| 8/8 [00:00<00:00, 17.49it/s]\n",
            "100%|██████████| 22/22 [00:01<00:00, 16.23it/s]\n"
          ]
        },
        {
          "output_type": "stream",
          "name": "stdout",
          "text": [
            "248 0.012893083175962291 0.9644885584712029 0.8262773722627738\n"
          ]
        },
        {
          "output_type": "stream",
          "name": "stderr",
          "text": [
            "Iteration: 100%|██████████| 41/41 [00:07<00:00,  5.21it/s]\n",
            "Iteration: 100%|██████████| 8/8 [00:00<00:00, 17.78it/s]\n",
            "100%|██████████| 22/22 [00:01<00:00, 16.17it/s]\n"
          ]
        },
        {
          "output_type": "stream",
          "name": "stdout",
          "text": [
            "249 0.013725902669404337 1.0639000535011292 0.8291970802919708\n"
          ]
        },
        {
          "output_type": "stream",
          "name": "stderr",
          "text": [
            "Iteration: 100%|██████████| 41/41 [00:07<00:00,  5.21it/s]\n",
            "Iteration: 100%|██████████| 8/8 [00:00<00:00, 17.59it/s]\n",
            "100%|██████████| 22/22 [00:01<00:00, 16.31it/s]\n"
          ]
        },
        {
          "output_type": "stream",
          "name": "stdout",
          "text": [
            "250 0.013132070588720282 1.1179714500904083 0.8218978102189781\n"
          ]
        },
        {
          "output_type": "stream",
          "name": "stderr",
          "text": [
            "Iteration: 100%|██████████| 41/41 [00:07<00:00,  5.22it/s]\n",
            "Iteration: 100%|██████████| 8/8 [00:00<00:00, 17.50it/s]\n",
            "100%|██████████| 22/22 [00:01<00:00, 16.20it/s]\n"
          ]
        },
        {
          "output_type": "stream",
          "name": "stdout",
          "text": [
            "251 0.013443287530141632 1.006592571735382 0.8189781021897811\n"
          ]
        },
        {
          "output_type": "stream",
          "name": "stderr",
          "text": [
            "Iteration: 100%|██████████| 41/41 [00:07<00:00,  5.22it/s]\n",
            "Iteration: 100%|██████████| 8/8 [00:00<00:00, 17.61it/s]\n",
            "100%|██████████| 22/22 [00:01<00:00, 16.28it/s]\n"
          ]
        },
        {
          "output_type": "stream",
          "name": "stdout",
          "text": [
            "252 0.012459255993457102 1.134401623159647 0.8233576642335766\n"
          ]
        },
        {
          "output_type": "stream",
          "name": "stderr",
          "text": [
            "Iteration: 100%|██████████| 41/41 [00:07<00:00,  5.23it/s]\n",
            "Iteration: 100%|██████████| 8/8 [00:00<00:00, 17.50it/s]\n",
            "100%|██████████| 22/22 [00:01<00:00, 16.26it/s]\n"
          ]
        },
        {
          "output_type": "stream",
          "name": "stdout",
          "text": [
            "253 0.011903859756474537 1.1194651201367378 0.8233576642335766\n"
          ]
        },
        {
          "output_type": "stream",
          "name": "stderr",
          "text": [
            "Iteration: 100%|██████████| 41/41 [00:07<00:00,  5.22it/s]\n",
            "Iteration: 100%|██████████| 8/8 [00:00<00:00, 17.68it/s]\n",
            "100%|██████████| 22/22 [00:01<00:00, 16.19it/s]\n"
          ]
        },
        {
          "output_type": "stream",
          "name": "stdout",
          "text": [
            "254 0.01281415775600003 0.9255635011941195 0.8218978102189781\n"
          ]
        },
        {
          "output_type": "stream",
          "name": "stderr",
          "text": [
            "Iteration: 100%|██████████| 41/41 [00:07<00:00,  5.20it/s]\n",
            "Iteration: 100%|██████████| 8/8 [00:00<00:00, 17.56it/s]\n",
            "100%|██████████| 22/22 [00:01<00:00, 16.20it/s]\n"
          ]
        },
        {
          "output_type": "stream",
          "name": "stdout",
          "text": [
            "255 0.011625108786109017 0.9156564585864544 0.8233576642335766\n"
          ]
        },
        {
          "output_type": "stream",
          "name": "stderr",
          "text": [
            "Iteration: 100%|██████████| 41/41 [00:07<00:00,  5.25it/s]\n",
            "Iteration: 100%|██████████| 8/8 [00:00<00:00, 17.55it/s]\n",
            "100%|██████████| 22/22 [00:01<00:00, 16.34it/s]\n"
          ]
        },
        {
          "output_type": "stream",
          "name": "stdout",
          "text": [
            "256 0.012234756887731393 0.9531884975731373 0.8218978102189781\n"
          ]
        },
        {
          "output_type": "stream",
          "name": "stderr",
          "text": [
            "Iteration: 100%|██████████| 41/41 [00:07<00:00,  5.22it/s]\n",
            "Iteration: 100%|██████████| 8/8 [00:00<00:00, 17.76it/s]\n",
            "100%|██████████| 22/22 [00:01<00:00, 16.24it/s]\n"
          ]
        },
        {
          "output_type": "stream",
          "name": "stdout",
          "text": [
            "257 0.011381396748375421 1.1458731293678284 0.8204379562043795\n"
          ]
        },
        {
          "output_type": "stream",
          "name": "stderr",
          "text": [
            "Iteration: 100%|██████████| 41/41 [00:07<00:00,  5.20it/s]\n",
            "Iteration: 100%|██████████| 8/8 [00:00<00:00, 17.45it/s]\n",
            "100%|██████████| 22/22 [00:01<00:00, 16.23it/s]\n"
          ]
        },
        {
          "output_type": "stream",
          "name": "stdout",
          "text": [
            "258 0.012076000228705929 1.0878950655460358 0.8233576642335766\n"
          ]
        },
        {
          "output_type": "stream",
          "name": "stderr",
          "text": [
            "Iteration: 100%|██████████| 41/41 [00:07<00:00,  5.24it/s]\n",
            "Iteration: 100%|██████████| 8/8 [00:00<00:00, 17.60it/s]\n",
            "100%|██████████| 22/22 [00:01<00:00, 16.29it/s]\n"
          ]
        },
        {
          "output_type": "stream",
          "name": "stdout",
          "text": [
            "259 0.010931353819259818 1.0173269212245941 0.8233576642335766\n"
          ]
        },
        {
          "output_type": "stream",
          "name": "stderr",
          "text": [
            "Iteration: 100%|██████████| 41/41 [00:07<00:00,  5.22it/s]\n",
            "Iteration: 100%|██████████| 8/8 [00:00<00:00, 17.56it/s]\n",
            "100%|██████████| 22/22 [00:01<00:00, 16.17it/s]\n"
          ]
        },
        {
          "output_type": "stream",
          "name": "stdout",
          "text": [
            "260 0.0114866218575072 0.9669063836336136 0.8218978102189781\n"
          ]
        },
        {
          "output_type": "stream",
          "name": "stderr",
          "text": [
            "Iteration: 100%|██████████| 41/41 [00:07<00:00,  5.24it/s]\n",
            "Iteration: 100%|██████████| 8/8 [00:00<00:00, 17.65it/s]\n",
            "100%|██████████| 22/22 [00:01<00:00, 16.24it/s]\n"
          ]
        },
        {
          "output_type": "stream",
          "name": "stdout",
          "text": [
            "261 0.011167936958372593 0.9471432119607925 0.8160583941605839\n"
          ]
        },
        {
          "output_type": "stream",
          "name": "stderr",
          "text": [
            "Iteration: 100%|██████████| 41/41 [00:07<00:00,  5.21it/s]\n",
            "Iteration: 100%|██████████| 8/8 [00:00<00:00, 17.39it/s]\n",
            "100%|██████████| 22/22 [00:01<00:00, 16.28it/s]\n"
          ]
        },
        {
          "output_type": "stream",
          "name": "stdout",
          "text": [
            "262 0.011779240463156163 1.0882922261953354 0.8175182481751825\n"
          ]
        },
        {
          "output_type": "stream",
          "name": "stderr",
          "text": [
            "Iteration: 100%|██████████| 41/41 [00:07<00:00,  5.22it/s]\n",
            "Iteration: 100%|██████████| 8/8 [00:00<00:00, 17.71it/s]\n",
            "100%|██████████| 22/22 [00:01<00:00, 16.29it/s]\n"
          ]
        },
        {
          "output_type": "stream",
          "name": "stdout",
          "text": [
            "263 0.01156821840023196 0.9259916879236698 0.8175182481751825\n"
          ]
        },
        {
          "output_type": "stream",
          "name": "stderr",
          "text": [
            "Iteration: 100%|██████████| 41/41 [00:07<00:00,  5.25it/s]\n",
            "Iteration: 100%|██████████| 8/8 [00:00<00:00, 17.47it/s]\n",
            "100%|██████████| 22/22 [00:01<00:00, 16.30it/s]\n"
          ]
        },
        {
          "output_type": "stream",
          "name": "stdout",
          "text": [
            "264 0.011069613826892725 0.9968901351094246 0.8160583941605839\n"
          ]
        },
        {
          "output_type": "stream",
          "name": "stderr",
          "text": [
            "Iteration: 100%|██████████| 41/41 [00:07<00:00,  5.21it/s]\n",
            "Iteration: 100%|██████████| 8/8 [00:00<00:00, 17.66it/s]\n",
            "100%|██████████| 22/22 [00:01<00:00, 16.18it/s]\n"
          ]
        },
        {
          "output_type": "stream",
          "name": "stdout",
          "text": [
            "265 0.01212180969369223 1.0419789627194405 0.8160583941605839\n"
          ]
        },
        {
          "output_type": "stream",
          "name": "stderr",
          "text": [
            "Iteration: 100%|██████████| 41/41 [00:07<00:00,  5.23it/s]\n",
            "Iteration: 100%|██████████| 8/8 [00:00<00:00, 17.63it/s]\n",
            "100%|██████████| 22/22 [00:01<00:00, 16.09it/s]\n"
          ]
        },
        {
          "output_type": "stream",
          "name": "stdout",
          "text": [
            "266 0.01114130108730822 0.9458898492157459 0.8233576642335766\n"
          ]
        },
        {
          "output_type": "stream",
          "name": "stderr",
          "text": [
            "Iteration: 100%|██████████| 41/41 [00:07<00:00,  5.23it/s]\n",
            "Iteration: 100%|██████████| 8/8 [00:00<00:00, 17.71it/s]\n",
            "100%|██████████| 22/22 [00:01<00:00, 16.25it/s]\n"
          ]
        },
        {
          "output_type": "stream",
          "name": "stdout",
          "text": [
            "267 0.010696388548240066 1.0020272955298424 0.8189781021897811\n"
          ]
        },
        {
          "output_type": "stream",
          "name": "stderr",
          "text": [
            "Iteration: 100%|██████████| 41/41 [00:07<00:00,  5.22it/s]\n",
            "Iteration: 100%|██████████| 8/8 [00:00<00:00, 17.47it/s]\n",
            "100%|██████████| 22/22 [00:01<00:00, 16.20it/s]\n"
          ]
        },
        {
          "output_type": "stream",
          "name": "stdout",
          "text": [
            "268 0.011668103928791314 1.172302383929491 0.8175182481751825\n"
          ]
        },
        {
          "output_type": "stream",
          "name": "stderr",
          "text": [
            "Iteration: 100%|██████████| 41/41 [00:07<00:00,  5.23it/s]\n",
            "Iteration: 100%|██████████| 8/8 [00:00<00:00, 17.66it/s]\n",
            "100%|██████████| 22/22 [00:01<00:00, 16.29it/s]\n"
          ]
        },
        {
          "output_type": "stream",
          "name": "stdout",
          "text": [
            "269 0.011714937963250389 1.1580644324421883 0.8204379562043795\n"
          ]
        },
        {
          "output_type": "stream",
          "name": "stderr",
          "text": [
            "Iteration: 100%|██████████| 41/41 [00:07<00:00,  5.23it/s]\n",
            "Iteration: 100%|██████████| 8/8 [00:00<00:00, 17.72it/s]\n",
            "100%|██████████| 22/22 [00:01<00:00, 16.37it/s]\n"
          ]
        },
        {
          "output_type": "stream",
          "name": "stdout",
          "text": [
            "270 0.012526284710208817 1.035663366317749 0.8175182481751825\n"
          ]
        },
        {
          "output_type": "stream",
          "name": "stderr",
          "text": [
            "Iteration: 100%|██████████| 41/41 [00:07<00:00,  5.22it/s]\n",
            "Iteration: 100%|██████████| 8/8 [00:00<00:00, 17.72it/s]\n",
            "100%|██████████| 22/22 [00:01<00:00, 16.27it/s]\n"
          ]
        },
        {
          "output_type": "stream",
          "name": "stdout",
          "text": [
            "271 0.013709487779656561 0.9972607865929604 0.8248175182481752\n"
          ]
        },
        {
          "output_type": "stream",
          "name": "stderr",
          "text": [
            "Iteration: 100%|██████████| 41/41 [00:07<00:00,  5.23it/s]\n",
            "Iteration: 100%|██████████| 8/8 [00:00<00:00, 17.44it/s]\n",
            "100%|██████████| 22/22 [00:01<00:00, 16.29it/s]\n"
          ]
        },
        {
          "output_type": "stream",
          "name": "stdout",
          "text": [
            "272 0.012073667731317805 1.2331683784723282 0.8248175182481752\n"
          ]
        },
        {
          "output_type": "stream",
          "name": "stderr",
          "text": [
            "Iteration: 100%|██████████| 41/41 [00:07<00:00,  5.24it/s]\n",
            "Iteration: 100%|██████████| 8/8 [00:00<00:00, 17.72it/s]\n",
            "100%|██████████| 22/22 [00:01<00:00, 16.24it/s]\n"
          ]
        },
        {
          "output_type": "stream",
          "name": "stdout",
          "text": [
            "273 0.014410771315962804 1.2241813987493515 0.8131386861313868\n"
          ]
        },
        {
          "output_type": "stream",
          "name": "stderr",
          "text": [
            "Iteration: 100%|██████████| 41/41 [00:07<00:00,  5.23it/s]\n",
            "Iteration: 100%|██████████| 8/8 [00:00<00:00, 17.56it/s]\n",
            "100%|██████████| 22/22 [00:01<00:00, 16.19it/s]\n"
          ]
        },
        {
          "output_type": "stream",
          "name": "stdout",
          "text": [
            "274 0.012532524069029466 0.9197014253586531 0.8218978102189781\n"
          ]
        },
        {
          "output_type": "stream",
          "name": "stderr",
          "text": [
            "Iteration: 100%|██████████| 41/41 [00:07<00:00,  5.21it/s]\n",
            "Iteration: 100%|██████████| 8/8 [00:00<00:00, 17.54it/s]\n",
            "100%|██████████| 22/22 [00:01<00:00, 16.12it/s]\n"
          ]
        },
        {
          "output_type": "stream",
          "name": "stdout",
          "text": [
            "275 0.01184829231351614 1.0483321994543076 0.8218978102189781\n"
          ]
        },
        {
          "output_type": "stream",
          "name": "stderr",
          "text": [
            "Iteration: 100%|██████████| 41/41 [00:07<00:00,  5.22it/s]\n",
            "Iteration: 100%|██████████| 8/8 [00:00<00:00, 17.69it/s]\n",
            "100%|██████████| 22/22 [00:01<00:00, 16.18it/s]\n"
          ]
        },
        {
          "output_type": "stream",
          "name": "stdout",
          "text": [
            "276 0.011472995892712256 0.9442303888499737 0.8248175182481752\n"
          ]
        },
        {
          "output_type": "stream",
          "name": "stderr",
          "text": [
            "Iteration: 100%|██████████| 41/41 [00:07<00:00,  5.25it/s]\n",
            "Iteration: 100%|██████████| 8/8 [00:00<00:00, 17.57it/s]\n",
            "100%|██████████| 22/22 [00:01<00:00, 16.35it/s]\n"
          ]
        },
        {
          "output_type": "stream",
          "name": "stdout",
          "text": [
            "277 0.01106365998105214 0.9365627244114876 0.8262773722627738\n"
          ]
        },
        {
          "output_type": "stream",
          "name": "stderr",
          "text": [
            "Iteration: 100%|██████████| 41/41 [00:07<00:00,  5.23it/s]\n",
            "Iteration: 100%|██████████| 8/8 [00:00<00:00, 17.53it/s]\n",
            "100%|██████████| 22/22 [00:01<00:00, 16.15it/s]\n"
          ]
        },
        {
          "output_type": "stream",
          "name": "stdout",
          "text": [
            "278 0.010931915163471386 1.0384394153952599 0.8189781021897811\n"
          ]
        },
        {
          "output_type": "stream",
          "name": "stderr",
          "text": [
            "Iteration: 100%|██████████| 41/41 [00:07<00:00,  5.21it/s]\n",
            "Iteration: 100%|██████████| 8/8 [00:00<00:00, 17.23it/s]\n",
            "100%|██████████| 22/22 [00:01<00:00, 16.28it/s]\n"
          ]
        },
        {
          "output_type": "stream",
          "name": "stdout",
          "text": [
            "279 0.011215223521902793 0.922433152794838 0.8233576642335766\n"
          ]
        },
        {
          "output_type": "stream",
          "name": "stderr",
          "text": [
            "Iteration: 100%|██████████| 41/41 [00:07<00:00,  5.23it/s]\n",
            "Iteration: 100%|██████████| 8/8 [00:00<00:00, 17.65it/s]\n",
            "100%|██████████| 22/22 [00:01<00:00, 16.27it/s]\n"
          ]
        },
        {
          "output_type": "stream",
          "name": "stdout",
          "text": [
            "280 0.011061812376194611 0.9194061970338225 0.8175182481751825\n"
          ]
        },
        {
          "output_type": "stream",
          "name": "stderr",
          "text": [
            "Iteration: 100%|██████████| 41/41 [00:07<00:00,  5.20it/s]\n",
            "Iteration: 100%|██████████| 8/8 [00:00<00:00, 17.69it/s]\n",
            "100%|██████████| 22/22 [00:01<00:00, 16.34it/s]\n"
          ]
        },
        {
          "output_type": "stream",
          "name": "stdout",
          "text": [
            "281 0.011391509290239432 0.9085079580545425 0.8233576642335766\n"
          ]
        },
        {
          "output_type": "stream",
          "name": "stderr",
          "text": [
            "Iteration: 100%|██████████| 41/41 [00:07<00:00,  5.22it/s]\n",
            "Iteration: 100%|██████████| 8/8 [00:00<00:00, 17.43it/s]\n",
            "100%|██████████| 22/22 [00:01<00:00, 16.32it/s]\n"
          ]
        },
        {
          "output_type": "stream",
          "name": "stdout",
          "text": [
            "282 0.010881348558497138 0.9331088066101074 0.8204379562043795\n"
          ]
        },
        {
          "output_type": "stream",
          "name": "stderr",
          "text": [
            "Iteration: 100%|██████████| 41/41 [00:07<00:00,  5.23it/s]\n",
            "Iteration: 100%|██████████| 8/8 [00:00<00:00, 17.37it/s]\n",
            "100%|██████████| 22/22 [00:01<00:00, 16.19it/s]\n"
          ]
        },
        {
          "output_type": "stream",
          "name": "stdout",
          "text": [
            "283 0.011727612458693462 1.1410186886787415 0.8131386861313868\n"
          ]
        },
        {
          "output_type": "stream",
          "name": "stderr",
          "text": [
            "Iteration: 100%|██████████| 41/41 [00:07<00:00,  5.22it/s]\n",
            "Iteration: 100%|██████████| 8/8 [00:00<00:00, 17.73it/s]\n",
            "100%|██████████| 22/22 [00:01<00:00, 16.19it/s]\n"
          ]
        },
        {
          "output_type": "stream",
          "name": "stdout",
          "text": [
            "284 0.010974744789120628 1.4278797954320908 0.8189781021897811\n"
          ]
        },
        {
          "output_type": "stream",
          "name": "stderr",
          "text": [
            "Iteration: 100%|██████████| 41/41 [00:07<00:00,  5.22it/s]\n",
            "Iteration: 100%|██████████| 8/8 [00:00<00:00, 17.58it/s]\n",
            "100%|██████████| 22/22 [00:01<00:00, 16.33it/s]\n"
          ]
        },
        {
          "output_type": "stream",
          "name": "stdout",
          "text": [
            "285 0.010037155083675937 0.9917463958263397 0.8189781021897811\n"
          ]
        },
        {
          "output_type": "stream",
          "name": "stderr",
          "text": [
            "Iteration: 100%|██████████| 41/41 [00:07<00:00,  5.22it/s]\n",
            "Iteration: 100%|██████████| 8/8 [00:00<00:00, 17.62it/s]\n",
            "100%|██████████| 22/22 [00:01<00:00, 16.27it/s]\n"
          ]
        },
        {
          "output_type": "stream",
          "name": "stdout",
          "text": [
            "286 0.01137898455760101 1.1339947879314423 0.8175182481751825\n"
          ]
        },
        {
          "output_type": "stream",
          "name": "stderr",
          "text": [
            "Iteration: 100%|██████████| 41/41 [00:07<00:00,  5.21it/s]\n",
            "Iteration: 100%|██████████| 8/8 [00:00<00:00, 17.47it/s]\n",
            "100%|██████████| 22/22 [00:01<00:00, 16.27it/s]\n"
          ]
        },
        {
          "output_type": "stream",
          "name": "stdout",
          "text": [
            "287 0.01198759655718033 0.9383901692926884 0.8175182481751825\n"
          ]
        },
        {
          "output_type": "stream",
          "name": "stderr",
          "text": [
            "Iteration: 100%|██████████| 41/41 [00:07<00:00,  5.21it/s]\n",
            "Iteration: 100%|██████████| 8/8 [00:00<00:00, 17.66it/s]\n",
            "100%|██████████| 22/22 [00:01<00:00, 16.23it/s]\n"
          ]
        },
        {
          "output_type": "stream",
          "name": "stdout",
          "text": [
            "288 0.011309219751416183 0.9673447087407112 0.8189781021897811\n"
          ]
        },
        {
          "output_type": "stream",
          "name": "stderr",
          "text": [
            "Iteration: 100%|██████████| 41/41 [00:07<00:00,  5.23it/s]\n",
            "Iteration: 100%|██████████| 8/8 [00:00<00:00, 17.64it/s]\n",
            "100%|██████████| 22/22 [00:01<00:00, 16.37it/s]\n"
          ]
        },
        {
          "output_type": "stream",
          "name": "stdout",
          "text": [
            "289 0.010692560920355523 0.9449656791985035 0.8145985401459854\n"
          ]
        },
        {
          "output_type": "stream",
          "name": "stderr",
          "text": [
            "Iteration: 100%|██████████| 41/41 [00:07<00:00,  5.20it/s]\n",
            "Iteration: 100%|██████████| 8/8 [00:00<00:00, 17.47it/s]\n",
            "100%|██████████| 22/22 [00:01<00:00, 16.28it/s]\n"
          ]
        },
        {
          "output_type": "stream",
          "name": "stdout",
          "text": [
            "290 0.011008814846097333 0.9230087790638208 0.8175182481751825\n"
          ]
        },
        {
          "output_type": "stream",
          "name": "stderr",
          "text": [
            "Iteration: 100%|██████████| 41/41 [00:07<00:00,  5.21it/s]\n",
            "Iteration: 100%|██████████| 8/8 [00:00<00:00, 17.48it/s]\n",
            "100%|██████████| 22/22 [00:01<00:00, 16.30it/s]\n"
          ]
        },
        {
          "output_type": "stream",
          "name": "stdout",
          "text": [
            "291 0.010665668572140177 1.205906793475151 0.8218978102189781\n"
          ]
        },
        {
          "output_type": "stream",
          "name": "stderr",
          "text": [
            "Iteration: 100%|██████████| 41/41 [00:07<00:00,  5.24it/s]\n",
            "Iteration: 100%|██████████| 8/8 [00:00<00:00, 17.41it/s]\n",
            "100%|██████████| 22/22 [00:01<00:00, 16.18it/s]\n"
          ]
        },
        {
          "output_type": "stream",
          "name": "stdout",
          "text": [
            "292 0.010310763820465271 0.9574759714305401 0.8233576642335766\n"
          ]
        },
        {
          "output_type": "stream",
          "name": "stderr",
          "text": [
            "Iteration: 100%|██████████| 41/41 [00:07<00:00,  5.21it/s]\n",
            "Iteration: 100%|██████████| 8/8 [00:00<00:00, 17.73it/s]\n",
            "100%|██████████| 22/22 [00:01<00:00, 16.31it/s]\n"
          ]
        },
        {
          "output_type": "stream",
          "name": "stdout",
          "text": [
            "293 0.010642416423141229 1.006674200296402 0.8175182481751825\n"
          ]
        },
        {
          "output_type": "stream",
          "name": "stderr",
          "text": [
            "Iteration: 100%|██████████| 41/41 [00:07<00:00,  5.23it/s]\n",
            "Iteration: 100%|██████████| 8/8 [00:00<00:00, 17.53it/s]\n",
            "100%|██████████| 22/22 [00:01<00:00, 16.31it/s]\n"
          ]
        },
        {
          "output_type": "stream",
          "name": "stdout",
          "text": [
            "294 0.011132659867587612 0.9192982204258442 0.8160583941605839\n"
          ]
        },
        {
          "output_type": "stream",
          "name": "stderr",
          "text": [
            "Iteration: 100%|██████████| 41/41 [00:07<00:00,  5.24it/s]\n",
            "Iteration: 100%|██████████| 8/8 [00:00<00:00, 17.53it/s]\n",
            "100%|██████████| 22/22 [00:01<00:00, 16.17it/s]\n"
          ]
        },
        {
          "output_type": "stream",
          "name": "stdout",
          "text": [
            "295 0.009378328970519871 1.0483675077557564 0.8160583941605839\n"
          ]
        },
        {
          "output_type": "stream",
          "name": "stderr",
          "text": [
            "Iteration: 100%|██████████| 41/41 [00:07<00:00,  5.25it/s]\n",
            "Iteration: 100%|██████████| 8/8 [00:00<00:00, 17.40it/s]\n",
            "100%|██████████| 22/22 [00:01<00:00, 16.15it/s]\n"
          ]
        },
        {
          "output_type": "stream",
          "name": "stdout",
          "text": [
            "296 0.010479287431779795 0.9124057292938232 0.8291970802919708\n"
          ]
        },
        {
          "output_type": "stream",
          "name": "stderr",
          "text": [
            "Iteration: 100%|██████████| 41/41 [00:07<00:00,  5.23it/s]\n",
            "Iteration: 100%|██████████| 8/8 [00:00<00:00, 17.71it/s]\n",
            "100%|██████████| 22/22 [00:01<00:00, 16.13it/s]\n"
          ]
        },
        {
          "output_type": "stream",
          "name": "stdout",
          "text": [
            "297 0.010678997490464187 0.9181799124926329 0.8262773722627738\n"
          ]
        },
        {
          "output_type": "stream",
          "name": "stderr",
          "text": [
            "Iteration: 100%|██████████| 41/41 [00:07<00:00,  5.23it/s]\n",
            "Iteration: 100%|██████████| 8/8 [00:00<00:00, 17.38it/s]\n",
            "100%|██████████| 22/22 [00:01<00:00, 16.33it/s]\n"
          ]
        },
        {
          "output_type": "stream",
          "name": "stdout",
          "text": [
            "298 0.009871546522623337 0.9588726460933685 0.8175182481751825\n"
          ]
        },
        {
          "output_type": "stream",
          "name": "stderr",
          "text": [
            "Iteration: 100%|██████████| 41/41 [00:07<00:00,  5.21it/s]\n",
            "Iteration: 100%|██████████| 8/8 [00:00<00:00, 17.72it/s]\n",
            "100%|██████████| 22/22 [00:01<00:00, 16.24it/s]\n"
          ]
        },
        {
          "output_type": "stream",
          "name": "stdout",
          "text": [
            "299 0.010423856412583008 0.9375171661376953 0.8218978102189781\n"
          ]
        },
        {
          "output_type": "stream",
          "name": "stderr",
          "text": [
            "Iteration: 100%|██████████| 41/41 [00:07<00:00,  5.22it/s]\n",
            "Iteration: 100%|██████████| 8/8 [00:00<00:00, 17.59it/s]\n",
            "100%|██████████| 22/22 [00:01<00:00, 16.30it/s]\n"
          ]
        },
        {
          "output_type": "stream",
          "name": "stdout",
          "text": [
            "300 0.009830449017832374 0.9329052828252316 0.8233576642335766\n"
          ]
        },
        {
          "output_type": "stream",
          "name": "stderr",
          "text": [
            "Iteration: 100%|██████████| 41/41 [00:07<00:00,  5.21it/s]\n",
            "Iteration: 100%|██████████| 8/8 [00:00<00:00, 17.34it/s]\n",
            "100%|██████████| 22/22 [00:01<00:00, 16.23it/s]\n"
          ]
        },
        {
          "output_type": "stream",
          "name": "stdout",
          "text": [
            "301 0.010048908715295355 1.0356478057801723 0.8175182481751825\n"
          ]
        },
        {
          "output_type": "stream",
          "name": "stderr",
          "text": [
            "Iteration: 100%|██████████| 41/41 [00:07<00:00,  5.23it/s]\n",
            "Iteration: 100%|██████████| 8/8 [00:00<00:00, 17.67it/s]\n",
            "100%|██████████| 22/22 [00:01<00:00, 16.31it/s]\n"
          ]
        },
        {
          "output_type": "stream",
          "name": "stdout",
          "text": [
            "302 0.011517491520995774 0.9129555514082313 0.8233576642335766\n"
          ]
        },
        {
          "output_type": "stream",
          "name": "stderr",
          "text": [
            "Iteration: 100%|██████████| 41/41 [00:07<00:00,  5.23it/s]\n",
            "Iteration: 100%|██████████| 8/8 [00:00<00:00, 17.62it/s]\n",
            "100%|██████████| 22/22 [00:01<00:00, 16.18it/s]\n"
          ]
        },
        {
          "output_type": "stream",
          "name": "stdout",
          "text": [
            "303 0.009795584467455471 0.9753961339592934 0.8204379562043795\n"
          ]
        },
        {
          "output_type": "stream",
          "name": "stderr",
          "text": [
            "Iteration: 100%|██████████| 41/41 [00:07<00:00,  5.21it/s]\n",
            "Iteration: 100%|██████████| 8/8 [00:00<00:00, 17.64it/s]\n",
            "100%|██████████| 22/22 [00:01<00:00, 16.05it/s]\n"
          ]
        },
        {
          "output_type": "stream",
          "name": "stdout",
          "text": [
            "304 0.009301249744234288 1.0054905377328396 0.8175182481751825\n"
          ]
        },
        {
          "output_type": "stream",
          "name": "stderr",
          "text": [
            "Iteration: 100%|██████████| 41/41 [00:07<00:00,  5.24it/s]\n",
            "Iteration: 100%|██████████| 8/8 [00:00<00:00, 17.52it/s]\n",
            "100%|██████████| 22/22 [00:01<00:00, 16.25it/s]\n"
          ]
        },
        {
          "output_type": "stream",
          "name": "stdout",
          "text": [
            "305 0.009748697712472299 1.0164786539971828 0.8145985401459854\n"
          ]
        },
        {
          "output_type": "stream",
          "name": "stderr",
          "text": [
            "Iteration: 100%|██████████| 41/41 [00:07<00:00,  5.22it/s]\n",
            "Iteration: 100%|██████████| 8/8 [00:00<00:00, 17.64it/s]\n",
            "100%|██████████| 22/22 [00:01<00:00, 16.21it/s]\n"
          ]
        },
        {
          "output_type": "stream",
          "name": "stdout",
          "text": [
            "306 0.010352034223970116 1.0983410105109215 0.8218978102189781\n"
          ]
        },
        {
          "output_type": "stream",
          "name": "stderr",
          "text": [
            "Iteration: 100%|██████████| 41/41 [00:07<00:00,  5.22it/s]\n",
            "Iteration: 100%|██████████| 8/8 [00:00<00:00, 17.46it/s]\n",
            "100%|██████████| 22/22 [00:01<00:00, 16.33it/s]\n"
          ]
        },
        {
          "output_type": "stream",
          "name": "stdout",
          "text": [
            "307 0.009229356894360446 0.911589914932847 0.8218978102189781\n"
          ]
        },
        {
          "output_type": "stream",
          "name": "stderr",
          "text": [
            "Iteration: 100%|██████████| 41/41 [00:07<00:00,  5.23it/s]\n",
            "Iteration: 100%|██████████| 8/8 [00:00<00:00, 17.65it/s]\n",
            "100%|██████████| 22/22 [00:01<00:00, 16.28it/s]\n"
          ]
        },
        {
          "output_type": "stream",
          "name": "stdout",
          "text": [
            "308 0.009696006465407952 0.9151659365743399 0.8204379562043795\n"
          ]
        },
        {
          "output_type": "stream",
          "name": "stderr",
          "text": [
            "Iteration: 100%|██████████| 41/41 [00:07<00:00,  5.23it/s]\n",
            "Iteration: 100%|██████████| 8/8 [00:00<00:00, 17.78it/s]\n",
            "100%|██████████| 22/22 [00:01<00:00, 16.23it/s]\n"
          ]
        },
        {
          "output_type": "stream",
          "name": "stdout",
          "text": [
            "309 0.009607184215494228 0.9797299206256866 0.8233576642335766\n"
          ]
        },
        {
          "output_type": "stream",
          "name": "stderr",
          "text": [
            "Iteration: 100%|██████████| 41/41 [00:07<00:00,  5.23it/s]\n",
            "Iteration: 100%|██████████| 8/8 [00:00<00:00, 17.62it/s]\n",
            "100%|██████████| 22/22 [00:01<00:00, 16.33it/s]\n"
          ]
        },
        {
          "output_type": "stream",
          "name": "stdout",
          "text": [
            "310 0.00907611124935878 1.1256981492042542 0.8175182481751825\n"
          ]
        },
        {
          "output_type": "stream",
          "name": "stderr",
          "text": [
            "Iteration: 100%|██████████| 41/41 [00:07<00:00,  5.23it/s]\n",
            "Iteration: 100%|██████████| 8/8 [00:00<00:00, 17.38it/s]\n",
            "100%|██████████| 22/22 [00:01<00:00, 16.32it/s]\n"
          ]
        },
        {
          "output_type": "stream",
          "name": "stdout",
          "text": [
            "311 0.009864603297035323 1.1775995716452599 0.8248175182481752\n"
          ]
        },
        {
          "output_type": "stream",
          "name": "stderr",
          "text": [
            "Iteration: 100%|██████████| 41/41 [00:07<00:00,  5.23it/s]\n",
            "Iteration: 100%|██████████| 8/8 [00:00<00:00, 17.64it/s]\n",
            "100%|██████████| 22/22 [00:01<00:00, 16.16it/s]\n"
          ]
        },
        {
          "output_type": "stream",
          "name": "stdout",
          "text": [
            "312 0.010483325379559906 1.0347781628370285 0.8233576642335766\n"
          ]
        },
        {
          "output_type": "stream",
          "name": "stderr",
          "text": [
            "Iteration: 100%|██████████| 41/41 [00:07<00:00,  5.22it/s]\n",
            "Iteration: 100%|██████████| 8/8 [00:00<00:00, 17.31it/s]\n",
            "100%|██████████| 22/22 [00:01<00:00, 16.20it/s]\n"
          ]
        },
        {
          "output_type": "stream",
          "name": "stdout",
          "text": [
            "313 0.009578215196819567 0.9629059955477715 0.8175182481751825\n"
          ]
        },
        {
          "output_type": "stream",
          "name": "stderr",
          "text": [
            "Iteration: 100%|██████████| 41/41 [00:07<00:00,  5.22it/s]\n",
            "Iteration: 100%|██████████| 8/8 [00:00<00:00, 17.61it/s]\n",
            "100%|██████████| 22/22 [00:01<00:00, 16.25it/s]\n"
          ]
        },
        {
          "output_type": "stream",
          "name": "stdout",
          "text": [
            "314 0.008808273274065337 1.0512802824378014 0.8248175182481752\n"
          ]
        },
        {
          "output_type": "stream",
          "name": "stderr",
          "text": [
            "Iteration: 100%|██████████| 41/41 [00:07<00:00,  5.22it/s]\n",
            "Iteration: 100%|██████████| 8/8 [00:00<00:00, 17.48it/s]\n",
            "100%|██████████| 22/22 [00:01<00:00, 16.27it/s]\n"
          ]
        },
        {
          "output_type": "stream",
          "name": "stdout",
          "text": [
            "315 0.010379135074866255 0.971562422811985 0.8218978102189781\n"
          ]
        },
        {
          "output_type": "stream",
          "name": "stderr",
          "text": [
            "Iteration: 100%|██████████| 41/41 [00:07<00:00,  5.24it/s]\n",
            "Iteration: 100%|██████████| 8/8 [00:00<00:00, 17.42it/s]\n",
            "100%|██████████| 22/22 [00:01<00:00, 16.32it/s]\n"
          ]
        },
        {
          "output_type": "stream",
          "name": "stdout",
          "text": [
            "316 0.009439599359544313 0.9610418528318405 0.8204379562043795\n"
          ]
        },
        {
          "output_type": "stream",
          "name": "stderr",
          "text": [
            "Iteration: 100%|██████████| 41/41 [00:07<00:00,  5.21it/s]\n",
            "Iteration: 100%|██████████| 8/8 [00:00<00:00, 17.61it/s]\n",
            "100%|██████████| 22/22 [00:01<00:00, 16.27it/s]\n"
          ]
        },
        {
          "output_type": "stream",
          "name": "stdout",
          "text": [
            "317 0.008517168509126528 0.9379889145493507 0.8218978102189781\n"
          ]
        },
        {
          "output_type": "stream",
          "name": "stderr",
          "text": [
            "Iteration: 100%|██████████| 41/41 [00:07<00:00,  5.22it/s]\n",
            "Iteration: 100%|██████████| 8/8 [00:00<00:00, 17.58it/s]\n",
            "100%|██████████| 22/22 [00:01<00:00, 16.30it/s]\n"
          ]
        },
        {
          "output_type": "stream",
          "name": "stdout",
          "text": [
            "318 0.01035777725869926 0.9218100886791945 0.8218978102189781\n"
          ]
        },
        {
          "output_type": "stream",
          "name": "stderr",
          "text": [
            "Iteration: 100%|██████████| 41/41 [00:07<00:00,  5.22it/s]\n",
            "Iteration: 100%|██████████| 8/8 [00:00<00:00, 17.64it/s]\n",
            "100%|██████████| 22/22 [00:01<00:00, 16.32it/s]\n"
          ]
        },
        {
          "output_type": "stream",
          "name": "stdout",
          "text": [
            "319 0.010050496052405456 1.102303959429264 0.8218978102189781\n"
          ]
        },
        {
          "output_type": "stream",
          "name": "stderr",
          "text": [
            "Iteration: 100%|██████████| 41/41 [00:07<00:00,  5.23it/s]\n",
            "Iteration: 100%|██████████| 8/8 [00:00<00:00, 17.69it/s]\n",
            "100%|██████████| 22/22 [00:01<00:00, 16.23it/s]\n"
          ]
        },
        {
          "output_type": "stream",
          "name": "stdout",
          "text": [
            "320 0.009782866915551627 1.007667351514101 0.8175182481751825\n"
          ]
        },
        {
          "output_type": "stream",
          "name": "stderr",
          "text": [
            "Iteration: 100%|██████████| 41/41 [00:07<00:00,  5.22it/s]\n",
            "Iteration: 100%|██████████| 8/8 [00:00<00:00, 17.58it/s]\n",
            "100%|██████████| 22/22 [00:01<00:00, 16.32it/s]\n"
          ]
        },
        {
          "output_type": "stream",
          "name": "stdout",
          "text": [
            "321 0.009480728074289268 0.9313147813081741 0.8175182481751825\n"
          ]
        },
        {
          "output_type": "stream",
          "name": "stderr",
          "text": [
            "Iteration: 100%|██████████| 41/41 [00:07<00:00,  5.24it/s]\n",
            "Iteration: 100%|██████████| 8/8 [00:00<00:00, 17.68it/s]\n",
            "100%|██████████| 22/22 [00:01<00:00, 16.41it/s]\n"
          ]
        },
        {
          "output_type": "stream",
          "name": "stdout",
          "text": [
            "322 0.009387652537353882 0.9751835949718952 0.8160583941605839\n"
          ]
        },
        {
          "output_type": "stream",
          "name": "stderr",
          "text": [
            "Iteration: 100%|██████████| 41/41 [00:07<00:00,  5.22it/s]\n",
            "Iteration: 100%|██████████| 8/8 [00:00<00:00, 17.37it/s]\n",
            "100%|██████████| 22/22 [00:01<00:00, 16.34it/s]\n"
          ]
        },
        {
          "output_type": "stream",
          "name": "stdout",
          "text": [
            "323 0.009493172640071773 0.9474058225750923 0.8218978102189781\n"
          ]
        },
        {
          "output_type": "stream",
          "name": "stderr",
          "text": [
            "Iteration: 100%|██████████| 41/41 [00:07<00:00,  5.23it/s]\n",
            "Iteration: 100%|██████████| 8/8 [00:00<00:00, 17.68it/s]\n",
            "100%|██████████| 22/22 [00:01<00:00, 16.18it/s]\n"
          ]
        },
        {
          "output_type": "stream",
          "name": "stdout",
          "text": [
            "324 0.009445331331978484 1.1272660195827484 0.8189781021897811\n"
          ]
        },
        {
          "output_type": "stream",
          "name": "stderr",
          "text": [
            "Iteration: 100%|██████████| 41/41 [00:07<00:00,  5.20it/s]\n",
            "Iteration: 100%|██████████| 8/8 [00:00<00:00, 17.71it/s]\n",
            "100%|██████████| 22/22 [00:01<00:00, 16.22it/s]\n"
          ]
        },
        {
          "output_type": "stream",
          "name": "stdout",
          "text": [
            "325 0.010299587395133042 0.9060300197452307 0.8160583941605839\n"
          ]
        },
        {
          "output_type": "stream",
          "name": "stderr",
          "text": [
            "Iteration: 100%|██████████| 41/41 [00:07<00:00,  5.22it/s]\n",
            "Iteration: 100%|██████████| 8/8 [00:00<00:00, 17.61it/s]\n",
            "100%|██████████| 22/22 [00:01<00:00, 16.23it/s]\n"
          ]
        },
        {
          "output_type": "stream",
          "name": "stdout",
          "text": [
            "326 0.010419046835655846 0.9663418158888817 0.8160583941605839\n"
          ]
        },
        {
          "output_type": "stream",
          "name": "stderr",
          "text": [
            "Iteration: 100%|██████████| 41/41 [00:07<00:00,  5.21it/s]\n",
            "Iteration: 100%|██████████| 8/8 [00:00<00:00, 17.65it/s]\n",
            "100%|██████████| 22/22 [00:01<00:00, 16.32it/s]\n"
          ]
        },
        {
          "output_type": "stream",
          "name": "stdout",
          "text": [
            "327 0.009323572649098024 1.5521042570471764 0.8189781021897811\n"
          ]
        },
        {
          "output_type": "stream",
          "name": "stderr",
          "text": [
            "Iteration: 100%|██████████| 41/41 [00:07<00:00,  5.24it/s]\n",
            "Iteration: 100%|██████████| 8/8 [00:00<00:00, 17.70it/s]\n",
            "100%|██████████| 22/22 [00:01<00:00, 16.28it/s]\n"
          ]
        },
        {
          "output_type": "stream",
          "name": "stdout",
          "text": [
            "328 0.009178338385692502 0.9924513176083565 0.8189781021897811\n"
          ]
        },
        {
          "output_type": "stream",
          "name": "stderr",
          "text": [
            "Iteration: 100%|██████████| 41/41 [00:07<00:00,  5.21it/s]\n",
            "Iteration: 100%|██████████| 8/8 [00:00<00:00, 17.41it/s]\n",
            "100%|██████████| 22/22 [00:01<00:00, 15.92it/s]\n"
          ]
        },
        {
          "output_type": "stream",
          "name": "stdout",
          "text": [
            "329 0.010062780867262585 1.029305923730135 0.8145985401459854\n"
          ]
        },
        {
          "output_type": "stream",
          "name": "stderr",
          "text": [
            "Iteration: 100%|██████████| 41/41 [00:07<00:00,  5.21it/s]\n",
            "Iteration: 100%|██████████| 8/8 [00:00<00:00, 17.55it/s]\n",
            "100%|██████████| 22/22 [00:01<00:00, 16.32it/s]\n"
          ]
        },
        {
          "output_type": "stream",
          "name": "stdout",
          "text": [
            "330 0.00923604378476739 0.8995196176692843 0.8145985401459854\n"
          ]
        },
        {
          "output_type": "stream",
          "name": "stderr",
          "text": [
            "Iteration: 100%|██████████| 41/41 [00:07<00:00,  5.22it/s]\n",
            "Iteration: 100%|██████████| 8/8 [00:00<00:00, 17.41it/s]\n",
            "100%|██████████| 22/22 [00:01<00:00, 16.28it/s]\n"
          ]
        },
        {
          "output_type": "stream",
          "name": "stdout",
          "text": [
            "331 0.009448251074745046 0.9142046179622412 0.8160583941605839\n"
          ]
        },
        {
          "output_type": "stream",
          "name": "stderr",
          "text": [
            "Iteration: 100%|██████████| 41/41 [00:07<00:00,  5.24it/s]\n",
            "Iteration: 100%|██████████| 8/8 [00:00<00:00, 17.64it/s]\n",
            "100%|██████████| 22/22 [00:01<00:00, 16.26it/s]\n"
          ]
        },
        {
          "output_type": "stream",
          "name": "stdout",
          "text": [
            "332 0.009254960133126232 0.9801885522902012 0.8160583941605839\n"
          ]
        },
        {
          "output_type": "stream",
          "name": "stderr",
          "text": [
            "Iteration: 100%|██████████| 41/41 [00:07<00:00,  5.22it/s]\n",
            "Iteration: 100%|██████████| 8/8 [00:00<00:00, 17.57it/s]\n",
            "100%|██████████| 22/22 [00:01<00:00, 16.23it/s]\n"
          ]
        },
        {
          "output_type": "stream",
          "name": "stdout",
          "text": [
            "333 0.008908358098734625 0.9785238429903984 0.8175182481751825\n"
          ]
        },
        {
          "output_type": "stream",
          "name": "stderr",
          "text": [
            "Iteration: 100%|██████████| 41/41 [00:07<00:00,  5.23it/s]\n",
            "Iteration: 100%|██████████| 8/8 [00:00<00:00, 17.65it/s]\n",
            "100%|██████████| 22/22 [00:01<00:00, 16.24it/s]\n"
          ]
        },
        {
          "output_type": "stream",
          "name": "stdout",
          "text": [
            "334 0.00970098845342674 1.1236700490117073 0.8160583941605839\n"
          ]
        },
        {
          "output_type": "stream",
          "name": "stderr",
          "text": [
            "Iteration: 100%|██████████| 41/41 [00:07<00:00,  5.22it/s]\n",
            "Iteration: 100%|██████████| 8/8 [00:00<00:00, 17.49it/s]\n",
            "100%|██████████| 22/22 [00:01<00:00, 16.28it/s]\n"
          ]
        },
        {
          "output_type": "stream",
          "name": "stdout",
          "text": [
            "335 0.00988397515583329 0.9746877178549767 0.8175182481751825\n"
          ]
        },
        {
          "output_type": "stream",
          "name": "stderr",
          "text": [
            "Iteration: 100%|██████████| 41/41 [00:07<00:00,  5.24it/s]\n",
            "Iteration: 100%|██████████| 8/8 [00:00<00:00, 17.71it/s]\n",
            "100%|██████████| 22/22 [00:01<00:00, 16.24it/s]\n"
          ]
        },
        {
          "output_type": "stream",
          "name": "stdout",
          "text": [
            "336 0.00911782872749538 1.0268588066101074 0.8160583941605839\n"
          ]
        },
        {
          "output_type": "stream",
          "name": "stderr",
          "text": [
            "Iteration: 100%|██████████| 41/41 [00:07<00:00,  5.22it/s]\n",
            "Iteration: 100%|██████████| 8/8 [00:00<00:00, 17.59it/s]\n",
            "100%|██████████| 22/22 [00:01<00:00, 16.06it/s]\n"
          ]
        },
        {
          "output_type": "stream",
          "name": "stdout",
          "text": [
            "337 0.009524998822953643 1.07721146941185 0.8233576642335766\n"
          ]
        },
        {
          "output_type": "stream",
          "name": "stderr",
          "text": [
            "Iteration: 100%|██████████| 41/41 [00:07<00:00,  5.22it/s]\n",
            "Iteration: 100%|██████████| 8/8 [00:00<00:00, 17.45it/s]\n",
            "100%|██████████| 22/22 [00:01<00:00, 16.31it/s]\n"
          ]
        },
        {
          "output_type": "stream",
          "name": "stdout",
          "text": [
            "338 0.008845667698329724 1.2161968275904655 0.8218978102189781\n"
          ]
        },
        {
          "output_type": "stream",
          "name": "stderr",
          "text": [
            "Iteration: 100%|██████████| 41/41 [00:07<00:00,  5.23it/s]\n",
            "Iteration: 100%|██████████| 8/8 [00:00<00:00, 17.63it/s]\n",
            "100%|██████████| 22/22 [00:01<00:00, 16.35it/s]\n"
          ]
        },
        {
          "output_type": "stream",
          "name": "stdout",
          "text": [
            "339 0.008978620466844337 0.962131179869175 0.8204379562043795\n"
          ]
        },
        {
          "output_type": "stream",
          "name": "stderr",
          "text": [
            "Iteration: 100%|██████████| 41/41 [00:07<00:00,  5.23it/s]\n",
            "Iteration: 100%|██████████| 8/8 [00:00<00:00, 17.52it/s]\n",
            "100%|██████████| 22/22 [00:01<00:00, 16.24it/s]\n"
          ]
        },
        {
          "output_type": "stream",
          "name": "stdout",
          "text": [
            "340 0.008890491917732217 0.9362991042435169 0.8175182481751825\n"
          ]
        },
        {
          "output_type": "stream",
          "name": "stderr",
          "text": [
            "Iteration: 100%|██████████| 41/41 [00:07<00:00,  5.22it/s]\n",
            "Iteration: 100%|██████████| 8/8 [00:00<00:00, 17.48it/s]\n",
            "100%|██████████| 22/22 [00:01<00:00, 16.38it/s]\n"
          ]
        },
        {
          "output_type": "stream",
          "name": "stdout",
          "text": [
            "341 0.008768580642581361 0.9066028837114573 0.8131386861313868\n"
          ]
        },
        {
          "output_type": "stream",
          "name": "stderr",
          "text": [
            "Iteration: 100%|██████████| 41/41 [00:07<00:00,  5.23it/s]\n",
            "Iteration: 100%|██████████| 8/8 [00:00<00:00, 17.66it/s]\n",
            "100%|██████████| 22/22 [00:01<00:00, 16.12it/s]\n"
          ]
        },
        {
          "output_type": "stream",
          "name": "stdout",
          "text": [
            "342 0.008572996991527517 0.9178026858717203 0.8175182481751825\n"
          ]
        },
        {
          "output_type": "stream",
          "name": "stderr",
          "text": [
            "Iteration: 100%|██████████| 41/41 [00:07<00:00,  5.21it/s]\n",
            "Iteration: 100%|██████████| 8/8 [00:00<00:00, 17.68it/s]\n",
            "100%|██████████| 22/22 [00:01<00:00, 16.34it/s]\n"
          ]
        },
        {
          "output_type": "stream",
          "name": "stdout",
          "text": [
            "343 0.00993343482430025 0.9175057150423527 0.8175182481751825\n"
          ]
        },
        {
          "output_type": "stream",
          "name": "stderr",
          "text": [
            "Iteration: 100%|██████████| 41/41 [00:07<00:00,  5.22it/s]\n",
            "Iteration: 100%|██████████| 8/8 [00:00<00:00, 17.78it/s]\n",
            "100%|██████████| 22/22 [00:01<00:00, 16.36it/s]\n"
          ]
        },
        {
          "output_type": "stream",
          "name": "stdout",
          "text": [
            "344 0.008643265655625395 0.9850569888949394 0.8160583941605839\n"
          ]
        },
        {
          "output_type": "stream",
          "name": "stderr",
          "text": [
            "Iteration: 100%|██████████| 41/41 [00:07<00:00,  5.24it/s]\n",
            "Iteration: 100%|██████████| 8/8 [00:00<00:00, 17.13it/s]\n",
            "100%|██████████| 22/22 [00:01<00:00, 16.09it/s]\n"
          ]
        },
        {
          "output_type": "stream",
          "name": "stdout",
          "text": [
            "345 0.009503733309939867 0.9331989288330078 0.8145985401459854\n"
          ]
        },
        {
          "output_type": "stream",
          "name": "stderr",
          "text": [
            "Iteration: 100%|██████████| 41/41 [00:07<00:00,  5.21it/s]\n",
            "Iteration: 100%|██████████| 8/8 [00:00<00:00, 17.82it/s]\n",
            "100%|██████████| 22/22 [00:01<00:00, 16.18it/s]\n"
          ]
        },
        {
          "output_type": "stream",
          "name": "stdout",
          "text": [
            "346 0.00853736522052403 0.9665771536529064 0.8160583941605839\n"
          ]
        },
        {
          "output_type": "stream",
          "name": "stderr",
          "text": [
            "Iteration: 100%|██████████| 41/41 [00:07<00:00,  5.21it/s]\n",
            "Iteration: 100%|██████████| 8/8 [00:00<00:00, 17.26it/s]\n",
            "100%|██████████| 22/22 [00:01<00:00, 16.36it/s]\n"
          ]
        },
        {
          "output_type": "stream",
          "name": "stdout",
          "text": [
            "347 0.008348792019050295 0.9128712061792612 0.8160583941605839\n"
          ]
        },
        {
          "output_type": "stream",
          "name": "stderr",
          "text": [
            "Iteration: 100%|██████████| 41/41 [00:07<00:00,  5.23it/s]\n",
            "Iteration: 100%|██████████| 8/8 [00:00<00:00, 17.70it/s]\n",
            "100%|██████████| 22/22 [00:01<00:00, 16.26it/s]\n"
          ]
        },
        {
          "output_type": "stream",
          "name": "stdout",
          "text": [
            "348 0.009352551983305958 0.9183216504752636 0.8189781021897811\n"
          ]
        },
        {
          "output_type": "stream",
          "name": "stderr",
          "text": [
            "Iteration: 100%|██████████| 41/41 [00:07<00:00,  5.23it/s]\n",
            "Iteration: 100%|██████████| 8/8 [00:00<00:00, 17.72it/s]\n",
            "100%|██████████| 22/22 [00:01<00:00, 16.32it/s]\n"
          ]
        },
        {
          "output_type": "stream",
          "name": "stdout",
          "text": [
            "349 0.008277885710590564 0.9571090675890446 0.8160583941605839\n"
          ]
        },
        {
          "output_type": "stream",
          "name": "stderr",
          "text": [
            "Iteration: 100%|██████████| 41/41 [00:07<00:00,  5.24it/s]\n",
            "Iteration: 100%|██████████| 8/8 [00:00<00:00, 17.73it/s]\n",
            "100%|██████████| 22/22 [00:01<00:00, 16.21it/s]\n"
          ]
        },
        {
          "output_type": "stream",
          "name": "stdout",
          "text": [
            "350 0.00892938118535889 0.9633995331823826 0.8131386861313868\n"
          ]
        },
        {
          "output_type": "stream",
          "name": "stderr",
          "text": [
            "Iteration: 100%|██████████| 41/41 [00:07<00:00,  5.21it/s]\n",
            "Iteration: 100%|██████████| 8/8 [00:00<00:00, 17.58it/s]\n",
            "100%|██████████| 22/22 [00:01<00:00, 16.28it/s]\n"
          ]
        },
        {
          "output_type": "stream",
          "name": "stdout",
          "text": [
            "351 0.009865611859756271 0.9218676313757896 0.8145985401459854\n"
          ]
        },
        {
          "output_type": "stream",
          "name": "stderr",
          "text": [
            "Iteration: 100%|██████████| 41/41 [00:07<00:00,  5.21it/s]\n",
            "Iteration: 100%|██████████| 8/8 [00:00<00:00, 17.71it/s]\n",
            "100%|██████████| 22/22 [00:01<00:00, 16.34it/s]\n"
          ]
        },
        {
          "output_type": "stream",
          "name": "stdout",
          "text": [
            "352 0.009028107640560626 1.090379610657692 0.8160583941605839\n"
          ]
        },
        {
          "output_type": "stream",
          "name": "stderr",
          "text": [
            "Iteration: 100%|██████████| 41/41 [00:07<00:00,  5.25it/s]\n",
            "Iteration: 100%|██████████| 8/8 [00:00<00:00, 17.51it/s]\n",
            "100%|██████████| 22/22 [00:01<00:00, 16.31it/s]\n"
          ]
        },
        {
          "output_type": "stream",
          "name": "stdout",
          "text": [
            "353 0.009337301786971937 0.9619119167327881 0.8145985401459854\n"
          ]
        },
        {
          "output_type": "stream",
          "name": "stderr",
          "text": [
            "Iteration: 100%|██████████| 41/41 [00:07<00:00,  5.22it/s]\n",
            "Iteration: 100%|██████████| 8/8 [00:00<00:00, 17.63it/s]\n",
            "100%|██████████| 22/22 [00:01<00:00, 16.19it/s]\n"
          ]
        },
        {
          "output_type": "stream",
          "name": "stdout",
          "text": [
            "354 0.008412012160278676 0.9233018010854721 0.8160583941605839\n"
          ]
        },
        {
          "output_type": "stream",
          "name": "stderr",
          "text": [
            "Iteration: 100%|██████████| 41/41 [00:07<00:00,  5.22it/s]\n",
            "Iteration: 100%|██████████| 8/8 [00:00<00:00, 17.73it/s]\n",
            "100%|██████████| 22/22 [00:01<00:00, 16.37it/s]\n"
          ]
        },
        {
          "output_type": "stream",
          "name": "stdout",
          "text": [
            "355 0.008672822210029131 1.017612136900425 0.8160583941605839\n"
          ]
        },
        {
          "output_type": "stream",
          "name": "stderr",
          "text": [
            "Iteration: 100%|██████████| 41/41 [00:07<00:00,  5.22it/s]\n",
            "Iteration: 100%|██████████| 8/8 [00:00<00:00, 17.53it/s]\n",
            "100%|██████████| 22/22 [00:01<00:00, 16.20it/s]\n"
          ]
        },
        {
          "output_type": "stream",
          "name": "stdout",
          "text": [
            "356 0.008390735922935941 0.9349269941449165 0.8160583941605839\n"
          ]
        },
        {
          "output_type": "stream",
          "name": "stderr",
          "text": [
            "Iteration: 100%|██████████| 41/41 [00:07<00:00,  5.22it/s]\n",
            "Iteration: 100%|██████████| 8/8 [00:00<00:00, 17.55it/s]\n",
            "100%|██████████| 22/22 [00:01<00:00, 16.30it/s]\n"
          ]
        },
        {
          "output_type": "stream",
          "name": "stdout",
          "text": [
            "357 0.008443170874493151 1.1021392792463303 0.8160583941605839\n"
          ]
        },
        {
          "output_type": "stream",
          "name": "stderr",
          "text": [
            "Iteration: 100%|██████████| 41/41 [00:07<00:00,  5.22it/s]\n",
            "Iteration: 100%|██████████| 8/8 [00:00<00:00, 16.43it/s]\n",
            "100%|██████████| 22/22 [00:01<00:00, 16.09it/s]\n"
          ]
        },
        {
          "output_type": "stream",
          "name": "stdout",
          "text": [
            "358 0.008524552850825031 0.9035863894969225 0.8145985401459854\n"
          ]
        },
        {
          "output_type": "stream",
          "name": "stderr",
          "text": [
            "Iteration: 100%|██████████| 41/41 [00:07<00:00,  5.19it/s]\n",
            "Iteration: 100%|██████████| 8/8 [00:00<00:00, 17.38it/s]\n",
            "100%|██████████| 22/22 [00:01<00:00, 16.29it/s]\n"
          ]
        },
        {
          "output_type": "stream",
          "name": "stdout",
          "text": [
            "359 0.008658537101682002 0.9105722513049841 0.8145985401459854\n"
          ]
        },
        {
          "output_type": "stream",
          "name": "stderr",
          "text": [
            "Iteration: 100%|██████████| 41/41 [00:07<00:00,  5.19it/s]\n",
            "Iteration: 100%|██████████| 8/8 [00:00<00:00, 17.37it/s]\n",
            "100%|██████████| 22/22 [00:01<00:00, 16.04it/s]\n"
          ]
        },
        {
          "output_type": "stream",
          "name": "stdout",
          "text": [
            "360 0.00767148690150551 0.9229454956948757 0.8145985401459854\n"
          ]
        },
        {
          "output_type": "stream",
          "name": "stderr",
          "text": [
            "Iteration: 100%|██████████| 41/41 [00:07<00:00,  5.18it/s]\n",
            "Iteration: 100%|██████████| 8/8 [00:00<00:00, 17.34it/s]\n",
            "100%|██████████| 22/22 [00:01<00:00, 16.14it/s]\n"
          ]
        },
        {
          "output_type": "stream",
          "name": "stdout",
          "text": [
            "361 0.007822583917891833 1.0882825702428818 0.8145985401459854\n"
          ]
        },
        {
          "output_type": "stream",
          "name": "stderr",
          "text": [
            "Iteration: 100%|██████████| 41/41 [00:07<00:00,  5.18it/s]\n",
            "Iteration: 100%|██████████| 8/8 [00:00<00:00, 17.57it/s]\n",
            "100%|██████████| 22/22 [00:01<00:00, 16.13it/s]\n"
          ]
        },
        {
          "output_type": "stream",
          "name": "stdout",
          "text": [
            "362 0.008559266099704163 0.9476661458611488 0.8145985401459854\n"
          ]
        },
        {
          "output_type": "stream",
          "name": "stderr",
          "text": [
            "Iteration: 100%|██████████| 41/41 [00:07<00:00,  5.23it/s]\n",
            "Iteration: 100%|██████████| 8/8 [00:00<00:00, 17.70it/s]\n",
            "100%|██████████| 22/22 [00:01<00:00, 16.24it/s]\n"
          ]
        },
        {
          "output_type": "stream",
          "name": "stdout",
          "text": [
            "363 0.00833817881463868 0.9075190853327513 0.8145985401459854\n"
          ]
        },
        {
          "output_type": "stream",
          "name": "stderr",
          "text": [
            "Iteration: 100%|██████████| 41/41 [00:07<00:00,  5.23it/s]\n",
            "Iteration: 100%|██████████| 8/8 [00:00<00:00, 17.57it/s]\n",
            "100%|██████████| 22/22 [00:01<00:00, 16.31it/s]\n"
          ]
        },
        {
          "output_type": "stream",
          "name": "stdout",
          "text": [
            "364 0.008401678045984448 1.0317317321896553 0.8145985401459854\n"
          ]
        },
        {
          "output_type": "stream",
          "name": "stderr",
          "text": [
            "Iteration: 100%|██████████| 41/41 [00:07<00:00,  5.24it/s]\n",
            "Iteration: 100%|██████████| 8/8 [00:00<00:00, 17.70it/s]\n",
            "100%|██████████| 22/22 [00:01<00:00, 16.32it/s]\n"
          ]
        },
        {
          "output_type": "stream",
          "name": "stdout",
          "text": [
            "365 0.00854077901146034 0.9977367892861366 0.8145985401459854\n"
          ]
        },
        {
          "output_type": "stream",
          "name": "stderr",
          "text": [
            "Iteration: 100%|██████████| 41/41 [00:07<00:00,  5.22it/s]\n",
            "Iteration: 100%|██████████| 8/8 [00:00<00:00, 17.75it/s]\n",
            "100%|██████████| 22/22 [00:01<00:00, 16.32it/s]\n"
          ]
        },
        {
          "output_type": "stream",
          "name": "stdout",
          "text": [
            "366 0.008608078311492757 1.0419749915599823 0.8131386861313868\n"
          ]
        },
        {
          "output_type": "stream",
          "name": "stderr",
          "text": [
            "Iteration: 100%|██████████| 41/41 [00:07<00:00,  5.24it/s]\n",
            "Iteration: 100%|██████████| 8/8 [00:00<00:00, 17.60it/s]\n",
            "100%|██████████| 22/22 [00:01<00:00, 16.32it/s]\n"
          ]
        },
        {
          "output_type": "stream",
          "name": "stdout",
          "text": [
            "367 0.008172912943381362 0.9112575184553862 0.8145985401459854\n"
          ]
        },
        {
          "output_type": "stream",
          "name": "stderr",
          "text": [
            "Iteration: 100%|██████████| 41/41 [00:07<00:00,  5.23it/s]\n",
            "Iteration: 100%|██████████| 8/8 [00:00<00:00, 17.45it/s]\n",
            "100%|██████████| 22/22 [00:01<00:00, 16.29it/s]\n"
          ]
        },
        {
          "output_type": "stream",
          "name": "stdout",
          "text": [
            "368 0.008249590661740157 1.0269430316984653 0.8131386861313868\n"
          ]
        },
        {
          "output_type": "stream",
          "name": "stderr",
          "text": [
            "Iteration: 100%|██████████| 41/41 [00:07<00:00,  5.22it/s]\n",
            "Iteration: 100%|██████████| 8/8 [00:00<00:00, 17.61it/s]\n",
            "100%|██████████| 22/22 [00:01<00:00, 16.22it/s]\n"
          ]
        },
        {
          "output_type": "stream",
          "name": "stdout",
          "text": [
            "369 0.008689297425628798 0.958599142730236 0.8145985401459854\n"
          ]
        },
        {
          "output_type": "stream",
          "name": "stderr",
          "text": [
            "Iteration: 100%|██████████| 41/41 [00:07<00:00,  5.23it/s]\n",
            "Iteration: 100%|██████████| 8/8 [00:00<00:00, 17.65it/s]\n",
            "100%|██████████| 22/22 [00:01<00:00, 16.22it/s]\n"
          ]
        },
        {
          "output_type": "stream",
          "name": "stdout",
          "text": [
            "370 0.008631633571916965 0.9615215249359608 0.8145985401459854\n"
          ]
        },
        {
          "output_type": "stream",
          "name": "stderr",
          "text": [
            "Iteration: 100%|██████████| 41/41 [00:07<00:00,  5.24it/s]\n",
            "Iteration: 100%|██████████| 8/8 [00:00<00:00, 17.58it/s]\n",
            "100%|██████████| 22/22 [00:01<00:00, 16.33it/s]\n"
          ]
        },
        {
          "output_type": "stream",
          "name": "stdout",
          "text": [
            "371 0.008278406117247736 0.9552653729915619 0.8145985401459854\n"
          ]
        },
        {
          "output_type": "stream",
          "name": "stderr",
          "text": [
            "Iteration: 100%|██████████| 41/41 [00:07<00:00,  5.23it/s]\n",
            "Iteration: 100%|██████████| 8/8 [00:00<00:00, 17.43it/s]\n",
            "100%|██████████| 22/22 [00:01<00:00, 16.34it/s]\n"
          ]
        },
        {
          "output_type": "stream",
          "name": "stdout",
          "text": [
            "372 0.00790672887133707 0.9889218956232071 0.8145985401459854\n"
          ]
        },
        {
          "output_type": "stream",
          "name": "stderr",
          "text": [
            "Iteration: 100%|██████████| 41/41 [00:07<00:00,  5.23it/s]\n",
            "Iteration: 100%|██████████| 8/8 [00:00<00:00, 17.49it/s]\n",
            "100%|██████████| 22/22 [00:01<00:00, 16.29it/s]\n"
          ]
        },
        {
          "output_type": "stream",
          "name": "stdout",
          "text": [
            "373 0.008241636820546374 0.9274316057562828 0.8145985401459854\n"
          ]
        },
        {
          "output_type": "stream",
          "name": "stderr",
          "text": [
            "Iteration: 100%|██████████| 41/41 [00:07<00:00,  5.24it/s]\n",
            "Iteration: 100%|██████████| 8/8 [00:00<00:00, 17.63it/s]\n",
            "100%|██████████| 22/22 [00:01<00:00, 16.30it/s]\n"
          ]
        },
        {
          "output_type": "stream",
          "name": "stdout",
          "text": [
            "374 0.008381120156405903 0.9382163025438786 0.8145985401459854\n"
          ]
        },
        {
          "output_type": "stream",
          "name": "stderr",
          "text": [
            "Iteration: 100%|██████████| 41/41 [00:07<00:00,  5.22it/s]\n",
            "Iteration: 100%|██████████| 8/8 [00:00<00:00, 17.66it/s]\n",
            "100%|██████████| 22/22 [00:01<00:00, 16.29it/s]\n"
          ]
        },
        {
          "output_type": "stream",
          "name": "stdout",
          "text": [
            "375 0.008506331320216016 0.9468224048614502 0.8145985401459854\n"
          ]
        },
        {
          "output_type": "stream",
          "name": "stderr",
          "text": [
            "Iteration: 100%|██████████| 41/41 [00:07<00:00,  5.22it/s]\n",
            "Iteration: 100%|██████████| 8/8 [00:00<00:00, 17.70it/s]\n",
            "100%|██████████| 22/22 [00:01<00:00, 16.28it/s]\n"
          ]
        },
        {
          "output_type": "stream",
          "name": "stdout",
          "text": [
            "376 0.008173389561905912 0.911625761538744 0.8160583941605839\n"
          ]
        },
        {
          "output_type": "stream",
          "name": "stderr",
          "text": [
            "Iteration: 100%|██████████| 41/41 [00:07<00:00,  5.23it/s]\n",
            "Iteration: 100%|██████████| 8/8 [00:00<00:00, 17.53it/s]\n",
            "100%|██████████| 22/22 [00:01<00:00, 16.27it/s]\n"
          ]
        },
        {
          "output_type": "stream",
          "name": "stdout",
          "text": [
            "377 0.008198814271564494 0.9214527197182178 0.8160583941605839\n"
          ]
        },
        {
          "output_type": "stream",
          "name": "stderr",
          "text": [
            "Iteration: 100%|██████████| 41/41 [00:07<00:00,  5.23it/s]\n",
            "Iteration: 100%|██████████| 8/8 [00:00<00:00, 17.56it/s]\n",
            "100%|██████████| 22/22 [00:01<00:00, 16.31it/s]\n"
          ]
        },
        {
          "output_type": "stream",
          "name": "stdout",
          "text": [
            "378 0.008191649366869192 1.0022256933152676 0.8160583941605839\n"
          ]
        },
        {
          "output_type": "stream",
          "name": "stderr",
          "text": [
            "Iteration: 100%|██████████| 41/41 [00:07<00:00,  5.23it/s]\n",
            "Iteration: 100%|██████████| 8/8 [00:00<00:00, 17.61it/s]\n",
            "100%|██████████| 22/22 [00:01<00:00, 16.28it/s]\n"
          ]
        },
        {
          "output_type": "stream",
          "name": "stdout",
          "text": [
            "379 0.007611459257399164 1.1179363019764423 0.8160583941605839\n"
          ]
        },
        {
          "output_type": "stream",
          "name": "stderr",
          "text": [
            "Iteration: 100%|██████████| 41/41 [00:07<00:00,  5.22it/s]\n",
            "Iteration: 100%|██████████| 8/8 [00:00<00:00, 17.55it/s]\n",
            "100%|██████████| 22/22 [00:01<00:00, 16.35it/s]\n"
          ]
        },
        {
          "output_type": "stream",
          "name": "stdout",
          "text": [
            "380 0.008074598494780863 0.9081411343067884 0.8160583941605839\n"
          ]
        },
        {
          "output_type": "stream",
          "name": "stderr",
          "text": [
            "Iteration: 100%|██████████| 41/41 [00:07<00:00,  5.24it/s]\n",
            "Iteration: 100%|██████████| 8/8 [00:00<00:00, 17.67it/s]\n",
            "100%|██████████| 22/22 [00:01<00:00, 16.24it/s]\n"
          ]
        },
        {
          "output_type": "stream",
          "name": "stdout",
          "text": [
            "381 0.009327034772623604 0.9168290011584759 0.8160583941605839\n"
          ]
        },
        {
          "output_type": "stream",
          "name": "stderr",
          "text": [
            "Iteration: 100%|██████████| 41/41 [00:07<00:00,  5.23it/s]\n",
            "Iteration: 100%|██████████| 8/8 [00:00<00:00, 17.51it/s]\n",
            "100%|██████████| 22/22 [00:01<00:00, 16.34it/s]\n"
          ]
        },
        {
          "output_type": "stream",
          "name": "stdout",
          "text": [
            "382 0.008956614075364864 0.9643716588616371 0.8160583941605839\n"
          ]
        },
        {
          "output_type": "stream",
          "name": "stderr",
          "text": [
            "Iteration: 100%|██████████| 41/41 [00:07<00:00,  5.23it/s]\n",
            "Iteration: 100%|██████████| 8/8 [00:00<00:00, 17.61it/s]\n",
            "100%|██████████| 22/22 [00:01<00:00, 16.34it/s]\n"
          ]
        },
        {
          "output_type": "stream",
          "name": "stdout",
          "text": [
            "383 0.008013377783155614 1.1481727585196495 0.8160583941605839\n"
          ]
        },
        {
          "output_type": "stream",
          "name": "stderr",
          "text": [
            "Iteration: 100%|██████████| 41/41 [00:07<00:00,  5.23it/s]\n",
            "Iteration: 100%|██████████| 8/8 [00:00<00:00, 17.65it/s]\n",
            "100%|██████████| 22/22 [00:01<00:00, 16.20it/s]\n"
          ]
        },
        {
          "output_type": "stream",
          "name": "stdout",
          "text": [
            "384 0.00788361716571139 0.916451208293438 0.8160583941605839\n"
          ]
        },
        {
          "output_type": "stream",
          "name": "stderr",
          "text": [
            "Iteration: 100%|██████████| 41/41 [00:07<00:00,  5.22it/s]\n",
            "Iteration: 100%|██████████| 8/8 [00:00<00:00, 17.51it/s]\n",
            "100%|██████████| 22/22 [00:01<00:00, 16.30it/s]\n"
          ]
        },
        {
          "output_type": "stream",
          "name": "stdout",
          "text": [
            "385 0.007733349586132823 0.9227452129125595 0.8145985401459854\n"
          ]
        },
        {
          "output_type": "stream",
          "name": "stderr",
          "text": [
            "Iteration: 100%|██████████| 41/41 [00:07<00:00,  5.22it/s]\n",
            "Iteration: 100%|██████████| 8/8 [00:00<00:00, 17.68it/s]\n",
            "100%|██████████| 22/22 [00:01<00:00, 16.38it/s]\n"
          ]
        },
        {
          "output_type": "stream",
          "name": "stdout",
          "text": [
            "386 0.008180158703996823 1.1454578712582588 0.8160583941605839\n"
          ]
        },
        {
          "output_type": "stream",
          "name": "stderr",
          "text": [
            "Iteration: 100%|██████████| 41/41 [00:07<00:00,  5.23it/s]\n",
            "Iteration: 100%|██████████| 8/8 [00:00<00:00, 17.74it/s]\n",
            "100%|██████████| 22/22 [00:01<00:00, 16.30it/s]\n"
          ]
        },
        {
          "output_type": "stream",
          "name": "stdout",
          "text": [
            "387 0.008329072121031037 0.985023558139801 0.8160583941605839\n"
          ]
        },
        {
          "output_type": "stream",
          "name": "stderr",
          "text": [
            "Iteration: 100%|██████████| 41/41 [00:07<00:00,  5.23it/s]\n",
            "Iteration: 100%|██████████| 8/8 [00:00<00:00, 17.66it/s]\n",
            "100%|██████████| 22/22 [00:01<00:00, 16.32it/s]\n"
          ]
        },
        {
          "output_type": "stream",
          "name": "stdout",
          "text": [
            "388 0.007634464813191898 0.8997124386951327 0.8175182481751825\n"
          ]
        },
        {
          "output_type": "stream",
          "name": "stderr",
          "text": [
            "Iteration: 100%|██████████| 41/41 [00:07<00:00,  5.22it/s]\n",
            "Iteration: 100%|██████████| 8/8 [00:00<00:00, 17.58it/s]\n",
            "100%|██████████| 22/22 [00:01<00:00, 16.24it/s]\n"
          ]
        },
        {
          "output_type": "stream",
          "name": "stdout",
          "text": [
            "389 0.00861348751250927 1.0965362712740898 0.8160583941605839\n"
          ]
        },
        {
          "output_type": "stream",
          "name": "stderr",
          "text": [
            "Iteration: 100%|██████████| 41/41 [00:07<00:00,  5.23it/s]\n",
            "Iteration: 100%|██████████| 8/8 [00:00<00:00, 17.58it/s]\n",
            "100%|██████████| 22/22 [00:01<00:00, 16.33it/s]\n"
          ]
        },
        {
          "output_type": "stream",
          "name": "stdout",
          "text": [
            "390 0.009122330581814778 0.9943752735853195 0.8160583941605839\n"
          ]
        },
        {
          "output_type": "stream",
          "name": "stderr",
          "text": [
            "Iteration: 100%|██████████| 41/41 [00:07<00:00,  5.23it/s]\n",
            "Iteration: 100%|██████████| 8/8 [00:00<00:00, 17.65it/s]\n",
            "100%|██████████| 22/22 [00:01<00:00, 16.29it/s]\n"
          ]
        },
        {
          "output_type": "stream",
          "name": "stdout",
          "text": [
            "391 0.008463577083425551 0.9212330691516399 0.8160583941605839\n"
          ]
        },
        {
          "output_type": "stream",
          "name": "stderr",
          "text": [
            "Iteration: 100%|██████████| 41/41 [00:07<00:00,  5.24it/s]\n",
            "Iteration: 100%|██████████| 8/8 [00:00<00:00, 17.54it/s]\n",
            "100%|██████████| 22/22 [00:01<00:00, 16.29it/s]\n"
          ]
        },
        {
          "output_type": "stream",
          "name": "stdout",
          "text": [
            "392 0.00848326728701955 0.9445560351014137 0.8160583941605839\n"
          ]
        },
        {
          "output_type": "stream",
          "name": "stderr",
          "text": [
            "Iteration: 100%|██████████| 41/41 [00:07<00:00,  5.24it/s]\n",
            "Iteration: 100%|██████████| 8/8 [00:00<00:00, 17.74it/s]\n",
            "100%|██████████| 22/22 [00:01<00:00, 16.25it/s]\n"
          ]
        },
        {
          "output_type": "stream",
          "name": "stdout",
          "text": [
            "393 0.008048849122133106 0.9289673380553722 0.8160583941605839\n"
          ]
        },
        {
          "output_type": "stream",
          "name": "stderr",
          "text": [
            "Iteration: 100%|██████████| 41/41 [00:07<00:00,  5.23it/s]\n",
            "Iteration: 100%|██████████| 8/8 [00:00<00:00, 17.61it/s]\n",
            "100%|██████████| 22/22 [00:01<00:00, 16.27it/s]\n"
          ]
        },
        {
          "output_type": "stream",
          "name": "stdout",
          "text": [
            "394 0.008510926056925843 0.9363794289529324 0.8160583941605839\n"
          ]
        },
        {
          "output_type": "stream",
          "name": "stderr",
          "text": [
            "Iteration: 100%|██████████| 41/41 [00:07<00:00,  5.23it/s]\n",
            "Iteration: 100%|██████████| 8/8 [00:00<00:00, 17.64it/s]\n",
            "100%|██████████| 22/22 [00:01<00:00, 16.31it/s]\n"
          ]
        },
        {
          "output_type": "stream",
          "name": "stdout",
          "text": [
            "395 0.008748629243998992 0.9273140914738178 0.8160583941605839\n"
          ]
        },
        {
          "output_type": "stream",
          "name": "stderr",
          "text": [
            "Iteration: 100%|██████████| 41/41 [00:07<00:00,  5.23it/s]\n",
            "Iteration: 100%|██████████| 8/8 [00:00<00:00, 17.56it/s]\n",
            "100%|██████████| 22/22 [00:01<00:00, 16.33it/s]\n"
          ]
        },
        {
          "output_type": "stream",
          "name": "stdout",
          "text": [
            "396 0.007829026057861926 0.9495249465107918 0.8160583941605839\n"
          ]
        },
        {
          "output_type": "stream",
          "name": "stderr",
          "text": [
            "Iteration: 100%|██████████| 41/41 [00:07<00:00,  5.21it/s]\n",
            "Iteration: 100%|██████████| 8/8 [00:00<00:00, 17.40it/s]\n",
            "100%|██████████| 22/22 [00:01<00:00, 16.22it/s]\n"
          ]
        },
        {
          "output_type": "stream",
          "name": "stdout",
          "text": [
            "397 0.008030118795520649 1.0281527563929558 0.8160583941605839\n"
          ]
        },
        {
          "output_type": "stream",
          "name": "stderr",
          "text": [
            "Iteration: 100%|██████████| 41/41 [00:07<00:00,  5.23it/s]\n",
            "Iteration: 100%|██████████| 8/8 [00:00<00:00, 17.68it/s]\n",
            "100%|██████████| 22/22 [00:01<00:00, 16.25it/s]\n"
          ]
        },
        {
          "output_type": "stream",
          "name": "stdout",
          "text": [
            "398 0.008015165196322813 0.9113777335733175 0.8160583941605839\n"
          ]
        },
        {
          "output_type": "stream",
          "name": "stderr",
          "text": [
            "Iteration: 100%|██████████| 41/41 [00:07<00:00,  5.23it/s]\n",
            "Iteration: 100%|██████████| 8/8 [00:00<00:00, 17.66it/s]\n",
            "100%|██████████| 22/22 [00:01<00:00, 16.32it/s]"
          ]
        },
        {
          "output_type": "stream",
          "name": "stdout",
          "text": [
            "399 0.007898310586247912 0.9836140647530556 0.8160583941605839\n"
          ]
        },
        {
          "output_type": "stream",
          "name": "stderr",
          "text": [
            "\n"
          ]
        }
      ],
      "source": [
        "train_losses = []\n",
        "dev_losses = []\n",
        "test_maes = []\n",
        "test_corrs = []\n",
        "test_accs = []\n",
        "test_accs_non = []\n",
        "test_f_scores = []\n",
        "test_f_scores_non = []\n",
        "\n",
        "num_train_optimization_steps,train_dataloader = prep_train_dataloader()\n",
        "dev_dataloader = prep_dev_dataloader()\n",
        "test_dataloader = prep_test_dataloader()\n",
        "model, optimizer, scheduler = prep_for_training(num_train_optimization_steps)\n",
        "for epoch_i in range(n_epochs):\n",
        "    train_loss = train_epoch(model,train_dataloader,optimizer,scheduler)\n",
        "    dev_loss = dev_epoch(model,dev_dataloader)\n",
        "    test_mae,test_corr,test_acc,test_acc_non,test_f_score,test_f_score_non = test_score(model,test_dataloader)\n",
        "    print(str(epoch_i)+\" \"+str(train_loss)+\" \"+str(dev_loss)+\" \"+str(test_acc))\n",
        "\n",
        "    train_losses.append(train_loss)\n",
        "    dev_losses.append(dev_loss)\n",
        "    test_maes.append(test_mae)\n",
        "    test_corrs.append(test_corr)\n",
        "    test_accs.append(test_acc)\n",
        "    test_accs_non.append(test_acc_non)\n",
        "    test_f_scores.append(test_f_score)\n",
        "    test_f_scores_non.append(test_f_score_non)\n",
        "result = pd.DataFrame({\"train_losses\":train_losses, \"dev_losses\":dev_losses,\n",
        "            \"test_maes\":test_maes, \"test_corrs\":test_corrs,\n",
        "            \"test_accs\":test_accs,\"test_accs_non\":test_accs_non,\n",
        "                        \"test_f_scores\":test_f_scores,\"test_f_scores_non\":test_f_scores_non})\n",
        "with open(\"./result.pkl\", \"wb\") as f:\n",
        "    pkl.dump(result,f)\n",
        "\n"
      ]
    },
    {
      "cell_type": "code",
      "execution_count": null,
      "metadata": {
        "id": "tUGYvNrFS_s3",
        "colab": {
          "base_uri": "https://localhost:8080/",
          "height": 265
        },
        "outputId": "61ce1829-8fbb-4fa5-b5cc-1384f0324bb4"
      },
      "outputs": [
        {
          "output_type": "display_data",
          "data": {
            "image/png": "[encoded data removed]",
            "text/plain": [
              "<Figure size 432x288 with 1 Axes>"
            ]
          },
          "metadata": {
            "needs_background": "light"
          }
        }
      ],
      "source": [
        "with open(\"./result.pkl\", \"rb\") as f:\n",
        "  result = pkl.load(f)\n",
        "#画图\n",
        "df = result.loc[:,[\"train_losses\",\"dev_losses\"]]\n",
        "\n",
        "df.plot()\n",
        "plt.show()"
      ]
    },
    {
      "cell_type": "code",
      "execution_count": null,
      "metadata": {
        "id": "DBbd3spLKVwX",
        "colab": {
          "base_uri": "https://localhost:8080/"
        },
        "outputId": "40fba67f-da1e-4313-b6b6-66704eec5ffd"
      },
      "outputs": [
        {
          "output_type": "stream",
          "name": "stdout",
          "text": [
            "     train_losses  dev_losses  test_maes  test_corrs  test_accs  \\\n",
            "0        2.604475    3.322559   1.445997    0.063093   0.529927   \n",
            "1        2.451070    2.757319   1.458334    0.104218   0.547445   \n",
            "2        2.340258    2.717255   1.457540    0.177147   0.560584   \n",
            "3        2.159589    2.855980   1.426880    0.268915   0.604380   \n",
            "4        2.099602    2.821632   1.377694    0.337460   0.640876   \n",
            "5        1.953586    2.353086   1.326939    0.383336   0.661314   \n",
            "6        1.804030    2.206401   1.278168    0.426317   0.683212   \n",
            "7        1.706515    1.946442   1.218201    0.480129   0.696350   \n",
            "8        1.357860    1.860076   1.117955    0.547816   0.745985   \n",
            "9        1.155092    1.578946   1.029191    0.630905   0.783942   \n",
            "10       0.965999    1.416269   0.977773    0.681684   0.789781   \n",
            "11       0.814803    1.299833   0.918530    0.708833   0.798540   \n",
            "12       0.683191    1.361075   0.879591    0.722197   0.805839   \n",
            "13       0.624013    1.238963   0.888855    0.728813   0.802920   \n",
            "14       0.648881    1.245851   0.876400    0.732345   0.807299   \n",
            "15       0.508248    1.294071   0.894871    0.739934   0.805839   \n",
            "16       0.431993    1.461683   0.861275    0.741154   0.807299   \n",
            "17       0.403880    1.296626   0.871968    0.745139   0.805839   \n",
            "18       0.329124    1.434586   0.847018    0.745883   0.805839   \n",
            "19       0.303401    1.271773   0.876247    0.743759   0.802920   \n",
            "20       0.287463    1.285207   0.844579    0.748574   0.807299   \n",
            "21       0.249473    1.248871   0.845793    0.751246   0.804380   \n",
            "22       0.234825    1.383724   0.843132    0.753119   0.814599   \n",
            "23       0.230809    1.539207   0.849192    0.754242   0.807299   \n",
            "24       0.176280    1.204586   0.829519    0.757770   0.810219   \n",
            "25       0.174332    1.188002   0.831330    0.754166   0.807299   \n",
            "26       0.189519    1.182765   0.832399    0.758073   0.811679   \n",
            "27       0.167656    1.308886   0.825333    0.759206   0.814599   \n",
            "28       0.158446    1.258179   0.821848    0.760641   0.817518   \n",
            "29       0.153328    1.162406   0.830283    0.759247   0.810219   \n",
            "30       0.138246    1.280308   0.826872    0.760487   0.808759   \n",
            "31       0.131471    1.097106   0.818503    0.763148   0.813139   \n",
            "32       0.129327    1.210025   0.825752    0.769901   0.808759   \n",
            "33       0.114462    1.511746   0.802684    0.770344   0.814599   \n",
            "34       0.112821    1.180433   0.835939    0.765123   0.802920   \n",
            "35       0.125198    1.157678   0.797204    0.769859   0.818978   \n",
            "36       0.105660    1.239192   0.806464    0.768181   0.814599   \n",
            "37       0.098698    1.119417   0.808211    0.768132   0.816058   \n",
            "38       0.098847    1.399202   0.823167    0.770398   0.808759   \n",
            "39       0.096809    1.102143   0.792426    0.771848   0.820438   \n",
            "40       0.097945    1.293800   0.813002    0.776055   0.808759   \n",
            "41       0.091750    1.158678   0.802512    0.774214   0.816058   \n",
            "42       0.089967    1.097959   0.806985    0.779623   0.814599   \n",
            "43       0.086174    1.059315   0.781116    0.777658   0.827737   \n",
            "44       0.087604    1.077888   0.789866    0.776344   0.823358   \n",
            "45       0.091131    1.046777   0.791472    0.777733   0.811679   \n",
            "46       0.085986    1.127850   0.786010    0.777969   0.814599   \n",
            "47       0.082675    1.057056   0.796529    0.774745   0.816058   \n",
            "48       0.077426    1.123763   0.784560    0.778164   0.821898   \n",
            "49       0.078679    1.071395   0.777294    0.778488   0.823358   \n",
            "50       0.077030    1.121752   0.793240    0.778788   0.820438   \n",
            "51       0.080576    1.080956   0.791799    0.779094   0.824818   \n",
            "52       0.071806    1.038229   0.792512    0.776684   0.823358   \n",
            "53       0.077908    1.115494   0.791285    0.778315   0.818978   \n",
            "54       0.077684    1.123989   0.785570    0.778957   0.829197   \n",
            "55       0.065062    1.141334   0.791344    0.778435   0.818978   \n",
            "56       0.069798    1.092168   0.800256    0.780964   0.824818   \n",
            "57       0.065870    1.146027   0.787057    0.784881   0.817518   \n",
            "58       0.061717    1.306283   0.789664    0.780704   0.824818   \n",
            "59       0.059428    1.198095   0.798597    0.778263   0.820438   \n",
            "60       0.060978    1.172151   0.793354    0.779988   0.816058   \n",
            "61       0.054226    1.212407   0.774280    0.781498   0.826277   \n",
            "62       0.054434    1.265666   0.788954    0.778416   0.821898   \n",
            "63       0.056183    1.125479   0.781931    0.782975   0.818978   \n",
            "64       0.064292    1.139369   0.794044    0.779939   0.823358   \n",
            "65       0.059823    1.164980   0.785359    0.784100   0.824818   \n",
            "66       0.060865    1.069278   0.778169    0.784281   0.826277   \n",
            "67       0.057022    1.077691   0.771714    0.786983   0.829197   \n",
            "68       0.047858    1.061270   0.787011    0.786417   0.821898   \n",
            "69       0.051965    1.027768   0.777985    0.787909   0.811679   \n",
            "70       0.053927    1.192533   0.783729    0.785551   0.817518   \n",
            "71       0.047159    1.100129   0.767757    0.787016   0.824818   \n",
            "72       0.055210    1.081356   0.774535    0.786275   0.820438   \n",
            "73       0.047961    1.022647   0.788110    0.785950   0.817518   \n",
            "74       0.047168    1.116009   0.777757    0.786619   0.823358   \n",
            "75       0.048399    1.049112   0.783610    0.786120   0.818978   \n",
            "76       0.045726    1.046919   0.779586    0.784129   0.821898   \n",
            "77       0.043179    1.026800   0.789747    0.784487   0.824818   \n",
            "78       0.045053    1.105101   0.776757    0.783339   0.829197   \n",
            "79       0.053637    1.025773   0.780865    0.782015   0.829197   \n",
            "80       0.048064    1.068662   0.772100    0.784753   0.827737   \n",
            "81       0.054223    1.185389   0.767630    0.785582   0.827737   \n",
            "82       0.065650    1.172658   0.780272    0.786839   0.821898   \n",
            "83       0.045711    1.039549   0.774356    0.787141   0.820438   \n",
            "84       0.043748    1.024022   0.784420    0.786396   0.814599   \n",
            "85       0.041144    1.000593   0.771992    0.788183   0.827737   \n",
            "86       0.041255    1.035407   0.781198    0.785772   0.816058   \n",
            "87       0.053400    1.102280   0.771560    0.784907   0.821898   \n",
            "88       0.041999    1.096816   0.781013    0.784253   0.821898   \n",
            "89       0.042311    0.996764   0.769759    0.787218   0.820438   \n",
            "90       0.039639    0.977216   0.775231    0.787925   0.821898   \n",
            "91       0.041176    1.108348   0.766986    0.788207   0.826277   \n",
            "92       0.043123    0.992148   0.762972    0.789591   0.823358   \n",
            "93       0.039759    1.006060   0.761637    0.790012   0.826277   \n",
            "94       0.041567    1.033070   0.784001    0.789280   0.817518   \n",
            "95       0.043151    1.035369   0.764923    0.789939   0.824818   \n",
            "96       0.038447    0.997114   0.770816    0.792229   0.823358   \n",
            "97       0.037727    0.977189   0.783691    0.789643   0.816058   \n",
            "98       0.041597    1.027370   0.791995    0.789750   0.814599   \n",
            "99       0.050973    0.979657   0.756440    0.792624   0.826277   \n",
            "100      0.053476    1.042311   0.765788    0.786403   0.821898   \n",
            "101      0.042350    1.097707   0.780762    0.784445   0.818978   \n",
            "102      0.042060    0.963393   0.768972    0.787435   0.823358   \n",
            "103      0.039862    1.139639   0.777794    0.786165   0.817518   \n",
            "104      0.037116    1.000519   0.774980    0.785401   0.826277   \n",
            "105      0.037331    1.017138   0.760234    0.789473   0.830657   \n",
            "106      0.035946    1.061322   0.782055    0.786820   0.826277   \n",
            "107      0.034281    1.021051   0.780307    0.786526   0.823358   \n",
            "108      0.034879    1.035405   0.784210    0.788506   0.821898   \n",
            "109      0.036637    1.003483   0.763638    0.790162   0.824818   \n",
            "110      0.035322    1.270550   0.778777    0.787969   0.820438   \n",
            "111      0.031110    1.052293   0.759642    0.789922   0.823358   \n",
            "112      0.034576    1.233950   0.764555    0.790342   0.827737   \n",
            "113      0.034325    1.022027   0.765536    0.788254   0.829197   \n",
            "114      0.034907    1.031916   0.764806    0.790737   0.820438   \n",
            "115      0.031866    1.036936   0.769703    0.791331   0.824818   \n",
            "116      0.031790    1.014624   0.769816    0.791653   0.823358   \n",
            "117      0.031841    1.138009   0.750953    0.792339   0.827737   \n",
            "118      0.028859    1.062644   0.768965    0.791136   0.821898   \n",
            "119      0.026575    1.058620   0.760038    0.790616   0.827737   \n",
            "120      0.029272    0.996489   0.768118    0.791585   0.823358   \n",
            "121      0.029701    0.993830   0.758870    0.789091   0.820438   \n",
            "122      0.029082    0.988304   0.791034    0.788782   0.818978   \n",
            "123      0.033497    1.033395   0.761195    0.789850   0.818978   \n",
            "124      0.030179    1.013800   0.777536    0.787349   0.814599   \n",
            "125      0.026045    1.084348   0.783959    0.788177   0.816058   \n",
            "126      0.028789    0.979608   0.764890    0.789922   0.823358   \n",
            "127      0.027883    0.982725   0.765492    0.789964   0.826277   \n",
            "128      0.028439    1.008172   0.767123    0.789805   0.823358   \n",
            "129      0.026123    1.006273   0.768257    0.789957   0.821898   \n",
            "130      0.024971    1.135858   0.769943    0.790094   0.821898   \n",
            "131      0.025485    1.238970   0.767269    0.789577   0.821898   \n",
            "132      0.027231    1.132509   0.755737    0.792054   0.827737   \n",
            "133      0.028042    1.065180   0.766727    0.791973   0.821898   \n",
            "134      0.028750    0.999566   0.769710    0.790216   0.826277   \n",
            "135      0.028806    1.066262   0.765230    0.790169   0.820438   \n",
            "136      0.026571    0.981354   0.768077    0.789741   0.821898   \n",
            "137      0.026409    1.160703   0.766319    0.789946   0.821898   \n",
            "138      0.027829    1.098942   0.786583    0.789649   0.818978   \n",
            "139      0.024538    1.038682   0.774238    0.788685   0.823358   \n",
            "140      0.026049    0.988116   0.765319    0.791579   0.826277   \n",
            "141      0.024110    0.996703   0.784994    0.788565   0.817518   \n",
            "142      0.030875    1.006714   0.767430    0.791153   0.818978   \n",
            "143      0.024955    0.985634   0.772560    0.790582   0.824818   \n",
            "144      0.025780    1.032041   0.778466    0.788982   0.818978   \n",
            "145      0.025869    0.974513   0.773756    0.791183   0.823358   \n",
            "146      0.024499    1.004161   0.785190    0.787598   0.820438   \n",
            "147      0.022970    1.186552   0.774953    0.789245   0.817518   \n",
            "148      0.022124    1.040803   0.772226    0.790294   0.814599   \n",
            "149      0.021851    1.103731   0.777868    0.789775   0.821898   \n",
            "150      0.022802    1.003005   0.775007    0.787285   0.820438   \n",
            "151      0.022894    0.933857   0.761785    0.790011   0.823358   \n",
            "152      0.023386    0.951263   0.779269    0.788479   0.816058   \n",
            "153      0.024100    0.981033   0.770200    0.789825   0.816058   \n",
            "154      0.021935    1.138194   0.768902    0.790184   0.823358   \n",
            "155      0.021815    0.959934   0.761809    0.790448   0.821898   \n",
            "156      0.024991    1.018475   0.767658    0.789800   0.821898   \n",
            "157      0.020688    1.176168   0.776249    0.789227   0.818978   \n",
            "158      0.021150    1.126083   0.762512    0.789844   0.821898   \n",
            "159      0.020929    0.952847   0.776715    0.791026   0.818978   \n",
            "160      0.020567    1.516630   0.763509    0.791886   0.824818   \n",
            "161      0.022807    0.991252   0.776969    0.790043   0.820438   \n",
            "162      0.026486    1.092491   0.778604    0.788690   0.821898   \n",
            "163      0.023464    1.088306   0.770889    0.791350   0.817518   \n",
            "164      0.023704    0.992066   0.760617    0.790725   0.824818   \n",
            "165      0.023905    0.993453   0.762095    0.788790   0.823358   \n",
            "166      0.023462    0.946396   0.774400    0.788042   0.817518   \n",
            "167      0.020203    0.994898   0.774819    0.788481   0.816058   \n",
            "168      0.022038    0.941590   0.778070    0.788103   0.818978   \n",
            "169      0.021271    1.121319   0.763948    0.788411   0.824818   \n",
            "170      0.018681    0.957046   0.769285    0.789344   0.818978   \n",
            "171      0.019543    0.946708   0.765383    0.789452   0.823358   \n",
            "172      0.020857    0.975683   0.764548    0.790271   0.820438   \n",
            "173      0.019510    1.186621   0.772611    0.788872   0.813139   \n",
            "174      0.019627    0.984777   0.774316    0.789914   0.821898   \n",
            "175      0.019183    0.955749   0.767764    0.789929   0.826277   \n",
            "176      0.018654    0.938359   0.762960    0.788633   0.818978   \n",
            "177      0.019265    1.131820   0.761103    0.789546   0.826277   \n",
            "178      0.018822    1.337862   0.773889    0.789266   0.823358   \n",
            "179      0.019555    1.097329   0.775613    0.789050   0.820438   \n",
            "180      0.019659    0.978008   0.781993    0.788652   0.820438   \n",
            "181      0.021364    1.045109   0.775234    0.788701   0.816058   \n",
            "182      0.017955    1.059899   0.774088    0.788849   0.821898   \n",
            "183      0.017262    0.979089   0.759779    0.791777   0.821898   \n",
            "184      0.016619    0.937951   0.764644    0.791181   0.821898   \n",
            "185      0.016966    0.991396   0.775629    0.788954   0.818978   \n",
            "186      0.017929    1.049794   0.776160    0.790227   0.816058   \n",
            "187      0.017254    1.155370   0.772627    0.790304   0.818978   \n",
            "188      0.018129    1.054852   0.765741    0.790178   0.823358   \n",
            "189      0.017383    1.172806   0.758462    0.790631   0.824818   \n",
            "190      0.016748    0.952212   0.771524    0.791317   0.817518   \n",
            "191      0.016710    1.026366   0.765123    0.792044   0.816058   \n",
            "192      0.017455    1.142344   0.769921    0.789153   0.818978   \n",
            "193      0.017418    1.046942   0.756680    0.792175   0.826277   \n",
            "194      0.020516    0.969480   0.766838    0.789698   0.826277   \n",
            "195      0.017237    1.043059   0.764944    0.789523   0.829197   \n",
            "196      0.020812    0.970200   0.771954    0.788847   0.821898   \n",
            "197      0.017296    0.995883   0.770411    0.789379   0.821898   \n",
            "198      0.018786    1.074835   0.758353    0.790228   0.824818   \n",
            "199      0.018557    1.500377   0.760531    0.789737   0.826277   \n",
            "200      0.020526    1.041383   0.766952    0.789524   0.826277   \n",
            "201      0.019732    1.100521   0.769606    0.788311   0.817518   \n",
            "202      0.017575    0.969656   0.763586    0.789124   0.814599   \n",
            "203      0.018526    0.938550   0.756632    0.789682   0.824818   \n",
            "204      0.018064    0.942566   0.775995    0.786088   0.817518   \n",
            "205      0.014974    0.948474   0.774994    0.787994   0.820438   \n",
            "206      0.016083    0.952837   0.762670    0.788187   0.820438   \n",
            "207      0.016502    0.938577   0.767515    0.788317   0.820438   \n",
            "208      0.016030    0.963016   0.764277    0.789464   0.818978   \n",
            "209      0.015257    1.002664   0.760599    0.789672   0.818978   \n",
            "210      0.015897    0.958950   0.769273    0.789102   0.820438   \n",
            "211      0.014936    0.952841   0.763313    0.788491   0.816058   \n",
            "212      0.015963    0.936740   0.761537    0.789843   0.817518   \n",
            "213      0.018295    0.937114   0.768784    0.788204   0.821898   \n",
            "214      0.016639    0.962200   0.756510    0.790568   0.826277   \n",
            "215      0.015606    1.072332   0.756541    0.791454   0.823358   \n",
            "216      0.014257    0.943642   0.761914    0.791089   0.816058   \n",
            "217      0.015411    0.912649   0.767744    0.790575   0.818978   \n",
            "218      0.014475    1.273727   0.756050    0.791245   0.817518   \n",
            "219      0.015346    0.940105   0.767439    0.790421   0.818978   \n",
            "220      0.017090    0.946097   0.762570    0.790958   0.817518   \n",
            "221      0.018285    0.949167   0.765265    0.789143   0.816058   \n",
            "222      0.014545    0.944227   0.763247    0.790921   0.823358   \n",
            "223      0.015292    1.045445   0.757764    0.791552   0.824818   \n",
            "224      0.015992    0.983783   0.757836    0.791418   0.824818   \n",
            "225      0.014936    1.047339   0.772660    0.789355   0.818978   \n",
            "226      0.014773    1.076877   0.779110    0.788370   0.818978   \n",
            "227      0.016295    0.909331   0.761701    0.790262   0.817518   \n",
            "228      0.015924    0.924066   0.749861    0.791525   0.827737   \n",
            "229      0.015220    1.007584   0.770218    0.788915   0.816058   \n",
            "230      0.013232    1.174429   0.764026    0.788695   0.816058   \n",
            "231      0.013905    0.930188   0.762194    0.789357   0.824818   \n",
            "232      0.013585    1.007901   0.754408    0.791017   0.821898   \n",
            "233      0.014394    0.964330   0.760280    0.790879   0.821898   \n",
            "234      0.013468    0.968010   0.761260    0.790761   0.818978   \n",
            "235      0.013325    1.187325   0.758274    0.791436   0.826277   \n",
            "236      0.012764    0.954815   0.768859    0.789093   0.821898   \n",
            "237      0.012485    1.005901   0.761614    0.790747   0.818978   \n",
            "238      0.013481    1.071235   0.763470    0.791308   0.820438   \n",
            "239      0.012462    1.054863   0.765550    0.791000   0.820438   \n",
            "240      0.012310    0.927695   0.756069    0.791467   0.820438   \n",
            "241      0.012920    1.136788   0.761446    0.789637   0.821898   \n",
            "242      0.014275    0.965889   0.771962    0.788975   0.817518   \n",
            "243      0.015036    0.947077   0.782736    0.788059   0.816058   \n",
            "244      0.014441    0.965623   0.763679    0.788515   0.826277   \n",
            "245      0.014150    0.994774   0.768402    0.789893   0.818978   \n",
            "246      0.012721    0.936906   0.764271    0.790054   0.826277   \n",
            "247      0.011739    0.929890   0.760233    0.791112   0.826277   \n",
            "248      0.012893    0.964489   0.769970    0.789831   0.826277   \n",
            "249      0.013726    1.063900   0.757102    0.791557   0.829197   \n",
            "250      0.013132    1.117971   0.751493    0.790946   0.821898   \n",
            "251      0.013443    1.006593   0.777588    0.788280   0.818978   \n",
            "252      0.012459    1.134402   0.763496    0.789517   0.823358   \n",
            "253      0.011904    1.119465   0.765532    0.787948   0.823358   \n",
            "254      0.012814    0.925564   0.769680    0.789585   0.821898   \n",
            "255      0.011625    0.915656   0.761634    0.791470   0.823358   \n",
            "256      0.012235    0.953188   0.769011    0.789999   0.821898   \n",
            "257      0.011381    1.145873   0.765621    0.790014   0.820438   \n",
            "258      0.012076    1.087895   0.765353    0.791037   0.823358   \n",
            "259      0.010931    1.017327   0.770426    0.790214   0.823358   \n",
            "260      0.011487    0.966906   0.764777    0.788804   0.821898   \n",
            "261      0.011168    0.947143   0.776685    0.787452   0.816058   \n",
            "262      0.011779    1.088292   0.767846    0.789311   0.817518   \n",
            "263      0.011568    0.925992   0.765940    0.789298   0.817518   \n",
            "264      0.011070    0.996890   0.764611    0.788800   0.816058   \n",
            "265      0.012122    1.041979   0.773551    0.788973   0.816058   \n",
            "266      0.011141    0.945890   0.766996    0.788787   0.823358   \n",
            "267      0.010696    1.002027   0.767127    0.787633   0.818978   \n",
            "268      0.011668    1.172302   0.763836    0.790007   0.817518   \n",
            "269      0.011715    1.158064   0.762829    0.791071   0.820438   \n",
            "270      0.012526    1.035663   0.780272    0.788998   0.817518   \n",
            "271      0.013709    0.997261   0.769630    0.789638   0.824818   \n",
            "272      0.012074    1.233168   0.762101    0.790602   0.824818   \n",
            "273      0.014411    1.224181   0.774126    0.789263   0.813139   \n",
            "274      0.012533    0.919701   0.767996    0.789466   0.821898   \n",
            "275      0.011848    1.048332   0.764169    0.790475   0.821898   \n",
            "276      0.011473    0.944230   0.765651    0.790526   0.824818   \n",
            "277      0.011064    0.936563   0.765490    0.790888   0.826277   \n",
            "278      0.010932    1.038439   0.774960    0.789181   0.818978   \n",
            "279      0.011215    0.922433   0.764555    0.790277   0.823358   \n",
            "280      0.011062    0.919406   0.774307    0.789167   0.817518   \n",
            "281      0.011392    0.908508   0.760583    0.790229   0.823358   \n",
            "282      0.010881    0.933109   0.768567    0.790056   0.820438   \n",
            "283      0.011728    1.141019   0.771987    0.789098   0.813139   \n",
            "284      0.010975    1.427880   0.764056    0.790208   0.818978   \n",
            "285      0.010037    0.991746   0.760693    0.790430   0.818978   \n",
            "286      0.011379    1.133995   0.765101    0.790297   0.817518   \n",
            "287      0.011988    0.938390   0.759560    0.789546   0.817518   \n",
            "288      0.011309    0.967345   0.763552    0.789091   0.818978   \n",
            "289      0.010693    0.944966   0.773004    0.788062   0.814599   \n",
            "290      0.011009    0.923009   0.766119    0.788562   0.817518   \n",
            "291      0.010666    1.205907   0.764684    0.788463   0.821898   \n",
            "292      0.010311    0.957476   0.761405    0.790103   0.823358   \n",
            "293      0.010642    1.006674   0.767216    0.789438   0.817518   \n",
            "294      0.011133    0.919298   0.769270    0.789682   0.816058   \n",
            "295      0.009378    1.048368   0.772034    0.789573   0.816058   \n",
            "296      0.010479    0.912406   0.763554    0.790669   0.829197   \n",
            "297      0.010679    0.918180   0.762273    0.790634   0.826277   \n",
            "298      0.009872    0.958873   0.765229    0.789183   0.817518   \n",
            "299      0.010424    0.937517   0.763803    0.789925   0.821898   \n",
            "300      0.009830    0.932905   0.767509    0.790317   0.823358   \n",
            "301      0.010049    1.035648   0.767195    0.791492   0.817518   \n",
            "302      0.011517    0.912956   0.758956    0.791188   0.823358   \n",
            "303      0.009796    0.975396   0.770015    0.789828   0.820438   \n",
            "304      0.009301    1.005491   0.769250    0.790599   0.817518   \n",
            "305      0.009749    1.016479   0.771980    0.790568   0.814599   \n",
            "306      0.010352    1.098341   0.763123    0.791449   0.821898   \n",
            "307      0.009229    0.911590   0.761647    0.791211   0.821898   \n",
            "308      0.009696    0.915166   0.767020    0.790382   0.820438   \n",
            "309      0.009607    0.979730   0.757787    0.790909   0.823358   \n",
            "310      0.009076    1.125698   0.768249    0.788796   0.817518   \n",
            "311      0.009865    1.177600   0.762564    0.789982   0.824818   \n",
            "312      0.010483    1.034778   0.760382    0.790225   0.823358   \n",
            "313      0.009578    0.962906   0.765146    0.790018   0.817518   \n",
            "314      0.008808    1.051280   0.760558    0.791079   0.824818   \n",
            "315      0.010379    0.971562   0.761721    0.790059   0.821898   \n",
            "316      0.009440    0.961042   0.767804    0.790516   0.820438   \n",
            "317      0.008517    0.937989   0.759256    0.790547   0.821898   \n",
            "318      0.010358    0.921810   0.760049    0.790497   0.821898   \n",
            "319      0.010050    1.102304   0.759366    0.790743   0.821898   \n",
            "320      0.009783    1.007667   0.762917    0.790309   0.817518   \n",
            "321      0.009481    0.931315   0.761493    0.790863   0.817518   \n",
            "322      0.009388    0.975184   0.767599    0.790216   0.816058   \n",
            "323      0.009493    0.947406   0.763352    0.791350   0.821898   \n",
            "324      0.009445    1.127266   0.765894    0.790570   0.818978   \n",
            "325      0.010300    0.906030   0.766913    0.789476   0.816058   \n",
            "326      0.010419    0.966342   0.758425    0.789976   0.816058   \n",
            "327      0.009324    1.552104   0.763168    0.789930   0.818978   \n",
            "328      0.009178    0.992451   0.765509    0.790008   0.818978   \n",
            "329      0.010063    1.029306   0.765918    0.789199   0.814599   \n",
            "330      0.009236    0.899520   0.765797    0.789285   0.814599   \n",
            "331      0.009448    0.914205   0.766379    0.789646   0.816058   \n",
            "332      0.009255    0.980189   0.765772    0.789964   0.816058   \n",
            "333      0.008908    0.978524   0.760684    0.789991   0.817518   \n",
            "334      0.009701    1.123670   0.766356    0.789920   0.816058   \n",
            "335      0.009884    0.974688   0.759407    0.790622   0.817518   \n",
            "336      0.009118    1.026859   0.763939    0.789907   0.816058   \n",
            "337      0.009525    1.077211   0.759910    0.789632   0.823358   \n",
            "338      0.008846    1.216197   0.766646    0.790058   0.821898   \n",
            "339      0.008979    0.962131   0.763590    0.789463   0.820438   \n",
            "340      0.008890    0.936299   0.764933    0.789328   0.817518   \n",
            "341      0.008769    0.906603   0.770430    0.789084   0.813139   \n",
            "342      0.008573    0.917803   0.766980    0.789672   0.817518   \n",
            "343      0.009933    0.917506   0.764653    0.789399   0.817518   \n",
            "344      0.008643    0.985057   0.764468    0.789275   0.816058   \n",
            "345      0.009504    0.933199   0.766657    0.789659   0.814599   \n",
            "346      0.008537    0.966577   0.767065    0.789398   0.816058   \n",
            "347      0.008349    0.912871   0.767064    0.789617   0.816058   \n",
            "348      0.009353    0.918322   0.763345    0.790160   0.818978   \n",
            "349      0.008278    0.957109   0.768426    0.788931   0.816058   \n",
            "350      0.008929    0.963400   0.768346    0.788511   0.813139   \n",
            "351      0.009866    0.921868   0.765386    0.789309   0.814599   \n",
            "352      0.009028    1.090380   0.765018    0.789408   0.816058   \n",
            "353      0.009337    0.961912   0.768084    0.788629   0.814599   \n",
            "354      0.008412    0.923302   0.764936    0.789051   0.816058   \n",
            "355      0.008673    1.017612   0.766433    0.789380   0.816058   \n",
            "356      0.008391    0.934927   0.764196    0.789342   0.816058   \n",
            "357      0.008443    1.102139   0.765428    0.789288   0.816058   \n",
            "358      0.008525    0.903586   0.763859    0.789976   0.814599   \n",
            "359      0.008659    0.910572   0.764455    0.790168   0.814599   \n",
            "360      0.007671    0.922945   0.763754    0.790038   0.814599   \n",
            "361      0.007823    1.088283   0.765156    0.789389   0.814599   \n",
            "362      0.008559    0.947666   0.766413    0.789265   0.814599   \n",
            "363      0.008338    0.907519   0.765461    0.789300   0.814599   \n",
            "364      0.008402    1.031732   0.767595    0.789427   0.814599   \n",
            "365      0.008541    0.997737   0.764865    0.789876   0.814599   \n",
            "366      0.008608    1.041975   0.765653    0.789584   0.813139   \n",
            "367      0.008173    0.911258   0.766614    0.789193   0.814599   \n",
            "368      0.008250    1.026943   0.764807    0.789477   0.813139   \n",
            "369      0.008689    0.958599   0.764968    0.789483   0.814599   \n",
            "370      0.008632    0.961522   0.767779    0.789123   0.814599   \n",
            "371      0.008278    0.955265   0.765081    0.789299   0.814599   \n",
            "372      0.007907    0.988922   0.763747    0.789370   0.814599   \n",
            "373      0.008242    0.927432   0.764924    0.789305   0.814599   \n",
            "374      0.008381    0.938216   0.766912    0.788994   0.814599   \n",
            "375      0.008506    0.946822   0.764777    0.788972   0.814599   \n",
            "376      0.008173    0.911626   0.767805    0.788764   0.816058   \n",
            "377      0.008199    0.921453   0.767048    0.788744   0.816058   \n",
            "378      0.008192    1.002226   0.765259    0.788895   0.816058   \n",
            "379      0.007611    1.117936   0.767553    0.788793   0.816058   \n",
            "380      0.008075    0.908141   0.763646    0.789204   0.816058   \n",
            "381      0.009327    0.916829   0.765689    0.789211   0.816058   \n",
            "382      0.008957    0.964372   0.764979    0.789469   0.816058   \n",
            "383      0.008013    1.148173   0.764795    0.789469   0.816058   \n",
            "384      0.007884    0.916451   0.764926    0.789462   0.816058   \n",
            "385      0.007733    0.922745   0.765971    0.789380   0.814599   \n",
            "386      0.008180    1.145458   0.765586    0.789480   0.816058   \n",
            "387      0.008329    0.985024   0.765660    0.789482   0.816058   \n",
            "388      0.007634    0.899712   0.764853    0.789556   0.817518   \n",
            "389      0.008613    1.096536   0.764999    0.789529   0.816058   \n",
            "390      0.009122    0.994375   0.765007    0.789529   0.816058   \n",
            "391      0.008464    0.921233   0.765007    0.789529   0.816058   \n",
            "392      0.008483    0.944556   0.765007    0.789529   0.816058   \n",
            "393      0.008049    0.928967   0.765007    0.789529   0.816058   \n",
            "394      0.008511    0.936379   0.765007    0.789529   0.816058   \n",
            "395      0.008749    0.927314   0.765007    0.789529   0.816058   \n",
            "396      0.007829    0.949525   0.765007    0.789529   0.816058   \n",
            "397      0.008030    1.028153   0.765007    0.789529   0.816058   \n",
            "398      0.008015    0.911378   0.765007    0.789529   0.816058   \n",
            "399      0.007898    0.983614   0.765007    0.789529   0.816058   \n",
            "\n",
            "     test_accs_non  test_f_scores  test_f_scores_non  \n",
            "0         0.537405       0.334711           0.509062  \n",
            "1         0.541985       0.491803           0.542606  \n",
            "2         0.548092       0.583679           0.546530  \n",
            "3         0.596947       0.631293           0.593694  \n",
            "4         0.638168       0.654494           0.637626  \n",
            "5         0.662595       0.672316           0.662265  \n",
            "6         0.683969       0.693069           0.683818  \n",
            "7         0.697710       0.704545           0.697780  \n",
            "8         0.754198       0.729814           0.755639  \n",
            "9         0.796947       0.761290           0.797754  \n",
            "10        0.804580       0.763934           0.805076  \n",
            "11        0.815267       0.767677           0.815129  \n",
            "12        0.824427       0.770294           0.823579  \n",
            "13        0.819847       0.771574           0.819570  \n",
            "14        0.824427       0.777778           0.824296  \n",
            "15        0.816794       0.783740           0.817323  \n",
            "16        0.822901       0.778523           0.822814  \n",
            "17        0.816794       0.780890           0.817043  \n",
            "18        0.819847       0.772650           0.819150  \n",
            "19        0.813740       0.779051           0.814143  \n",
            "20        0.821374       0.775510           0.820846  \n",
            "21        0.818321       0.773649           0.817992  \n",
            "22        0.827481       0.785835           0.827168  \n",
            "23        0.819847       0.782178           0.820092  \n",
            "24        0.825954       0.778912           0.825491  \n",
            "25        0.821374       0.774744           0.820738  \n",
            "26        0.824427       0.784641           0.824385  \n",
            "27        0.829008       0.781411           0.828125  \n",
            "28        0.832061       0.788494           0.831710  \n",
            "29        0.822901       0.780405           0.822531  \n",
            "30        0.821374       0.778342           0.820950  \n",
            "31        0.827481       0.784512           0.827262  \n",
            "32        0.821374       0.785597           0.821794  \n",
            "33        0.827481       0.785835           0.827168  \n",
            "34        0.815267       0.781906           0.815949  \n",
            "35        0.835115       0.788396           0.834577  \n",
            "36        0.830534       0.783646           0.830033  \n",
            "37        0.833588       0.785714           0.833193  \n",
            "38        0.822901       0.782030           0.822984  \n",
            "39        0.838168       0.789022           0.837541  \n",
            "40        0.822901       0.786992           0.823472  \n",
            "41        0.832061       0.787879           0.831892  \n",
            "42        0.829008       0.792822           0.829502  \n",
            "43        0.847328       0.796552           0.846640  \n",
            "44        0.842748       0.793162           0.842283  \n",
            "45        0.827481       0.783193           0.827352  \n",
            "46        0.833588       0.782906           0.833096  \n",
            "47        0.833588       0.786441           0.833286  \n",
            "48        0.841221       0.788927           0.840402  \n",
            "49        0.842748       0.790295           0.841883  \n",
            "50        0.836641       0.793277           0.836519  \n",
            "51        0.839695       0.801325           0.839878  \n",
            "52        0.844275       0.792453           0.843768  \n",
            "53        0.835115       0.790541           0.834861  \n",
            "54        0.845802       0.799314           0.845156  \n",
            "55        0.835115       0.791246           0.834949  \n",
            "56        0.841221       0.798658           0.841143  \n",
            "57        0.833588       0.792013           0.833704  \n",
            "58        0.839695       0.795918           0.839220  \n",
            "59        0.835115       0.792580           0.834861  \n",
            "60        0.832061       0.790698           0.832216  \n",
            "61        0.848855       0.790123           0.847589  \n",
            "62        0.841221       0.788927           0.840402  \n",
            "63        0.836641       0.790541           0.836434  \n",
            "64        0.839695       0.797320           0.839656  \n",
            "65        0.841221       0.800664           0.841368  \n",
            "66        0.845802       0.792321           0.844738  \n",
            "67        0.845802       0.801358           0.845435  \n",
            "68        0.838168       0.796667           0.838244  \n",
            "69        0.827481       0.788177           0.827887  \n",
            "70        0.833588       0.792703           0.833778  \n",
            "71        0.842748       0.792388           0.841883  \n",
            "72        0.838168       0.790460           0.837737  \n",
            "73        0.833588       0.792013           0.833704  \n",
            "74        0.839695       0.795262           0.839404  \n",
            "75        0.835115       0.793333           0.835192  \n",
            "76        0.839695       0.790378           0.839023  \n",
            "77        0.841221       0.797297           0.840977  \n",
            "78        0.847328       0.799314           0.846737  \n",
            "79        0.848855       0.796522           0.847920  \n",
            "80        0.844275       0.797251           0.843573  \n",
            "81        0.845802       0.794425           0.844738  \n",
            "82        0.838168       0.795987           0.838168  \n",
            "83        0.839695       0.791878           0.839491  \n",
            "84        0.833588       0.787980           0.833704  \n",
            "85        0.847328       0.800000           0.847094  \n",
            "86        0.833588       0.790000           0.833704  \n",
            "87        0.839695       0.789655           0.838920  \n",
            "88        0.841221       0.793220           0.840977  \n",
            "89        0.836641       0.793277           0.836519  \n",
            "90        0.839695       0.794613           0.839575  \n",
            "91        0.842748       0.800670           0.842710  \n",
            "92        0.841221       0.793162           0.840704  \n",
            "93        0.841221       0.797963           0.840798  \n",
            "94        0.832061       0.796748           0.832603  \n",
            "95        0.839695       0.797980           0.839491  \n",
            "96        0.838168       0.798669           0.838244  \n",
            "97        0.830534       0.792763           0.830868  \n",
            "98        0.829008       0.792822           0.829502  \n",
            "99        0.845802       0.797963           0.845522  \n",
            "100       0.836641       0.795987           0.836601  \n",
            "101       0.833588       0.790541           0.833286  \n",
            "102       0.839695       0.795262           0.839404  \n",
            "103       0.833588       0.792703           0.833778  \n",
            "104       0.842748       0.800670           0.842710  \n",
            "105       0.847328       0.804714           0.847175  \n",
            "106       0.842748       0.804598           0.843118  \n",
            "107       0.839695       0.800000           0.839946  \n",
            "108       0.838168       0.796667           0.838244  \n",
            "109       0.842748       0.795222           0.842283  \n",
            "110       0.835115       0.800000           0.835646  \n",
            "111       0.841221       0.794567           0.840889  \n",
            "112       0.845802       0.802013           0.845764  \n",
            "113       0.848855       0.799314           0.848317  \n",
            "114       0.838168       0.796020           0.838388  \n",
            "115       0.841221       0.799331           0.841221  \n",
            "116       0.839695       0.797320           0.839656  \n",
            "117       0.845802       0.797251           0.845156  \n",
            "118       0.839695       0.792517           0.839314  \n",
            "119       0.845802       0.800000           0.845522  \n",
            "120       0.841221       0.797997           0.841296  \n",
            "121       0.838168       0.790460           0.837737  \n",
            "122       0.836641       0.795380           0.836963  \n",
            "123       0.836641       0.791246           0.836519  \n",
            "124       0.832061       0.790083           0.832358  \n",
            "125       0.833588       0.792763           0.833979  \n",
            "126       0.841221       0.796639           0.841143  \n",
            "127       0.844275       0.801336           0.844348  \n",
            "128       0.841221       0.796639           0.841143  \n",
            "129       0.839695       0.793919           0.839491  \n",
            "130       0.839695       0.794613           0.839575  \n",
            "131       0.839695       0.794613           0.839575  \n",
            "132       0.845802       0.799320           0.845435  \n",
            "133       0.838168       0.795987           0.838168  \n",
            "134       0.842748       0.800670           0.842710  \n",
            "135       0.838168       0.793277           0.838088  \n",
            "136       0.839695       0.795302           0.839656  \n",
            "137       0.839695       0.795302           0.839656  \n",
            "138       0.836641       0.794020           0.836828  \n",
            "139       0.841221       0.799337           0.841437  \n",
            "140       0.844275       0.800000           0.844198  \n",
            "141       0.835115       0.793388           0.835406  \n",
            "142       0.835115       0.792642           0.835115  \n",
            "143       0.842748       0.799331           0.842786  \n",
            "144       0.835115       0.795380           0.835406  \n",
            "145       0.841221       0.797320           0.841221  \n",
            "146       0.838168       0.794658           0.838244  \n",
            "147       0.835115       0.791319           0.835192  \n",
            "148       0.832061       0.788686           0.832216  \n",
            "149       0.839695       0.796667           0.839807  \n",
            "150       0.838168       0.795341           0.838318  \n",
            "151       0.841221       0.795262           0.840977  \n",
            "152       0.833588       0.792079           0.833915  \n",
            "153       0.833588       0.790000           0.833704  \n",
            "154       0.841221       0.797997           0.841296  \n",
            "155       0.839695       0.795302           0.839656  \n",
            "156       0.841221       0.793919           0.841062  \n",
            "157       0.836641       0.794702           0.836897  \n",
            "158       0.839695       0.795987           0.839733  \n",
            "159       0.836641       0.795380           0.836963  \n",
            "160       0.842748       0.797297           0.842549  \n",
            "161       0.838168       0.797364           0.838518  \n",
            "162       0.839695       0.794613           0.839575  \n",
            "163       0.835115       0.792013           0.835267  \n",
            "164       0.842748       0.796610           0.842463  \n",
            "165       0.842748       0.794567           0.842463  \n",
            "166       0.833588       0.793388           0.833848  \n",
            "167       0.833588       0.791391           0.833848  \n",
            "168       0.836641       0.793333           0.836756  \n",
            "169       0.842748       0.797297           0.842549  \n",
            "170       0.836641       0.792642           0.836680  \n",
            "171       0.841221       0.795262           0.840977  \n",
            "172       0.836641       0.796694           0.836897  \n",
            "173       0.830534       0.788779           0.830868  \n",
            "174       0.839695       0.795987           0.839733  \n",
            "175       0.844275       0.797963           0.843949  \n",
            "176       0.836641       0.793333           0.836756  \n",
            "177       0.845802       0.797963           0.845522  \n",
            "178       0.841221       0.797320           0.841221  \n",
            "179       0.838168       0.795341           0.838318  \n",
            "180       0.838168       0.795341           0.838318  \n",
            "181       0.833588       0.792079           0.833915  \n",
            "182       0.839695       0.796667           0.839807  \n",
            "183       0.839695       0.794613           0.839575  \n",
            "184       0.839695       0.794613           0.839575  \n",
            "185       0.836641       0.794020           0.836828  \n",
            "186       0.833588       0.792079           0.833915  \n",
            "187       0.836641       0.793333           0.836756  \n",
            "188       0.841221       0.797997           0.841296  \n",
            "189       0.842748       0.798658           0.842710  \n",
            "190       0.835115       0.792013           0.835267  \n",
            "191       0.833588       0.789298           0.833628  \n",
            "192       0.836641       0.793333           0.836756  \n",
            "193       0.844275       0.797963           0.843949  \n",
            "194       0.844275       0.797963           0.843949  \n",
            "195       0.847328       0.800000           0.846831  \n",
            "196       0.839695       0.795302           0.839656  \n",
            "197       0.839695       0.797342           0.839878  \n",
            "198       0.842748       0.798658           0.842710  \n",
            "199       0.844275       0.798646           0.844035  \n",
            "200       0.844275       0.800000           0.844198  \n",
            "201       0.835115       0.793388           0.835406  \n",
            "202       0.833588       0.787980           0.833704  \n",
            "203       0.844275       0.795918           0.843949  \n",
            "204       0.833588       0.794745           0.833979  \n",
            "205       0.838168       0.796020           0.838388  \n",
            "206       0.838168       0.792580           0.838005  \n",
            "207       0.838168       0.793970           0.838168  \n",
            "208       0.836641       0.792642           0.836680  \n",
            "209       0.836641       0.791246           0.836519  \n",
            "210       0.838168       0.793277           0.838088  \n",
            "211       0.833588       0.790698           0.833778  \n",
            "212       0.835115       0.791319           0.835192  \n",
            "213       0.839695       0.796667           0.839807  \n",
            "214       0.844275       0.800000           0.844198  \n",
            "215       0.841221       0.795953           0.841062  \n",
            "216       0.833588       0.790000           0.833704  \n",
            "217       0.836641       0.793333           0.836756  \n",
            "218       0.835115       0.791319           0.835192  \n",
            "219       0.836641       0.794702           0.836897  \n",
            "220       0.835115       0.790620           0.835115  \n",
            "221       0.833588       0.790698           0.833778  \n",
            "222       0.841221       0.797320           0.841221  \n",
            "223       0.842748       0.796610           0.842463  \n",
            "224       0.842748       0.799331           0.842786  \n",
            "225       0.836641       0.794702           0.836897  \n",
            "226       0.835115       0.796053           0.835471  \n",
            "227       0.835115       0.792703           0.835338  \n",
            "228       0.845802       0.795848           0.844954  \n",
            "229       0.833588       0.792079           0.833915  \n",
            "230       0.833588       0.790698           0.833778  \n",
            "231       0.842748       0.797980           0.842631  \n",
            "232       0.838168       0.796667           0.838244  \n",
            "233       0.838168       0.797342           0.838318  \n",
            "234       0.835115       0.794702           0.835338  \n",
            "235       0.841221       0.801997           0.841296  \n",
            "236       0.838168       0.797342           0.838318  \n",
            "237       0.836641       0.793333           0.836756  \n",
            "238       0.836641       0.796020           0.836828  \n",
            "239       0.836641       0.796020           0.836828  \n",
            "240       0.838168       0.794658           0.838244  \n",
            "241       0.839695       0.796667           0.839807  \n",
            "242       0.833588       0.794069           0.833915  \n",
            "243       0.830534       0.794788           0.831053  \n",
            "244       0.844275       0.799325           0.844118  \n",
            "245       0.835115       0.793333           0.835192  \n",
            "246       0.842748       0.801997           0.842858  \n",
            "247       0.844275       0.800000           0.844198  \n",
            "248       0.842748       0.801997           0.842858  \n",
            "249       0.847328       0.801358           0.847009  \n",
            "250       0.839695       0.795302           0.839656  \n",
            "251       0.836641       0.795380           0.836963  \n",
            "252       0.841221       0.798669           0.841368  \n",
            "253       0.841221       0.798669           0.841368  \n",
            "254       0.839695       0.798013           0.839946  \n",
            "255       0.841221       0.799337           0.841437  \n",
            "256       0.839695       0.798013           0.839946  \n",
            "257       0.838168       0.796020           0.838388  \n",
            "258       0.839695       0.800659           0.840010  \n",
            "259       0.838168       0.800659           0.838454  \n",
            "260       0.838168       0.798013           0.838388  \n",
            "261       0.832061       0.792763           0.832424  \n",
            "262       0.835115       0.794069           0.835471  \n",
            "263       0.836641       0.790620           0.836680  \n",
            "264       0.835115       0.790000           0.835267  \n",
            "265       0.832061       0.792763           0.832424  \n",
            "266       0.841221       0.797320           0.841221  \n",
            "267       0.835115       0.796053           0.835471  \n",
            "268       0.835115       0.793388           0.835406  \n",
            "269       0.838168       0.795341           0.838318  \n",
            "270       0.833588       0.794745           0.833979  \n",
            "271       0.844275       0.797980           0.844198  \n",
            "272       0.844275       0.797297           0.844118  \n",
            "273       0.827481       0.790850           0.827949  \n",
            "274       0.841221       0.795987           0.841296  \n",
            "275       0.838168       0.797342           0.838318  \n",
            "276       0.844275       0.798658           0.844275  \n",
            "277       0.845802       0.799325           0.845686  \n",
            "278       0.833588       0.796053           0.833915  \n",
            "279       0.842748       0.795953           0.842631  \n",
            "280       0.833588       0.794069           0.833915  \n",
            "281       0.842748       0.795953           0.842631  \n",
            "282       0.838168       0.794658           0.838244  \n",
            "283       0.829008       0.789474           0.829377  \n",
            "284       0.836641       0.794020           0.836828  \n",
            "285       0.836641       0.793333           0.836756  \n",
            "286       0.835115       0.792703           0.835338  \n",
            "287       0.833588       0.793388           0.833848  \n",
            "288       0.836641       0.794020           0.836828  \n",
            "289       0.832061       0.790083           0.832358  \n",
            "290       0.835115       0.792013           0.835267  \n",
            "291       0.839695       0.795302           0.839656  \n",
            "292       0.841221       0.796639           0.841143  \n",
            "293       0.835115       0.792013           0.835267  \n",
            "294       0.832061       0.792763           0.832424  \n",
            "295       0.832061       0.792763           0.832424  \n",
            "296       0.847328       0.803361           0.847253  \n",
            "297       0.844275       0.800000           0.844198  \n",
            "298       0.836641       0.792013           0.836828  \n",
            "299       0.841221       0.795302           0.841221  \n",
            "300       0.841221       0.797997           0.841296  \n",
            "301       0.835115       0.792703           0.835338  \n",
            "302       0.842748       0.795953           0.842631  \n",
            "303       0.835115       0.797364           0.835406  \n",
            "304       0.832061       0.795417           0.832487  \n",
            "305       0.830534       0.791461           0.830933  \n",
            "306       0.839695       0.797342           0.839878  \n",
            "307       0.839695       0.795302           0.839656  \n",
            "308       0.836641       0.795341           0.836756  \n",
            "309       0.841221       0.797997           0.841296  \n",
            "310       0.833588       0.793388           0.833848  \n",
            "311       0.841221       0.800000           0.841296  \n",
            "312       0.841221       0.797997           0.841296  \n",
            "313       0.835115       0.792703           0.835338  \n",
            "314       0.844275       0.797297           0.844118  \n",
            "315       0.841221       0.794613           0.841143  \n",
            "316       0.836641       0.796020           0.836828  \n",
            "317       0.841221       0.794613           0.841143  \n",
            "318       0.841221       0.794613           0.841143  \n",
            "319       0.839695       0.795302           0.839656  \n",
            "320       0.835115       0.791319           0.835192  \n",
            "321       0.836641       0.791319           0.836756  \n",
            "322       0.832061       0.792763           0.832424  \n",
            "323       0.839695       0.796667           0.839807  \n",
            "324       0.835115       0.796053           0.835471  \n",
            "325       0.832061       0.792079           0.832358  \n",
            "326       0.833588       0.790000           0.833704  \n",
            "327       0.836641       0.792642           0.836680  \n",
            "328       0.835115       0.794702           0.835338  \n",
            "329       0.830534       0.790083           0.830800  \n",
            "330       0.832061       0.790774           0.832424  \n",
            "331       0.833588       0.791391           0.833848  \n",
            "332       0.833588       0.790698           0.833778  \n",
            "333       0.835115       0.792013           0.835267  \n",
            "334       0.833588       0.790000           0.833704  \n",
            "335       0.835115       0.791319           0.835192  \n",
            "336       0.833588       0.790698           0.833778  \n",
            "337       0.841221       0.797320           0.841221  \n",
            "338       0.838168       0.797342           0.838318  \n",
            "339       0.836641       0.796020           0.836828  \n",
            "340       0.833588       0.793388           0.833848  \n",
            "341       0.829008       0.789474           0.829377  \n",
            "342       0.833588       0.793388           0.833848  \n",
            "343       0.833588       0.792703           0.833778  \n",
            "344       0.832061       0.792079           0.832358  \n",
            "345       0.830534       0.790774           0.830868  \n",
            "346       0.832061       0.792079           0.832358  \n",
            "347       0.832061       0.792079           0.832358  \n",
            "348       0.835115       0.794702           0.835338  \n",
            "349       0.832061       0.792079           0.832358  \n",
            "350       0.829008       0.790164           0.829441  \n",
            "351       0.830534       0.789386           0.830728  \n",
            "352       0.832061       0.792079           0.832358  \n",
            "353       0.830534       0.790083           0.830800  \n",
            "354       0.832061       0.791391           0.832289  \n",
            "355       0.832061       0.792079           0.832358  \n",
            "356       0.832061       0.792079           0.832358  \n",
            "357       0.832061       0.792079           0.832358  \n",
            "358       0.830534       0.790083           0.830800  \n",
            "359       0.830534       0.790083           0.830800  \n",
            "360       0.830534       0.789386           0.830728  \n",
            "361       0.830534       0.789386           0.830728  \n",
            "362       0.830534       0.789386           0.830728  \n",
            "363       0.830534       0.789386           0.830728  \n",
            "364       0.830534       0.790083           0.830800  \n",
            "365       0.830534       0.789386           0.830728  \n",
            "366       0.829008       0.788079           0.829240  \n",
            "367       0.830534       0.790083           0.830800  \n",
            "368       0.829008       0.788079           0.829240  \n",
            "369       0.830534       0.789386           0.830728  \n",
            "370       0.830534       0.790083           0.830800  \n",
            "371       0.830534       0.790083           0.830800  \n",
            "372       0.830534       0.789386           0.830728  \n",
            "373       0.830534       0.790083           0.830800  \n",
            "374       0.830534       0.790083           0.830800  \n",
            "375       0.830534       0.790083           0.830800  \n",
            "376       0.832061       0.792079           0.832358  \n",
            "377       0.832061       0.792079           0.832358  \n",
            "378       0.832061       0.791391           0.832289  \n",
            "379       0.832061       0.792079           0.832358  \n",
            "380       0.832061       0.791391           0.832289  \n",
            "381       0.832061       0.791391           0.832289  \n",
            "382       0.832061       0.791391           0.832289  \n",
            "383       0.832061       0.791391           0.832289  \n",
            "384       0.832061       0.791391           0.832289  \n",
            "385       0.830534       0.790083           0.830800  \n",
            "386       0.832061       0.791391           0.832289  \n",
            "387       0.832061       0.791391           0.832289  \n",
            "388       0.833588       0.792703           0.833778  \n",
            "389       0.832061       0.791391           0.832289  \n",
            "390       0.832061       0.791391           0.832289  \n",
            "391       0.832061       0.791391           0.832289  \n",
            "392       0.832061       0.791391           0.832289  \n",
            "393       0.832061       0.791391           0.832289  \n",
            "394       0.832061       0.791391           0.832289  \n",
            "395       0.832061       0.791391           0.832289  \n",
            "396       0.832061       0.791391           0.832289  \n",
            "397       0.832061       0.791391           0.832289  \n",
            "398       0.832061       0.791391           0.832289  \n",
            "399       0.832061       0.791391           0.832289  \n"
          ]
        }
      ],
      "source": [
        "pd.set_option('display.max_columns', None) #显示所有列\n",
        "pd.set_option('display.max_rows', None) #显示所有行\n",
        "\n",
        "print(result)"
      ]
    }
  ],
  "metadata": {
    "accelerator": "GPU",
    "colab": {
      "name": "Multi-Hop v1.ipynb",
      "provenance": [],
      "machine_shape": "hm",
      "authorship_tag": "ABX9TyMfTfON+fhTR7gbtTvCQNC2",
      "include_colab_link": true
    },
    "kernelspec": {
      "display_name": "Python 3",
      "name": "python3"
    },
    "language_info": {
      "name": "python"
    }
  },
  "nbformat": 4,
  "nbformat_minor": 0
}